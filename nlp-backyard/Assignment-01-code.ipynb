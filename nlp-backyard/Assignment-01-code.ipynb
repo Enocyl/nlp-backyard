{
 "cells": [
  {
   "cell_type": "markdown",
   "metadata": {},
   "source": [
    "# 1.自定义语料，生成句子"
   ]
  },
  {
   "cell_type": "code",
   "execution_count": 5,
   "metadata": {},
   "outputs": [],
   "source": [
    "#系统授权用户\n",
    "admin = \"\"\"\n",
    "admin = 称呼 目标 活动 \n",
    "称呼 = 艾拉, | 艾拉你好, | null\n",
    "目标 = 介词 受众 | null\n",
    "介词 = 给 | 帮\n",
    "受众 = 我 | 他人 \n",
    "他人 = 王先生 | 李小姐 | 小周 | 小赵\n",
    "活动 = 工作活动 | 日常活动\n",
    "工作活动 = 工作动作 工作内容\n",
    "工作动作 = 发送 | 写 | 回复\n",
    "工作内容 = 一封邮件 | 一条信息\n",
    "日常活动 = 启停 电器 | 控制描述\n",
    "启停 = 打开 | 关闭 |  开 | 关 \n",
    "电器 = 空调 | 灯 | 空净 | 热水器 | 电视\n",
    "控制描述 = 空调控制 | 灯控制 | 空净控制 | 热水器控制 | 电视控制\n",
    "空调控制 = 空调 温度操作 空调温度 \n",
    "温度操作 = 调至 | 调到 | 设定为 \n",
    "空调温度 = 18度 | 19度 | 20度 | 21度 | 22度 | 23度 | 24度 | 25度\n",
    "灯控制 = 灯 灯操作 光度量\n",
    "灯操作 = 亮 | 暗 | 调亮 | 调暗 | 强 | 弱\n",
    "光度量 = 一些 | 一点\n",
    "空净控制 = 空净 空净操作 空净功能\n",
    "空净操作 = 启动 | 关闭\n",
    "空净功能 = 净化模式 | 除湿模式 | 静音模式\n",
    "热水器控制 = 热水器 温度操作 热水温度\n",
    "热水温度 = 38度 | 40度 | 42度 | 44度 | 46度 | 48度 | 50度\n",
    "电视控制 = 电视 温度操作 频道\n",
    "频道 = 1频道 | 2频道 | 3频道 | 4频道 | 5频道 | 6频道 | 7频道 | 8频道\n",
    "\"\"\"\n",
    "#智能语音机器人Ela\n",
    "Ela = \"\"\"\n",
    "Ela = 汇报\n",
    "汇报 = 接受任务 电器 电气操作 状态 | 工作活动\n",
    "接受任务 = 收到, | 遵命, | 没问题, | 好的, | OK, | Bingo,\n",
    "信息接入 = 滴哒, | 主人, | 诶,\n",
    "电器 = 空调 | 灯光 | 空净 | 热水器 | 电视\n",
    "电气操作 = 设定 | 设置 | 调节\n",
    "状态 = 完毕 | 完成 | 结束 | Over\n",
    "工作活动 = TX | RX\n",
    "TX = 接受任务 TX操作 他人 工作内容\n",
    "RX = 信息接入 RX操作 他人 工作内容\n",
    "TX操作 = 发送给 | 回复了\n",
    "RX操作 = 接收到 | 收到\n",
    "他人 = 王先生 | 李小姐 | 小周 | 小赵\n",
    "工作内容 = 一封邮件 | 一条信息 \n",
    "\"\"\""
   ]
  },
  {
   "cell_type": "code",
   "execution_count": 6,
   "metadata": {},
   "outputs": [],
   "source": [
    "import random\n"
   ]
  },
  {
   "cell_type": "code",
   "execution_count": 7,
   "metadata": {},
   "outputs": [],
   "source": [
    "def grammar(material,com_mark='\\n',spec_mark='=>'):\n",
    "    gram = {}\n",
    "    for entry in material.split(com_mark):            #按\\n划分各行\n",
    "        if not entry.strip(): continue                      #滤掉非空格或\\n\n",
    "        rule,value = entry.split(spec_mark)\n",
    "        rule = rule.strip()\n",
    "        value = value.strip()\n",
    "        gram[rule] = [v.split() for v in value.split('|')]  #得到语法结构\n",
    "    return gram"
   ]
  },
  {
   "cell_type": "code",
   "execution_count": 8,
   "metadata": {},
   "outputs": [],
   "source": [
    "def generator(gram = {},target = 'sentence'): \n",
    "    result = ''\n",
    "    if target not in gram:\n",
    "        return target\n",
    "    recv = [generator(gram,t) for t in random.choice(gram[target])]\n",
    "    result = ''.join([r for r in recv if r!='null'])\n",
    "    return result"
   ]
  },
  {
   "cell_type": "code",
   "execution_count": 9,
   "metadata": {},
   "outputs": [
    {
     "data": {
      "text/plain": [
       "{'admin': [['称呼', '目标', '活动']],\n",
       " '称呼': [['艾拉,'], ['艾拉你好,'], ['null']],\n",
       " '目标': [['介词', '受众'], ['null']],\n",
       " '介词': [['给'], ['帮']],\n",
       " '受众': [['我'], ['他人']],\n",
       " '他人': [['王先生'], ['李小姐'], ['小周'], ['小赵']],\n",
       " '活动': [['工作活动'], ['日常活动']],\n",
       " '工作活动': [['工作动作', '工作内容']],\n",
       " '工作动作': [['发送'], ['写'], ['回复']],\n",
       " '工作内容': [['一封邮件'], ['一条信息']],\n",
       " '日常活动': [['启停', '电器'], ['控制描述']],\n",
       " '启停': [['打开'], ['关闭'], ['开'], ['关']],\n",
       " '电器': [['空调'], ['灯'], ['空净'], ['热水器'], ['电视']],\n",
       " '控制描述': [['空调控制'], ['灯控制'], ['空净控制'], ['热水器控制'], ['电视控制']],\n",
       " '空调控制': [['空调', '温度操作', '空调温度']],\n",
       " '温度操作': [['调至'], ['调到'], ['设定为']],\n",
       " '空调温度': [['18度'],\n",
       "  ['19度'],\n",
       "  ['20度'],\n",
       "  ['21度'],\n",
       "  ['22度'],\n",
       "  ['23度'],\n",
       "  ['24度'],\n",
       "  ['25度']],\n",
       " '灯控制': [['灯', '灯操作', '光度量']],\n",
       " '灯操作': [['亮'], ['暗'], ['调亮'], ['调暗'], ['强'], ['弱']],\n",
       " '光度量': [['一些'], ['一点']],\n",
       " '空净控制': [['空净', '空净操作', '空净功能']],\n",
       " '空净操作': [['启动'], ['关闭']],\n",
       " '空净功能': [['净化模式'], ['除湿模式'], ['静音模式']],\n",
       " '热水器控制': [['热水器', '温度操作', '热水温度']],\n",
       " '热水温度': [['38度'], ['40度'], ['42度'], ['44度'], ['46度'], ['48度'], ['50度']],\n",
       " '电视控制': [['电视', '温度操作', '频道']],\n",
       " '频道': [['1频道'],\n",
       "  ['2频道'],\n",
       "  ['3频道'],\n",
       "  ['4频道'],\n",
       "  ['5频道'],\n",
       "  ['6频道'],\n",
       "  ['7频道'],\n",
       "  ['8频道']]}"
      ]
     },
     "execution_count": 9,
     "metadata": {},
     "output_type": "execute_result"
    }
   ],
   "source": [
    "grammar(admin,spec_mark='=')"
   ]
  },
  {
   "cell_type": "code",
   "execution_count": 10,
   "metadata": {},
   "outputs": [
    {
     "data": {
      "text/plain": [
       "'给王先生电视设定为6频道'"
      ]
     },
     "execution_count": 10,
     "metadata": {},
     "output_type": "execute_result"
    }
   ],
   "source": [
    "generator(grammar(admin,spec_mark='='),'admin')"
   ]
  },
  {
   "cell_type": "code",
   "execution_count": 11,
   "metadata": {},
   "outputs": [
    {
     "data": {
      "text/plain": [
       "'好的,回复了小周一封邮件'"
      ]
     },
     "execution_count": 11,
     "metadata": {},
     "output_type": "execute_result"
    }
   ],
   "source": [
    "generator(grammar(Ela,spec_mark='='),'Ela')"
   ]
  },
  {
   "cell_type": "code",
   "execution_count": 12,
   "metadata": {},
   "outputs": [],
   "source": [
    "def generator_n(n):\n",
    "    sen = []\n",
    "    #print('Admin生成{}个句子:'.format(n))\n",
    "    #print('')\n",
    "    for i in range(n):\n",
    "        s = generator(grammar(admin,spec_mark='='),'admin')\n",
    "        sen+=[s]\n",
    "        #print(s)\n",
    "    #print('')\n",
    "    #print('Ela生成{}个句子:'.format(n))\n",
    "    #print('')\n",
    "    for i in range(n):\n",
    "        s = generator(grammar(Ela,spec_mark='='),'Ela')\n",
    "        sen+=[s]\n",
    "        #print(s)\n",
    "    return sen"
   ]
  },
  {
   "cell_type": "code",
   "execution_count": 13,
   "metadata": {},
   "outputs": [
    {
     "data": {
      "text/plain": [
       "['艾拉你好,帮我回复一条信息',\n",
       " '艾拉你好,给小赵开电视',\n",
       " '给我回复一条信息',\n",
       " '帮小赵空净启动净化模式',\n",
       " '帮我灯暗一点',\n",
       " '帮我空净启动净化模式',\n",
       " '艾拉,热水器设定为48度',\n",
       " '艾拉,帮小周关闭空调',\n",
       " '艾拉你好,回复一条信息',\n",
       " '给我回复一条信息',\n",
       " '艾拉,给我写一条信息',\n",
       " '艾拉你好,灯强一点',\n",
       " '电视调至6频道',\n",
       " '艾拉,给我热水器设定为50度',\n",
       " '空调调到18度',\n",
       " '艾拉你好,开灯',\n",
       " '关空调',\n",
       " '艾拉你好,写一封邮件',\n",
       " '艾拉,灯调暗一点',\n",
       " '艾拉你好,回复一封邮件',\n",
       " '滴哒,收到李小姐一封邮件',\n",
       " '没问题,空净设置结束',\n",
       " '收到,发送给小赵一条信息',\n",
       " '滴哒,收到王先生一条信息',\n",
       " '诶,接收到王先生一条信息',\n",
       " '没问题,空调设定完成',\n",
       " '收到,空调调节完毕',\n",
       " 'OK,热水器设置结束',\n",
       " '收到,热水器调节结束',\n",
       " '没问题,灯光调节结束',\n",
       " '没问题,回复了王先生一条信息',\n",
       " '诶,收到小赵一封邮件',\n",
       " '滴哒,接收到李小姐一条信息',\n",
       " '遵命,灯光设置完成',\n",
       " '诶,收到小周一条信息',\n",
       " '没问题,发送给王先生一封邮件',\n",
       " 'OK,电视设定结束',\n",
       " '收到,空净设置完成',\n",
       " '遵命,电视设置结束',\n",
       " 'Bingo,热水器设定结束']"
      ]
     },
     "execution_count": 13,
     "metadata": {},
     "output_type": "execute_result"
    }
   ],
   "source": [
    "generator_n(20)"
   ]
  },
  {
   "cell_type": "markdown",
   "metadata": {},
   "source": [
    "# 2. 处理新语料，训练模型"
   ]
  },
  {
   "cell_type": "markdown",
   "metadata": {},
   "source": [
    "### 保险行业问询对话集"
   ]
  },
  {
   "cell_type": "code",
   "execution_count": 14,
   "metadata": {},
   "outputs": [
    {
     "name": "stdout",
     "output_type": "stream",
     "text": [
      "1343520\n",
      "0 ++$++ disability-insurance ++$++ 法律要求残疾保险吗？ ++$++ Is  Disability  Insurance  Required  By  Law?\n",
      "1 ++$++ life-insurance ++$++ 债权人可以在死后人寿保险吗？ ++$++ Can  Creditors  Take  Life  Insurance  After  Death?\n",
      "2 ++$++ renters-insurance ++$++ 旅行者保险有租赁保险吗？ ++$++ Does  Travelers  Insurance  Have  Renters  Insurance?\n",
      "3 ++$++ auto-insurance ++$++ 我可以开一辆没有保险的新车吗？ ++$++ Can  I  Drive  A  New  Car  Home  Without  Insurance?\n",
      "4 ++$++ life-insurance ++$++ 人寿保险的现金转出价值是否应纳税？ ++$++ Is  The  Cash  Surrender  Value  Of \n"
     ]
    }
   ],
   "source": [
    "with open('train.txt','r',encoding = 'UTF-8') as file:\n",
    "    raw = file.read()\n",
    "    print(len(raw))\n",
    "    print(raw[:500])\n",
    "    "
   ]
  },
  {
   "cell_type": "code",
   "execution_count": 15,
   "metadata": {},
   "outputs": [],
   "source": [
    "import re\n",
    "insu_txt = [re.sub('[\\W+0-9a-zA-Z]','',raw)]"
   ]
  },
  {
   "cell_type": "code",
   "execution_count": 16,
   "metadata": {},
   "outputs": [
    {
     "data": {
      "text/plain": [
       "145084"
      ]
     },
     "execution_count": 16,
     "metadata": {},
     "output_type": "execute_result"
    }
   ],
   "source": [
    "len(insu_txt[0])"
   ]
  },
  {
   "cell_type": "markdown",
   "metadata": {},
   "source": [
    "### 豆瓣电影评论集"
   ]
  },
  {
   "cell_type": "code",
   "execution_count": 17,
   "metadata": {},
   "outputs": [],
   "source": [
    "import pandas as pd"
   ]
  },
  {
   "cell_type": "code",
   "execution_count": 18,
   "metadata": {},
   "outputs": [],
   "source": [
    "gen = pd.read_csv('movie_comments.csv',iterator = True)"
   ]
  },
  {
   "cell_type": "code",
   "execution_count": 19,
   "metadata": {
    "scrolled": true
   },
   "outputs": [
    {
     "name": "stderr",
     "output_type": "stream",
     "text": [
      "IOPub data rate exceeded.\n",
      "The notebook server will temporarily stop sending output\n",
      "to the client in order to avoid crashing it.\n",
      "To change this limit, set the config variable\n",
      "`--NotebookApp.iopub_data_rate_limit`.\n",
      "\n",
      "Current values:\n",
      "NotebookApp.iopub_data_rate_limit=1000000.0 (bytes/sec)\n",
      "NotebookApp.rate_limit_window=3.0 (secs)\n",
      "\n"
     ]
    },
    {
     "name": "stdout",
     "output_type": "stream",
     "text": [
      "261block is processed....\n"
     ]
    }
   ],
   "source": [
    "i = 0\n",
    "comment_txt = []\n",
    "while True:\n",
    "    try:\n",
    "        #df = gen.get_chunk(1000)['comment']\n",
    "        seg = [''.join([re.sub('[\\W+a-zA-Z0-9]','',''.join(gen.get_chunk(1000)['comment'].tolist()))])]\n",
    "        comment_txt = [''.join(comment_txt+seg)]\n",
    "        i+=1\n",
    "        if i <10:\n",
    "            print(comment_txt)\n",
    "    except StopIteration:\n",
    "        print('{}block is processed....'.format(i))\n",
    "        break\n",
    "    except TypeError:\n",
    "        #print('segment:',seg,type(seg),type(seg[0]))\n",
    "        comment_txt = [''.join(comment_txt+seg)]\n",
    "        continue"
   ]
  },
  {
   "cell_type": "code",
   "execution_count": 20,
   "metadata": {},
   "outputs": [
    {
     "data": {
      "text/plain": [
       "7492366"
      ]
     },
     "execution_count": 20,
     "metadata": {},
     "output_type": "execute_result"
    }
   ],
   "source": [
    "len(comment_txt[0])"
   ]
  },
  {
   "cell_type": "markdown",
   "metadata": {},
   "source": [
    "### 合并两个数集"
   ]
  },
  {
   "cell_type": "code",
   "execution_count": 21,
   "metadata": {},
   "outputs": [],
   "source": [
    "train_data = ''.join(insu_txt + comment_txt)"
   ]
  },
  {
   "cell_type": "code",
   "execution_count": 22,
   "metadata": {},
   "outputs": [
    {
     "data": {
      "text/plain": [
       "7637450"
      ]
     },
     "execution_count": 22,
     "metadata": {},
     "output_type": "execute_result"
    }
   ],
   "source": [
    "len(train_data)"
   ]
  },
  {
   "cell_type": "markdown",
   "metadata": {},
   "source": [
    "### 对train集进行jieba分词"
   ]
  },
  {
   "cell_type": "code",
   "execution_count": 23,
   "metadata": {},
   "outputs": [],
   "source": [
    "import jieba\n",
    "def cut(str):\n",
    "    return jieba.lcut(str)"
   ]
  },
  {
   "cell_type": "code",
   "execution_count": 24,
   "metadata": {},
   "outputs": [
    {
     "name": "stderr",
     "output_type": "stream",
     "text": [
      "Building prefix dict from the default dictionary ...\n",
      "Loading model from cache C:\\Users\\ENOCH\\AppData\\Local\\Temp\\jieba.cache\n",
      "Loading model cost 0.592 seconds.\n",
      "Prefix dict has been built succesfully.\n"
     ]
    }
   ],
   "source": [
    "TOKEN = cut(train_data)"
   ]
  },
  {
   "cell_type": "code",
   "execution_count": 25,
   "metadata": {},
   "outputs": [
    {
     "data": {
      "text/plain": [
       "['法律',\n",
       " '要求',\n",
       " '残疾',\n",
       " '保险',\n",
       " '吗',\n",
       " '债权人',\n",
       " '可以',\n",
       " '在',\n",
       " '死',\n",
       " '后',\n",
       " '人寿保险',\n",
       " '吗',\n",
       " '旅行者',\n",
       " '保险',\n",
       " '有',\n",
       " '租赁',\n",
       " '保险',\n",
       " '吗',\n",
       " '我',\n",
       " '可以']"
      ]
     },
     "execution_count": 25,
     "metadata": {},
     "output_type": "execute_result"
    }
   ],
   "source": [
    "TOKEN[:20]"
   ]
  },
  {
   "cell_type": "markdown",
   "metadata": {},
   "source": [
    "### 统计单个词词频"
   ]
  },
  {
   "cell_type": "code",
   "execution_count": 26,
   "metadata": {},
   "outputs": [],
   "source": [
    "from collections import Counter as cnt\n",
    "word_cnt = cnt(TOKEN)"
   ]
  },
  {
   "cell_type": "code",
   "execution_count": 27,
   "metadata": {},
   "outputs": [
    {
     "data": {
      "text/plain": [
       "[('的', 331369),\n",
       " ('了', 102598),\n",
       " ('是', 75867),\n",
       " ('我', 52631),\n",
       " ('都', 36276),\n",
       " ('很', 34813),\n",
       " ('看', 33801),\n",
       " ('电影', 33640),\n",
       " ('在', 32100),\n",
       " ('也', 32099),\n",
       " ('和', 31404),\n",
       " ('不', 28634),\n",
       " ('有', 28619),\n",
       " ('就', 25682),\n",
       " ('人', 23859),\n",
       " ('好', 22689),\n",
       " ('啊', 20787),\n",
       " ('你', 18137),\n",
       " ('这', 17931),\n",
       " ('一个', 17567)]"
      ]
     },
     "execution_count": 27,
     "metadata": {},
     "output_type": "execute_result"
    }
   ],
   "source": [
    "word_cnt.most_common(20)"
   ]
  },
  {
   "cell_type": "code",
   "execution_count": 28,
   "metadata": {
    "scrolled": true
   },
   "outputs": [
    {
     "data": {
      "text/plain": [
       "4478587"
      ]
     },
     "execution_count": 28,
     "metadata": {},
     "output_type": "execute_result"
    }
   ],
   "source": [
    "len(TOKEN)"
   ]
  },
  {
   "cell_type": "markdown",
   "metadata": {},
   "source": [
    "### 2-gram合词"
   ]
  },
  {
   "cell_type": "code",
   "execution_count": 29,
   "metadata": {},
   "outputs": [],
   "source": [
    "def TOKEN_2gram(token=[]):\n",
    "    return [''.join(token[i]+token[i+1]) for i in range(len(token[:-1]))]"
   ]
  },
  {
   "cell_type": "code",
   "execution_count": 30,
   "metadata": {},
   "outputs": [],
   "source": [
    "TOKEN_2 = TOKEN_2gram(TOKEN)"
   ]
  },
  {
   "cell_type": "code",
   "execution_count": 31,
   "metadata": {},
   "outputs": [
    {
     "data": {
      "text/plain": [
       "['法律要求',\n",
       " '要求残疾',\n",
       " '残疾保险',\n",
       " '保险吗',\n",
       " '吗债权人',\n",
       " '债权人可以',\n",
       " '可以在',\n",
       " '在死',\n",
       " '死后',\n",
       " '后人寿保险',\n",
       " '人寿保险吗',\n",
       " '吗旅行者',\n",
       " '旅行者保险',\n",
       " '保险有',\n",
       " '有租赁',\n",
       " '租赁保险',\n",
       " '保险吗',\n",
       " '吗我',\n",
       " '我可以',\n",
       " '可以开']"
      ]
     },
     "execution_count": 31,
     "metadata": {},
     "output_type": "execute_result"
    }
   ],
   "source": [
    "TOKEN_2[:20]"
   ]
  },
  {
   "cell_type": "markdown",
   "metadata": {},
   "source": [
    "### 统计2-gram词频"
   ]
  },
  {
   "cell_type": "code",
   "execution_count": 32,
   "metadata": {},
   "outputs": [],
   "source": [
    "word_2_cnt = cnt(TOKEN_2)"
   ]
  },
  {
   "cell_type": "code",
   "execution_count": 33,
   "metadata": {},
   "outputs": [
    {
     "data": {
      "text/plain": [
       "[('的电影', 8674),\n",
       " ('看的', 7144),\n",
       " ('都是', 6335),\n",
       " ('让人', 5275),\n",
       " ('的故事', 4725),\n",
       " ('看了', 4545),\n",
       " ('的是', 4435),\n",
       " ('的时候', 4421),\n",
       " ('也是', 4409),\n",
       " ('的人', 4365),\n",
       " ('我的', 4235),\n",
       " ('看完', 3725),\n",
       " ('的片子', 3358),\n",
       " ('让我', 3279),\n",
       " ('这样的', 2858),\n",
       " ('这部电影', 2724),\n",
       " ('很好', 2620),\n",
       " ('电影的', 2575),\n",
       " ('不知道', 2538),\n",
       " ('的感觉', 2511)]"
      ]
     },
     "execution_count": 33,
     "metadata": {},
     "output_type": "execute_result"
    }
   ],
   "source": [
    "word_2_cnt.most_common(20)"
   ]
  },
  {
   "cell_type": "markdown",
   "metadata": {},
   "source": [
    "### 单个word出现概率----P(Wn)"
   ]
  },
  {
   "cell_type": "code",
   "execution_count": 34,
   "metadata": {},
   "outputs": [],
   "source": [
    "def prob1(word=''):\n",
    "    if word not in word_cnt: \n",
    "        #print(word,'is not in Token!')\n",
    "        return 1/len(TOKEN)\n",
    "    return word_cnt[word]/len(TOKEN) "
   ]
  },
  {
   "cell_type": "markdown",
   "metadata": {},
   "source": [
    "### P(Wn|Wn-1) = P(WnWn-1)/P(Wn-1)"
   ]
  },
  {
   "cell_type": "code",
   "execution_count": 35,
   "metadata": {},
   "outputs": [],
   "source": [
    "def prob2(word1,word2):     #计算P(W2|W1) = P(W1W2)/P(W1)\n",
    "    if word1+word2 in TOKEN_2:\n",
    "        return word_2_cnt[word1+word2]/len(TOKEN_2)/prob1(word1)\n",
    "        #return word_2_cnt[word1+word2]/len(TOKEN_2)            \n",
    "    else :\n",
    "        return 1/len(TOKEN_2)/prob1(word1)\n",
    "        #return 1/len(TOKEN_2)"
   ]
  },
  {
   "cell_type": "markdown",
   "metadata": {},
   "source": [
    "### 以2-gram模型计算句子概率\n",
    "$$ 2-gram: Pr(w_1 w_2 w_3 ... w_n) \\sim Pr(w_1) * Pr(w_2 | w_1 ) * P(w3 | w_2 ) * ... * Pr(w_(n-1) | w_n) $$"
   ]
  },
  {
   "cell_type": "code",
   "execution_count": 36,
   "metadata": {},
   "outputs": [],
   "source": [
    "def prob_sentence(str,scheme = '2gram'):\n",
    "    str_token = cut(str)\n",
    "    prob = 1\n",
    "    if scheme == '2gram':\n",
    "        for i,word in enumerate(str_token[:-1]):\n",
    "            if i == 0 :\n",
    "                prob*=prob1(word)\n",
    "            else :\n",
    "                word_ = str_token[i+1]\n",
    "                prob*=prob2(word,word_)\n",
    "    elif scheme == '3gram':\n",
    "        for i,word in enumerate(str_token[:-2]):\n",
    "            if i == 0:\n",
    "                word1 = str_token[i+1]\n",
    "                prob *= prob2(word,word1)*prob1(word)\n",
    "            else :\n",
    "                word1 = str_token[i+1]\n",
    "                word2 = str_token[i+2]\n",
    "                prob *= prob3(word,word1,word2)\n",
    "    return prob"
   ]
  },
  {
   "cell_type": "markdown",
   "metadata": {},
   "source": [
    "### 获得生成句组的概率"
   ]
  },
  {
   "cell_type": "code",
   "execution_count": 37,
   "metadata": {},
   "outputs": [],
   "source": [
    "def probs(sens = [],scheme='2gram'):\n",
    "    pbs = []\n",
    "    i = 0\n",
    "    for sen in sens:\n",
    "        p = prob_sentence(sen,scheme)\n",
    "        pbs+= [p]\n",
    "        i+=1\n",
    "        #print('>>>P(\\'{}\\') = {}'.format(sen,p))\n",
    "        print('\\r Counting Probility for %s .... %.1f%%'%(scheme,i/len(sens)*100),end = '')\n",
    "    return list(zip(sens,pbs))  "
   ]
  },
  {
   "cell_type": "code",
   "execution_count": 38,
   "metadata": {
    "scrolled": true
   },
   "outputs": [
    {
     "name": "stdout",
     "output_type": "stream",
     "text": [
      " Counting Probility for 2gram .... 100.0%"
     ]
    }
   ],
   "source": [
    "pbs = probs(generator_n(20))"
   ]
  },
  {
   "cell_type": "code",
   "execution_count": 39,
   "metadata": {},
   "outputs": [],
   "source": [
    "def generate_best(pbs):\n",
    "    best = sorted(pbs,key=lambda x:x[1],reverse=True)[0]\n",
    "    print('最合理的句子：{}\\n其概率：{}'.format(best[0],best[1]))\n",
    "    return sorted(pbs,key=lambda x:x[1],reverse=True)"
   ]
  },
  {
   "cell_type": "code",
   "execution_count": 40,
   "metadata": {
    "scrolled": false
   },
   "outputs": [
    {
     "name": "stdout",
     "output_type": "stream",
     "text": [
      "最合理的句子：打开空调\n",
      "其概率：3.8404970139019296e-05\n"
     ]
    },
    {
     "data": {
      "text/plain": [
       "[('打开空调', 3.8404970139019296e-05),\n",
       " ('给李小姐打开热水器', 1.3338671051910428e-05),\n",
       " ('热水器调到46度', 6.698544294682028e-07),\n",
       " ('灯强一些', 2.2328471011057728e-07),\n",
       " ('帮小周关闭热水器', 1.5948911426189297e-08),\n",
       " ('主人,收到李小姐一封邮件', 1.2086647524683127e-08),\n",
       " ('没问题,热水器调节完成', 9.033573319520946e-09),\n",
       " ('收到,发送给王先生一条信息', 8.986699145368929e-09),\n",
       " ('艾拉,关热水器', 3.5442033305195906e-09),\n",
       " ('给我空净启动除湿模式', 3.353175074461036e-09),\n",
       " ('主人,收到小赵一封邮件', 2.4173295049366253e-09),\n",
       " ('艾拉你好,开空净', 2.126521998311754e-09),\n",
       " ('OK,热水器调节结束', 1.9586391199897314e-09),\n",
       " ('遵命,发送给小赵一封邮件', 1.6539622928513753e-09),\n",
       " ('收到,灯光设置完成', 2.324254369592459e-10),\n",
       " ('帮我热水器调至40度', 1.6474886132266797e-10),\n",
       " ('艾拉你好,空净关闭除湿模式', 1.518945301979953e-10),\n",
       " ('好的,发送给王先生一封邮件', 1.415595561204289e-10),\n",
       " ('艾拉,回复一条信息', 6.912843952904932e-11),\n",
       " ('没问题,空调设置结束', 6.450531527875901e-11),\n",
       " ('好的,灯光调节完毕', 8.295403498281714e-12),\n",
       " ('艾拉,给王先生开空净', 5.432721646686846e-12),\n",
       " ('遵命,灯光设置结束', 4.469719941523959e-12),\n",
       " ('好的,热水器设定完毕', 2.1340631836031825e-12),\n",
       " ('遵命,灯光设定结束', 1.927894279635543e-12),\n",
       " ('艾拉你好,发送一条信息', 1.3167324755119305e-12),\n",
       " ('好的,空调设置完毕', 9.57621587681378e-13),\n",
       " ('OK,电视设置完成', 7.840195919128824e-13),\n",
       " ('遵命,电视设置Over', 7.840195919128824e-13),\n",
       " ('艾拉你好,帮小赵回复一条信息', 6.583663847591126e-13),\n",
       " ('艾拉,写一条信息', 6.478766591288597e-13),\n",
       " ('艾拉,给我开空净', 2.6136024794153813e-13),\n",
       " ('滴哒,接收到王先生一封邮件', 1.808431660903699e-14),\n",
       " ('Bingo,回复了李小姐一封邮件', 8.060404014483462e-15),\n",
       " ('Bingo,回复了李小姐一封邮件', 8.060404014483462e-15),\n",
       " ('滴哒,接收到小周一条信息', 3.023384200891633e-15),\n",
       " ('艾拉你好,给我开空净', 2.489145774279032e-15),\n",
       " ('艾拉,给小赵灯弱一点', 1.7388865067601627e-16),\n",
       " ('艾拉,给李小姐写一条信息', 6.305371761078934e-17),\n",
       " ('艾拉你好,给我打开热水器', 2.8943561977527304e-17)]"
      ]
     },
     "execution_count": 40,
     "metadata": {},
     "output_type": "execute_result"
    }
   ],
   "source": [
    "generate_best(pbs)"
   ]
  },
  {
   "cell_type": "markdown",
   "metadata": {},
   "source": [
    "### 尝试3-gram"
   ]
  },
  {
   "cell_type": "code",
   "execution_count": 42,
   "metadata": {},
   "outputs": [],
   "source": [
    "def TOKEN_3_gram(token):\n",
    "    return [''.join(token[i]+token[i+1]+token[i+2]) for i in range(len(token[:-2]))]"
   ]
  },
  {
   "cell_type": "code",
   "execution_count": 43,
   "metadata": {},
   "outputs": [],
   "source": [
    "TOKEN_3 = TOKEN_3_gram(TOKEN)"
   ]
  },
  {
   "cell_type": "code",
   "execution_count": 44,
   "metadata": {},
   "outputs": [],
   "source": [
    "word_3_cnt = cnt(TOKEN_3)"
   ]
  },
  {
   "cell_type": "code",
   "execution_count": 45,
   "metadata": {},
   "outputs": [
    {
     "data": {
      "text/plain": [
       "[('看完了', 697),\n",
       " ('每个人都', 627),\n",
       " ('最喜欢的', 600),\n",
       " ('挺好的', 555),\n",
       " ('看的时候', 540),\n",
       " ('很好的', 523),\n",
       " ('的一部电影', 453),\n",
       " ('的都是', 432),\n",
       " ('还是不错的', 419),\n",
       " ('就好了', 408),\n",
       " ('挺好看的', 406),\n",
       " ('的时候我', 404),\n",
       " ('保险是否覆盖', 401),\n",
       " ('长期护理保险', 366),\n",
       " ('更多的', 360),\n",
       " ('是我的', 349),\n",
       " ('我看的', 347),\n",
       " ('哈哈哈哈哈哈哈哈哈', 346),\n",
       " ('去看的', 341),\n",
       " ('这样的电影', 337)]"
      ]
     },
     "execution_count": 45,
     "metadata": {},
     "output_type": "execute_result"
    }
   ],
   "source": [
    "word_3_cnt.most_common(20)"
   ]
  },
  {
   "cell_type": "markdown",
   "metadata": {},
   "source": [
    "### P(Wn|Wn-1Wn-2) = P(WnWn-1Wn-2)/P(Wn-1Wn-2)\n",
    "$$ 3-gram: Pr(w_1 w_2 w_3 ... w_n) \\sim Pr(w_1w2) * Pr(w_3 | w_2 w_1 ) * ... * Pr(w_(n) |w(n-1)w(n-2)) $$"
   ]
  },
  {
   "cell_type": "code",
   "execution_count": 46,
   "metadata": {},
   "outputs": [],
   "source": [
    "def prob3(word1,word2,word3):\n",
    "    if word1+word2+word3 in word_3_cnt: return word_3_cnt[word1+word2+word3]/len(TOKEN_3)/prob2(word1,word2)/prob1(word1)\n",
    "    else: return 1/len(TOKEN_3)/prob2(word1,word2)/prob1(word1)"
   ]
  },
  {
   "cell_type": "code",
   "execution_count": 47,
   "metadata": {},
   "outputs": [],
   "source": [
    "ses = generator_n(20)"
   ]
  },
  {
   "cell_type": "code",
   "execution_count": 48,
   "metadata": {},
   "outputs": [],
   "source": [
    "def comp2and3(ses):\n",
    "    pbs2 = probs(ses,scheme='2gram')\n",
    "    pbs3 = probs(ses,scheme='3gram')\n",
    "    for i in range(len(ses)):\n",
    "        print('{}:P2 ={}...P3={}'.format(pbs2[i][0],pbs2[i][1],pbs3[i][1]))"
   ]
  },
  {
   "cell_type": "code",
   "execution_count": 49,
   "metadata": {
    "scrolled": false
   },
   "outputs": [
    {
     "name": "stdout",
     "output_type": "stream",
     "text": [
      " Counting Probility for 3gram .... 100.0%艾拉你好,帮李小姐灯暗一些:P2 =9.126709968978258e-12...P3=2.232849593910977e-07\n",
      "艾拉你好,写一条信息:P2 =6.17025527418899e-15...P3=2.2328490953496917e-07\n",
      "艾拉,发送一条信息:P2 =1.3825687905809864e-10...P3=2.2328485967885164e-07\n",
      "艾拉你好,帮我发送一封邮件:P2 =2.569028676053755e-17...P3=1.1164250462361871e-08\n",
      "写一条信息:P2 =7.37600120385188e-07...P3=2.2328475996665018e-07\n",
      "艾拉,给我空净关闭静音模式:P2 =4.667150410979606e-15...P3=3.527409308803119e-10\n",
      "艾拉你好,空净启动静音模式:P2 =4.0894681207152574e-11...P3=2.2328495939109776e-07\n",
      "艾拉,给小赵打开空净:P2 =2.6285493706839665e-17...P3=3.3831054453196625e-09\n",
      "艾拉,给我关空净:P2 =2.6136024794153813e-13...P3=3.5274069459534227e-10\n",
      "艾拉,帮小赵写一封邮件:P2 =8.269811464256877e-09...P3=2.2328490953496917e-07\n",
      "艾拉,灯暗一点:P2 =2.2328480982273422e-07...P3=2.2328480982274536e-07\n",
      "艾拉你好,灯弱一些:P2 =2.126522473131708e-09...P3=2.232848596788517e-07\n",
      "艾拉,帮我空净启动静音模式:P2 =7.0030733621273044e-15...P3=1.1164250462361875e-08\n",
      "开电视:P2 =0.00010382739020141844...P3=1\n",
      "给我发送一条信息:P2 =2.6991496120574634e-11...P3=0.00014133931617671313\n",
      "艾拉,给李小姐回复一封邮件:P2 =8.048480107814836e-14...P3=2.232849593910977e-07\n",
      "艾拉你好,给小赵关热水器:P2 =1.0333954097317538e-15...P3=6.766210890639325e-09\n",
      "艾拉,给我开热水器:P2 =4.496521398697606e-15...P3=4.4092596669622654e-11\n",
      "艾拉你好,帮小赵开热水器:P2 =2.1265229479517684e-09...P3=2.2328490953496917e-07\n",
      "发送一封邮件:P2 =4.134902962345374e-08...P3=2.2328475996665018e-07\n",
      "收到,空净调节Over:P2 =6.110954054367964e-07...P3=2.232848596788517e-07\n",
      "主人,接收到李小姐一条信息:P2 =4.595543985355282e-13...P3=2.2328495939109776e-07\n",
      "收到,空调设定完成:P2 =3.136870563381187e-10...P3=2.232848596788517e-07\n",
      "遵命,热水器设定结束:P2 =3.1167624187441284e-11...P3=2.232848596788517e-07\n",
      "主人,收到李小姐一条信息:P2 =1.0103389571716546e-09...P3=2.2328490953496917e-07\n",
      "Bingo,发送给李小姐一条信息:P2 =6.912845496437637e-10...P3=2.2328490953496917e-07\n",
      "没问题,空净设置Over:P2 =1.99966477364153e-09...P3=1.9202502220007352e-05\n",
      "好的,空净设定完成:P2 =1.2804379101619094e-11...P3=0.000557765704018353\n",
      "遵命,回复了王先生一封邮件:P2 =4.030202007241731e-15...P3=1.1164247969554883e-07\n",
      "收到,回复了小赵一封邮件:P2 =5.813476730910295e-16...P3=5.074659301073575e-10\n",
      "收到,空调调节Over:P2 =1.97127550140902e-08...P3=2.232848596788517e-07\n",
      "主人,收到王先生一封邮件:P2 =3.0216618811707817e-09...P3=2.2328490953496917e-07\n",
      "没问题,热水器设置Over:P2 =3.332774622735883e-10...P3=1.9202502220007352e-05\n",
      "遵命,发送给小周一封邮件:P2 =1.1479777105142617e-14...P3=1.1164247969554885e-07\n",
      "收到,空调设定完成:P2 =3.136870563381187e-10...P3=2.232848596788517e-07\n",
      "收到,灯光调节完毕:P2 =6.299952633369033e-09...P3=2.232848596788517e-07\n",
      "好的,电视设置完成:P2 =5.3682222817581774e-14...P3=0.000557765704018353\n",
      "好的,空调设定完成:P2 =4.13044487149003e-13...P3=0.000557765704018353\n",
      "遵命,空调设定Over:P2 =6.032443391117667e-12...P3=2.232848596788517e-07\n",
      "滴哒,接收到王先生一封邮件:P2 =1.808431660903699e-14...P3=2.2328495939109776e-07\n"
     ]
    }
   ],
   "source": [
    "comp2and3(ses)"
   ]
  },
  {
   "cell_type": "code",
   "execution_count": 50,
   "metadata": {},
   "outputs": [
    {
     "data": {
      "text/plain": [
       "1.00000022328481"
      ]
     },
     "execution_count": 50,
     "metadata": {},
     "output_type": "execute_result"
    }
   ],
   "source": [
    "prob3('看','','到')"
   ]
  },
  {
   "cell_type": "markdown",
   "metadata": {},
   "source": [
    "### 选取另一豆瓣电影评论集的语句做Testset1"
   ]
  },
  {
   "cell_type": "code",
   "execution_count": 51,
   "metadata": {},
   "outputs": [],
   "source": [
    "gen_te = pd.read_csv('DMSC.csv',iterator = True)"
   ]
  },
  {
   "cell_type": "code",
   "execution_count": 52,
   "metadata": {},
   "outputs": [
    {
     "data": {
      "text/plain": [
       "[' 连奥创都知道整容要去韩国']"
      ]
     },
     "execution_count": 52,
     "metadata": {},
     "output_type": "execute_result"
    }
   ],
   "source": [
    "''.join(gen_te.get_chunk(10)['Comment'].tolist()[0].split('。')).split('，')"
   ]
  },
  {
   "cell_type": "code",
   "execution_count": 53,
   "metadata": {},
   "outputs": [
    {
     "name": "stdout",
     "output_type": "stream",
     "text": [
      "test_sentence: 26363\n"
     ]
    }
   ],
   "source": [
    "test_sentence = []\n",
    "j = 0\n",
    "while True:\n",
    "    try:\n",
    "        #df = gen.get_chunk(1000)['comment']\n",
    "        sen_seg = ''.join(gen_te.get_chunk(100)['Comment'].tolist()[0].split('。')).split('，') \n",
    "        j+=1\n",
    "        if j < 10000:\n",
    "            test_sentence += sen_seg\n",
    "        else:\n",
    "            print('test_sentence:',len(test_sentence))\n",
    "            break\n",
    "    except StopIteration:\n",
    "        #print('{}block is processed....'.format(i))\n",
    "        break\n",
    "    except TypeError:\n",
    "        #print('segment:',seg,type(seg),type(seg[0]))\n",
    "        test_sentence += sen_seg \n",
    "        continue\n",
    "    "
   ]
  },
  {
   "cell_type": "code",
   "execution_count": 54,
   "metadata": {},
   "outputs": [
    {
     "data": {
      "text/plain": [
       "[' “一个没有黑暗面的人不值得信任” 第二部剥去冗长的铺垫',\n",
       " '开场即高潮、一直到结束',\n",
       " '会有人觉得只剩动作特技',\n",
       " '不过我还蛮吃这一套联盟阵营“葫芦兄弟、八仙过海”式各显神通依然燃爆；“我有更好的理由不再生气”绿巨黑寡激萌的感情支线；快银兄妹的同情牌…4.27@台北日新威秀影城',\n",
       " ' 视觉效果的极限是视觉疲劳',\n",
       " ' 真不怎么样啊……而且觉得影院字幕的翻译是不是有问题啊快银你就这么死了',\n",
       " '连名字都没能出现过',\n",
       " '真替你不值',\n",
       " '该死的版权复联也就这样了',\n",
       " '好期待正义联盟啊',\n",
       " ' 就是不感兴趣 特别是没看1 又是中文配音',\n",
       " ' 精彩的地方不过十几秒',\n",
       " ' 还好',\n",
       " '只是时光荏苒',\n",
       " '已经不再是cp粉了',\n",
       " ' nice~~~~',\n",
       " ' 嗯…',\n",
       " ' 拍的太不灵巧 一锅乱炖2333只能说和我的预期并不差太多 修罗场什么的（毕竟等了好几年 多少还是被满足 你们这群可爱的老伙计w',\n",
       " ' 一部电影不能全靠彩蛋支撑啊！',\n",
       " ' 小朋友终于没有再说漫威太好看了']"
      ]
     },
     "execution_count": 54,
     "metadata": {},
     "output_type": "execute_result"
    }
   ],
   "source": [
    "test_sentence[:20]"
   ]
  },
  {
   "cell_type": "code",
   "execution_count": 128,
   "metadata": {},
   "outputs": [],
   "source": [
    "test_sentence = [re.sub('\\W+','',t) for t in test_sentence if len(t)>2 and len(t)<40]"
   ]
  },
  {
   "cell_type": "code",
   "execution_count": 139,
   "metadata": {},
   "outputs": [
    {
     "data": {
      "text/plain": [
       "['一个没有黑暗面的人不值得信任第二部剥去冗长的铺垫',\n",
       " '开场即高潮一直到结束',\n",
       " '会有人觉得只剩动作特技',\n",
       " '视觉效果的极限是视觉疲劳',\n",
       " '真不怎么样啊而且觉得影院字幕的翻译是不是有问题啊快银你就这么死了',\n",
       " '连名字都没能出现过',\n",
       " '真替你不值',\n",
       " '该死的版权复联也就这样了',\n",
       " '好期待正义联盟啊',\n",
       " '就是不感兴趣特别是没看1又是中文配音',\n",
       " '精彩的地方不过十几秒',\n",
       " '只是时光荏苒',\n",
       " '已经不再是cp粉了',\n",
       " 'nice',\n",
       " '一部电影不能全靠彩蛋支撑啊',\n",
       " '小朋友终于没有再说漫威太好看了',\n",
       " '看完首映回家',\n",
       " '群戏就是没有重点',\n",
       " '每个人都要顾及到',\n",
       " '这部就是内讧和对付呆呆的奥创']"
      ]
     },
     "execution_count": 139,
     "metadata": {},
     "output_type": "execute_result"
    }
   ],
   "source": [
    "test_sentence[0:20]"
   ]
  },
  {
   "cell_type": "code",
   "execution_count": 152,
   "metadata": {},
   "outputs": [],
   "source": [
    "len_test = [len(t) for t in test_sentence]"
   ]
  },
  {
   "cell_type": "code",
   "execution_count": 153,
   "metadata": {
    "scrolled": true
   },
   "outputs": [
    {
     "data": {
      "text/plain": [
       "39"
      ]
     },
     "execution_count": 153,
     "metadata": {},
     "output_type": "execute_result"
    }
   ],
   "source": [
    "max(len_test)"
   ]
  },
  {
   "cell_type": "code",
   "execution_count": 154,
   "metadata": {},
   "outputs": [],
   "source": [
    "import numpy as np\n",
    "def comp23gram(ses):\n",
    "    #lmax = max([len(t) for t in ses])\n",
    "    #stat = [0 for i in range(lmax//5)]\n",
    "    pbs2 = probs(ses,scheme='2gram')\n",
    "    pbs3 = probs(ses,scheme='3gram')\n",
    "    x = [len(cell[0]) for i,cell in enumerate(pbs2)]\n",
    "    pb2 = 0 - np.log([cell[1] for i,cell in enumerate(pbs2)])\n",
    "    pb3 = 0 - np.log([cell[1] for i,cell in enumerate(pbs3)])\n",
    "        \n",
    "    return x,pb2,pb3"
   ]
  },
  {
   "cell_type": "markdown",
   "metadata": {},
   "source": [
    "### testset1选取500个句子,长度区间∈(0,40)"
   ]
  },
  {
   "cell_type": "code",
   "execution_count": 155,
   "metadata": {},
   "outputs": [
    {
     "name": "stdout",
     "output_type": "stream",
     "text": [
      " Counting Probility for 3gram .... 100.0%"
     ]
    }
   ],
   "source": [
    "x,p2,p3 = comp23gram(test_sentence[:500])"
   ]
  },
  {
   "cell_type": "code",
   "execution_count": 157,
   "metadata": {},
   "outputs": [
    {
     "data": {
      "text/plain": [
       "array([ 60.52444653,  31.42448888,  34.57957809,  34.97235407,\n",
       "        99.54218934,  27.39039918,  23.17461711,  41.03185728,\n",
       "        21.31201109,  42.91979155])"
      ]
     },
     "execution_count": 157,
     "metadata": {},
     "output_type": "execute_result"
    }
   ],
   "source": [
    "p2[:10]"
   ]
  },
  {
   "cell_type": "code",
   "execution_count": 158,
   "metadata": {
    "scrolled": true
   },
   "outputs": [
    {
     "data": {
      "text/plain": [
       "array([ 31.25092424,  17.21193724,  18.84522615,  20.09917911,\n",
       "        53.48219177,  20.22747215,  15.31481793,  17.11627653,\n",
       "        14.51630979,  38.2116119 ])"
      ]
     },
     "execution_count": 158,
     "metadata": {},
     "output_type": "execute_result"
    }
   ],
   "source": [
    "p3[:10]"
   ]
  },
  {
   "cell_type": "code",
   "execution_count": 159,
   "metadata": {},
   "outputs": [],
   "source": [
    "%matplotlib inline"
   ]
  },
  {
   "cell_type": "code",
   "execution_count": 160,
   "metadata": {},
   "outputs": [],
   "source": [
    "import matplotlib.pyplot as plt"
   ]
  },
  {
   "cell_type": "code",
   "execution_count": 179,
   "metadata": {
    "scrolled": false
   },
   "outputs": [],
   "source": [
    "z2 = np.polyfit(x,p2,1)\n",
    "z3 = np.polyfit(x,p3,1)\n",
    "f2 = np.poly1d(z2)\n",
    "f3 = np.poly1d(z3)"
   ]
  },
  {
   "cell_type": "markdown",
   "metadata": {},
   "source": [
    "### 利用今日头条的体育新闻做testset2"
   ]
  },
  {
   "cell_type": "code",
   "execution_count": 162,
   "metadata": {},
   "outputs": [],
   "source": [
    "gen_news = pd.read_excel('sport.xlsx',iterator = True)"
   ]
  },
  {
   "cell_type": "code",
   "execution_count": 163,
   "metadata": {},
   "outputs": [
    {
     "data": {
      "text/plain": [
       "2169"
      ]
     },
     "execution_count": 163,
     "metadata": {},
     "output_type": "execute_result"
    }
   ],
   "source": [
    "len(gen_news['内容'])"
   ]
  },
  {
   "cell_type": "markdown",
   "metadata": {},
   "source": [
    "### 同样选取500个句子，长度区间∈(0,40)"
   ]
  },
  {
   "cell_type": "code",
   "execution_count": 164,
   "metadata": {},
   "outputs": [],
   "source": [
    "news_sens = [re.sub('\\W+','，',n).strip('，') for n in re.sub('？|！|\\?|\\!|；|;','。',''.join(gen_news['内容'][:500])).split('。') if len(n)>0 and len(n)<40]"
   ]
  },
  {
   "cell_type": "code",
   "execution_count": 165,
   "metadata": {
    "scrolled": true
   },
   "outputs": [
    {
     "data": {
      "text/plain": [
       "['她就是最美泳坛女神，刘湘',\n",
       " '这一下令她名声大起，人们都是无比佩服这位长相清纯，实力强大的软妹子',\n",
       " '因为刘湘的心思一直都是放在游泳上面，所以她到现在都还没有谈过恋爱',\n",
       " '在感情当中她是迷茫的又是憧憬的',\n",
       " '她自己也是表示很希望有一段真挚的感情',\n",
       " '而且也表示过自己的另一半只需要真心对自己好，并没有要求太多',\n",
       " '让我们一起祝福她早点找到自己的归属',\n",
       " '雷吉，杰克逊和格里芬是球队阵中最关键的两名球员，但两人都存在一定的伤病隐患',\n",
       " '总体来说，保持格里芬和这种其他球员的健康会是活塞稳住季后赛席位的关键',\n",
       " '目前活塞需要有所补强确实没错，但在交易上还是要选择更明智的方案',\n",
       " '3，进入季后赛这应该是新一年中活塞的头等大事',\n",
       " '在连续两年缺席季后赛的情况下，重返季后赛也将能证明目前球队拥有较为成功的文化',\n",
       " '相比之下，重返季后赛也将能让球队高层对凯西和格里芬的搭档更有信心',\n",
       " '姚明的身份逐渐从一个篮球明星到球队老板再到篮协主席',\n",
       " '三种身份的转变，也让人们对于他的篮球明星属性就渐渐淡忘',\n",
       " '威少的新鞋鞋标竟然在鞋底',\n",
       " 'Why，Not',\n",
       " '威少每次在进入球场时的造型都以，潮人，示人，而这种潮却不是跟风',\n",
       " '在哪里买',\n",
       " '请锁定SNKRS，APP和指定店铺的发售']"
      ]
     },
     "execution_count": 165,
     "metadata": {},
     "output_type": "execute_result"
    }
   ],
   "source": [
    "news_sens[:20]"
   ]
  },
  {
   "cell_type": "markdown",
   "metadata": {},
   "source": [
    "#### 比较2gram与3gram性能"
   ]
  },
  {
   "cell_type": "code",
   "execution_count": 166,
   "metadata": {},
   "outputs": [
    {
     "name": "stdout",
     "output_type": "stream",
     "text": [
      " Counting Probility for 3gram .... 100.0%"
     ]
    }
   ],
   "source": [
    "x_,p2_,p3_ = comp23gram(news_sens)"
   ]
  },
  {
   "cell_type": "code",
   "execution_count": 177,
   "metadata": {},
   "outputs": [],
   "source": [
    "z2_ = np.polyfit(x_,p2_,1)\n",
    "z3_ = np.polyfit(x_,p3_,1)\n",
    "f2_ = np.poly1d(z2_)\n",
    "f3_ = np.poly1d(z3_)"
   ]
  },
  {
   "cell_type": "code",
   "execution_count": 180,
   "metadata": {
    "scrolled": true
   },
   "outputs": [
    {
     "data": {
      "text/plain": [
       "<matplotlib.legend.Legend at 0x2461c5697b8>"
      ]
     },
     "execution_count": 180,
     "metadata": {},
     "output_type": "execute_result"
    },
    {
     "data": {
      "image/png": "[encoded data removed]",
      "text/plain": [
       "<Figure size 432x288 with 1 Axes>"
      ]
     },
     "metadata": {
      "needs_background": "light"
     },
     "output_type": "display_data"
    }
   ],
   "source": [
    "plt.plot(x,f2_(x),label = '2GRAM_SportNews')\n",
    "plt.plot(x,f2(x),label = '2GRAM_Comment')\n",
    "plt.plot(x,f3_(x),label = '3GRAM_SportNews')\n",
    "plt.plot(x,f3(x),label = '3GRAM_Comment')\n",
    "plt.xlabel('String length')\n",
    "plt.ylabel('-log(Probility)')\n",
    "plt.legend()"
   ]
  },
  {
   "cell_type": "markdown",
   "metadata": {},
   "source": [
    "## 关于2gram"
   ]
  },
  {
   "cell_type": "markdown",
   "metadata": {},
   "source": [
    "#### Q: 2gram模型存在什么问题？\n",
    "    \n",
    "#### A: \n",
    "\n",
    "#### 1.句子越长，句子计算概率呈指数递减，对现实合理的句子判断出错概率越高；\n",
    "      \n",
    "#### 2.不同场景测试集，性能存在较大差异；\n",
    "\n",
    "#### Q: 解决办法？\n",
    "    \n",
    "#### A：\n",
    "\n",
    "#### 1.采用3GRAM或者提升N，但需权衡计算时长与精度两项指标；\n",
    "\n",
    "#### 2.针对特定的训练集，测试集采用相似场景数据集；\n",
    "    \n",
    "#### 3.word2vec or RNN？（后续待尝试）"
   ]
  },
  {
   "cell_type": "markdown",
   "metadata": {},
   "source": [
    "# 3.问答作业"
   ]
  },
  {
   "cell_type": "markdown",
   "metadata": {},
   "source": [
    "### 0. Can you come up out 3 sceneraies which use AI methods?"
   ]
  },
  {
   "cell_type": "markdown",
   "metadata": {},
   "source": [
    "#### A: 1. 语音机器人和工业机器人  2. 亚马逊和网飞的推荐系统  3. 金融里的量化领域"
   ]
  },
  {
   "cell_type": "markdown",
   "metadata": {},
   "source": [
    "### 1. How do we use Github; Why do we use Jupyter and Pycharm;"
   ]
  },
  {
   "cell_type": "markdown",
   "metadata": {},
   "source": [
    "#### A: 关于使用github：\n",
    "#### 1. 建立自己的repo，做项目的时候可以上传github实时追踪进度，并且也可以与他人交流学习\n",
    "#### 2. 做研发的时候，可在github上搜索相关主题，fork有价值的代码\n",
    "#### 关于使用Jupyter：Jupyter适合演示和测试，在做小型项目时候很NICE\n",
    "#### 关于使用Pycharm：Pycharm是一个流行且易用的成熟IDE，一般用来开发大型项目 "
   ]
  },
  {
   "cell_type": "markdown",
   "metadata": {},
   "source": [
    "### 2. What's the Probability Model?"
   ]
  },
  {
   "cell_type": "markdown",
   "metadata": {},
   "source": [
    "#### A : Probability Model 计算一句话出现的概率,计算公式:P(W1...Wn) = P(W1)P(W2|W1)P(W3|W1W2)P(W4|W1W2W3)...P(Wn|W1W2...Wn-1)"
   ]
  },
  {
   "cell_type": "markdown",
   "metadata": {},
   "source": [
    "### 3. Can you came up with some sceneraies at which we could use Probability Model?"
   ]
  },
  {
   "cell_type": "markdown",
   "metadata": {},
   "source": [
    "#### A: 编译器；机器翻译；语音机器人；输入法等"
   ]
  },
  {
   "cell_type": "markdown",
   "metadata": {},
   "source": [
    "### 4. Why do we use probability and what's the difficult points for programming based on parsing and pattern match?"
   ]
  },
  {
   "cell_type": "markdown",
   "metadata": {},
   "source": [
    "#### A: 使用概率模型的原因——语言具有：\n",
    "    \n",
    "#### 1.语法多样且复杂(logic)；2.语言具有多样性(diversity)；3.语言结构不规则(unstructured)\n",
    "\n",
    "#### 导致基于模式匹配和规则树设计变得复杂且很难通用，而采用概率模型，就可以使用预训练语料4，统计词组出现的概率，计算生成概率来生\n",
    "\n",
    "#### 成合理的句子，这种方法更具有通用性。"
   ]
  },
  {
   "cell_type": "markdown",
   "metadata": {},
   "source": [
    "## 5. What's the Language Model;"
   ]
  },
  {
   "cell_type": "markdown",
   "metadata": {},
   "source": [
    "#### A: Language Model -- 用f(String)∈(0,1)来评估一句话是否是人话，越接近1越真，反之越假。"
   ]
  },
  {
   "cell_type": "markdown",
   "metadata": {},
   "source": [
    "## 6. Can you came up with some sceneraies at which we could use Language Model?"
   ]
  },
  {
   "cell_type": "markdown",
   "metadata": {},
   "source": [
    "#### A: 语音识别，机器翻译，siri，文本分析"
   ]
  },
  {
   "cell_type": "markdown",
   "metadata": {},
   "source": [
    "## 7. What's the 1-gram language model;"
   ]
  },
  {
   "cell_type": "markdown",
   "metadata": {},
   "source": [
    "#### A: 1-gram是指在一句话里，假定每个词出现都是相互独立的，数学模型--P(W1...Wn) = P(W1)P(W2)P(W3)P(W4)...P(Wn)"
   ]
  },
  {
   "cell_type": "markdown",
   "metadata": {},
   "source": [
    "## 8. What's the disadvantages and advantages of 1-gram language model;"
   ]
  },
  {
   "cell_type": "markdown",
   "metadata": {},
   "source": [
    "#### A：优点：易于计算  缺点：句子都具有内在的语法逻辑，在现实中句中各词都不是独立的，这样会带来很大的误差。"
   ]
  },
  {
   "cell_type": "markdown",
   "metadata": {},
   "source": [
    "## 9. What't the 2-gram models;"
   ]
  },
  {
   "cell_type": "markdown",
   "metadata": {},
   "source": [
    "#### A: 2-gram是指在一句话里，假定每个词出现都只与前一个词相关，数学模型--P(W1...Wn) = P(W1)P(W2|W1)P(W3|W2)...P(Wn|Wn-1)"
   ]
  },
  {
   "cell_type": "code",
   "execution_count": null,
   "metadata": {},
   "outputs": [],
   "source": []
  }
 ],
 "metadata": {
  "kernelspec": {
   "display_name": "Python 3",
   "language": "python",
   "name": "python3"
  },
  "language_info": {
   "codemirror_mode": {
    "name": "ipython",
    "version": 3
   },
   "file_extension": ".py",
   "mimetype": "text/x-python",
   "name": "python",
   "nbconvert_exporter": "python",
   "pygments_lexer": "ipython3",
   "version": "3.6.6"
  }
 },
 "nbformat": 4,
 "nbformat_minor": 2
}
