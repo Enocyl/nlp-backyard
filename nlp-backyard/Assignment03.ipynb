{
 "cells": [
  {
   "cell_type": "markdown",
   "metadata": {},
   "source": [
    "# 1.Max Revenue and Dynamic programming"
   ]
  },
  {
   "cell_type": "code",
   "execution_count": 1,
   "metadata": {},
   "outputs": [],
   "source": [
    "original_price = [1, 5, 8, 9, 10, 17, 17, 20, 24, 30, 35]"
   ]
  },
  {
   "cell_type": "code",
   "execution_count": 2,
   "metadata": {},
   "outputs": [],
   "source": [
    "from collections import defaultdict"
   ]
  },
  {
   "cell_type": "code",
   "execution_count": 3,
   "metadata": {},
   "outputs": [],
   "source": [
    "price = defaultdict(int)"
   ]
  },
  {
   "cell_type": "code",
   "execution_count": 4,
   "metadata": {},
   "outputs": [
    {
     "data": {
      "text/plain": [
       "0"
      ]
     },
     "execution_count": 4,
     "metadata": {},
     "output_type": "execute_result"
    }
   ],
   "source": [
    "price[10]"
   ]
  },
  {
   "cell_type": "code",
   "execution_count": 5,
   "metadata": {},
   "outputs": [],
   "source": [
    "for i,op in enumerate(original_price):\n",
    "    price[i+1] = op"
   ]
  },
  {
   "cell_type": "code",
   "execution_count": 6,
   "metadata": {},
   "outputs": [
    {
     "data": {
      "text/plain": [
       "30"
      ]
     },
     "execution_count": 6,
     "metadata": {},
     "output_type": "execute_result"
    }
   ],
   "source": [
    "price[10]"
   ]
  },
  {
   "cell_type": "code",
   "execution_count": 7,
   "metadata": {},
   "outputs": [
    {
     "data": {
      "text/plain": [
       "0"
      ]
     },
     "execution_count": 7,
     "metadata": {},
     "output_type": "execute_result"
    }
   ],
   "source": [
    "price[20]"
   ]
  },
  {
   "cell_type": "code",
   "execution_count": 8,
   "metadata": {},
   "outputs": [],
   "source": [
    "def r(n):\n",
    "    return max([price[n]]+[r(n-i)+r(i) for i in range(1,n//2+1)])"
   ]
  },
  {
   "cell_type": "code",
   "execution_count": 9,
   "metadata": {},
   "outputs": [
    {
     "data": {
      "text/plain": [
       "60"
      ]
     },
     "execution_count": 9,
     "metadata": {},
     "output_type": "execute_result"
    }
   ],
   "source": [
    "r(20)"
   ]
  },
  {
   "cell_type": "code",
   "execution_count": 10,
   "metadata": {},
   "outputs": [],
   "source": [
    "def r_test(n):\n",
    "    rs = ''\n",
    "    for i in range(1,n//2+1):\n",
    "        rs += ',(r('+str(i)+')+r('+str(n-i)+'))'\n",
    "    print('比较集:','price['+str(n)+']'+rs)\n",
    "    return max([price[n]]+[r(n-i)+r(i) for i in range(1,n//2+1)])"
   ]
  },
  {
   "cell_type": "code",
   "execution_count": 11,
   "metadata": {},
   "outputs": [
    {
     "name": "stdout",
     "output_type": "stream",
     "text": [
      "比较集: price[10],(r(1)+r(9)),(r(2)+r(8)),(r(3)+r(7)),(r(4)+r(6)),(r(5)+r(5))\n"
     ]
    },
    {
     "data": {
      "text/plain": [
       "30"
      ]
     },
     "execution_count": 11,
     "metadata": {},
     "output_type": "execute_result"
    }
   ],
   "source": [
    "r_test(10)"
   ]
  },
  {
   "cell_type": "code",
   "execution_count": 12,
   "metadata": {},
   "outputs": [],
   "source": [
    "solution = {}"
   ]
  },
  {
   "cell_type": "code",
   "execution_count": 13,
   "metadata": {},
   "outputs": [],
   "source": [
    "def r(n):\n",
    "    rs = ''\n",
    "    for i in range(1,n//2+1):\n",
    "        rs += ',(r('+str(i)+')+r('+str(n-i)+'))'\n",
    "    max_revenue,max_split = max([(price[n],0)]+[(r(n-i)+r(i),i) for i in range(1,n//2+1)],key = lambda x:x[0])\n",
    "    #print(max([(price[n],0)]+[(r(n-i)+r(i),i) for i in range(1,n)]))\n",
    "    #result = max([(price[n],0)]+[(get_rev(n-i)+get_rev(i),i) for i in range(1,n//2+1)])\n",
    "    solution[n] = (max_split,n-max_split)\n",
    "    return max_revenue\n",
    "    #return result"
   ]
  },
  {
   "cell_type": "code",
   "execution_count": 14,
   "metadata": {},
   "outputs": [
    {
     "data": {
      "text/plain": [
       "60"
      ]
     },
     "execution_count": 14,
     "metadata": {},
     "output_type": "execute_result"
    }
   ],
   "source": [
    "r(20)"
   ]
  },
  {
   "cell_type": "code",
   "execution_count": 15,
   "metadata": {
    "scrolled": true
   },
   "outputs": [
    {
     "data": {
      "text/plain": [
       "{1: (0, 1),\n",
       " 2: (0, 2),\n",
       " 3: (0, 3),\n",
       " 4: (2, 2),\n",
       " 5: (2, 3),\n",
       " 6: (0, 6),\n",
       " 7: (1, 6),\n",
       " 8: (2, 6),\n",
       " 9: (3, 6),\n",
       " 10: (0, 10),\n",
       " 11: (0, 11),\n",
       " 12: (1, 11),\n",
       " 13: (2, 11),\n",
       " 14: (3, 11),\n",
       " 15: (2, 13),\n",
       " 16: (2, 14),\n",
       " 17: (6, 11),\n",
       " 18: (1, 17),\n",
       " 19: (2, 17),\n",
       " 20: (3, 17)}"
      ]
     },
     "execution_count": 15,
     "metadata": {},
     "output_type": "execute_result"
    }
   ],
   "source": [
    "solution"
   ]
  },
  {
   "cell_type": "code",
   "execution_count": 16,
   "metadata": {},
   "outputs": [],
   "source": [
    "def cut_step(n):\n",
    "\n",
    "    left_len,right_len = solution[n]\n",
    "    if left_len == 0: return [right_len]\n",
    "    \n",
    "    return cut_step(left_len)+cut_step(right_len)\n",
    "    "
   ]
  },
  {
   "cell_type": "code",
   "execution_count": 17,
   "metadata": {},
   "outputs": [
    {
     "data": {
      "text/plain": [
       "[3, 6, 11]"
      ]
     },
     "execution_count": 17,
     "metadata": {},
     "output_type": "execute_result"
    }
   ],
   "source": [
    "cut_step(20)"
   ]
  },
  {
   "cell_type": "markdown",
   "metadata": {},
   "source": [
    "## 1.1 use dynamic programming"
   ]
  },
  {
   "cell_type": "code",
   "execution_count": 18,
   "metadata": {},
   "outputs": [],
   "source": [
    "revenue_list = {}"
   ]
  },
  {
   "cell_type": "code",
   "execution_count": 19,
   "metadata": {},
   "outputs": [],
   "source": [
    "def r(n):\n",
    "    if n in revenue_list:return revenue_list[n]\n",
    "    result = max([price[n]]+[r(n-i)+r(i) for i in range(1,n//2+1)])\n",
    "    revenue_list[n] = result\n",
    "    return result\n",
    "    "
   ]
  },
  {
   "cell_type": "code",
   "execution_count": 20,
   "metadata": {},
   "outputs": [
    {
     "data": {
      "text/plain": [
       "1207"
      ]
     },
     "execution_count": 20,
     "metadata": {},
     "output_type": "execute_result"
    }
   ],
   "source": [
    "r(380)"
   ]
  },
  {
   "cell_type": "code",
   "execution_count": 21,
   "metadata": {},
   "outputs": [
    {
     "data": {
      "text/plain": [
       "{1: 1,\n",
       " 2: 5,\n",
       " 3: 8,\n",
       " 4: 10,\n",
       " 5: 13,\n",
       " 6: 17,\n",
       " 7: 18,\n",
       " 8: 22,\n",
       " 9: 25,\n",
       " 10: 30,\n",
       " 11: 35,\n",
       " 12: 36,\n",
       " 13: 40,\n",
       " 14: 43,\n",
       " 15: 45,\n",
       " 16: 48,\n",
       " 17: 52,\n",
       " 18: 53,\n",
       " 19: 57,\n",
       " 20: 60,\n",
       " 21: 65,\n",
       " 22: 70,\n",
       " 23: 71,\n",
       " 24: 75,\n",
       " 25: 78,\n",
       " 26: 80,\n",
       " 27: 83,\n",
       " 28: 87,\n",
       " 29: 88,\n",
       " 30: 92,\n",
       " 31: 95,\n",
       " 32: 100,\n",
       " 33: 105,\n",
       " 34: 106,\n",
       " 35: 110,\n",
       " 36: 113,\n",
       " 37: 115,\n",
       " 38: 118,\n",
       " 39: 122,\n",
       " 40: 123,\n",
       " 41: 127,\n",
       " 42: 130,\n",
       " 43: 135,\n",
       " 44: 140,\n",
       " 45: 141,\n",
       " 46: 145,\n",
       " 47: 148,\n",
       " 48: 150,\n",
       " 49: 153,\n",
       " 50: 157,\n",
       " 51: 158,\n",
       " 52: 162,\n",
       " 53: 165,\n",
       " 54: 170,\n",
       " 55: 175,\n",
       " 56: 176,\n",
       " 57: 180,\n",
       " 58: 183,\n",
       " 59: 185,\n",
       " 60: 188,\n",
       " 61: 192,\n",
       " 62: 193,\n",
       " 63: 197,\n",
       " 64: 200,\n",
       " 65: 205,\n",
       " 66: 210,\n",
       " 67: 211,\n",
       " 68: 215,\n",
       " 69: 218,\n",
       " 70: 220,\n",
       " 71: 223,\n",
       " 72: 227,\n",
       " 73: 228,\n",
       " 74: 232,\n",
       " 75: 235,\n",
       " 76: 240,\n",
       " 77: 245,\n",
       " 78: 246,\n",
       " 79: 250,\n",
       " 80: 253,\n",
       " 81: 255,\n",
       " 82: 258,\n",
       " 83: 262,\n",
       " 84: 263,\n",
       " 85: 267,\n",
       " 86: 270,\n",
       " 87: 275,\n",
       " 88: 280,\n",
       " 89: 281,\n",
       " 90: 285,\n",
       " 91: 288,\n",
       " 92: 290,\n",
       " 93: 293,\n",
       " 94: 297,\n",
       " 95: 298,\n",
       " 96: 302,\n",
       " 97: 305,\n",
       " 98: 310,\n",
       " 99: 315,\n",
       " 100: 316,\n",
       " 101: 320,\n",
       " 102: 323,\n",
       " 103: 325,\n",
       " 104: 328,\n",
       " 105: 332,\n",
       " 106: 333,\n",
       " 107: 337,\n",
       " 108: 340,\n",
       " 109: 345,\n",
       " 110: 350,\n",
       " 111: 351,\n",
       " 112: 355,\n",
       " 113: 358,\n",
       " 114: 360,\n",
       " 115: 363,\n",
       " 116: 367,\n",
       " 117: 368,\n",
       " 118: 372,\n",
       " 119: 375,\n",
       " 120: 380,\n",
       " 121: 385,\n",
       " 122: 386,\n",
       " 123: 390,\n",
       " 124: 393,\n",
       " 125: 395,\n",
       " 126: 398,\n",
       " 127: 402,\n",
       " 128: 403,\n",
       " 129: 407,\n",
       " 130: 410,\n",
       " 131: 415,\n",
       " 132: 420,\n",
       " 133: 421,\n",
       " 134: 425,\n",
       " 135: 428,\n",
       " 136: 430,\n",
       " 137: 433,\n",
       " 138: 437,\n",
       " 139: 438,\n",
       " 140: 442,\n",
       " 141: 445,\n",
       " 142: 450,\n",
       " 143: 455,\n",
       " 144: 456,\n",
       " 145: 460,\n",
       " 146: 463,\n",
       " 147: 465,\n",
       " 148: 468,\n",
       " 149: 472,\n",
       " 150: 473,\n",
       " 151: 477,\n",
       " 152: 480,\n",
       " 153: 485,\n",
       " 154: 490,\n",
       " 155: 491,\n",
       " 156: 495,\n",
       " 157: 498,\n",
       " 158: 500,\n",
       " 159: 503,\n",
       " 160: 507,\n",
       " 161: 508,\n",
       " 162: 512,\n",
       " 163: 515,\n",
       " 164: 520,\n",
       " 165: 525,\n",
       " 166: 526,\n",
       " 167: 530,\n",
       " 168: 533,\n",
       " 169: 535,\n",
       " 170: 538,\n",
       " 171: 542,\n",
       " 172: 543,\n",
       " 173: 547,\n",
       " 174: 550,\n",
       " 175: 555,\n",
       " 176: 560,\n",
       " 177: 561,\n",
       " 178: 565,\n",
       " 179: 568,\n",
       " 180: 570,\n",
       " 181: 573,\n",
       " 182: 577,\n",
       " 183: 578,\n",
       " 184: 582,\n",
       " 185: 585,\n",
       " 186: 590,\n",
       " 187: 595,\n",
       " 188: 596,\n",
       " 189: 600,\n",
       " 190: 603,\n",
       " 191: 605,\n",
       " 192: 608,\n",
       " 193: 612,\n",
       " 194: 613,\n",
       " 195: 617,\n",
       " 196: 620,\n",
       " 197: 625,\n",
       " 198: 630,\n",
       " 199: 631,\n",
       " 200: 635,\n",
       " 201: 638,\n",
       " 202: 640,\n",
       " 203: 643,\n",
       " 204: 647,\n",
       " 205: 648,\n",
       " 206: 652,\n",
       " 207: 655,\n",
       " 208: 660,\n",
       " 209: 665,\n",
       " 210: 666,\n",
       " 211: 670,\n",
       " 212: 673,\n",
       " 213: 675,\n",
       " 214: 678,\n",
       " 215: 682,\n",
       " 216: 683,\n",
       " 217: 687,\n",
       " 218: 690,\n",
       " 219: 695,\n",
       " 220: 700,\n",
       " 221: 701,\n",
       " 222: 705,\n",
       " 223: 708,\n",
       " 224: 710,\n",
       " 225: 713,\n",
       " 226: 717,\n",
       " 227: 718,\n",
       " 228: 722,\n",
       " 229: 725,\n",
       " 230: 730,\n",
       " 231: 735,\n",
       " 232: 736,\n",
       " 233: 740,\n",
       " 234: 743,\n",
       " 235: 745,\n",
       " 236: 748,\n",
       " 237: 752,\n",
       " 238: 753,\n",
       " 239: 757,\n",
       " 240: 760,\n",
       " 241: 765,\n",
       " 242: 770,\n",
       " 243: 771,\n",
       " 244: 775,\n",
       " 245: 778,\n",
       " 246: 780,\n",
       " 247: 783,\n",
       " 248: 787,\n",
       " 249: 788,\n",
       " 250: 792,\n",
       " 251: 795,\n",
       " 252: 800,\n",
       " 253: 805,\n",
       " 254: 806,\n",
       " 255: 810,\n",
       " 256: 813,\n",
       " 257: 815,\n",
       " 258: 818,\n",
       " 259: 822,\n",
       " 260: 823,\n",
       " 261: 827,\n",
       " 262: 830,\n",
       " 263: 835,\n",
       " 264: 840,\n",
       " 265: 841,\n",
       " 266: 845,\n",
       " 267: 848,\n",
       " 268: 850,\n",
       " 269: 853,\n",
       " 270: 857,\n",
       " 271: 858,\n",
       " 272: 862,\n",
       " 273: 865,\n",
       " 274: 870,\n",
       " 275: 875,\n",
       " 276: 876,\n",
       " 277: 880,\n",
       " 278: 883,\n",
       " 279: 885,\n",
       " 280: 888,\n",
       " 281: 892,\n",
       " 282: 893,\n",
       " 283: 897,\n",
       " 284: 900,\n",
       " 285: 905,\n",
       " 286: 910,\n",
       " 287: 911,\n",
       " 288: 915,\n",
       " 289: 918,\n",
       " 290: 920,\n",
       " 291: 923,\n",
       " 292: 927,\n",
       " 293: 928,\n",
       " 294: 932,\n",
       " 295: 935,\n",
       " 296: 940,\n",
       " 297: 945,\n",
       " 298: 946,\n",
       " 299: 950,\n",
       " 300: 953,\n",
       " 301: 955,\n",
       " 302: 958,\n",
       " 303: 962,\n",
       " 304: 963,\n",
       " 305: 967,\n",
       " 306: 970,\n",
       " 307: 975,\n",
       " 308: 980,\n",
       " 309: 981,\n",
       " 310: 985,\n",
       " 311: 988,\n",
       " 312: 990,\n",
       " 313: 993,\n",
       " 314: 997,\n",
       " 315: 998,\n",
       " 316: 1002,\n",
       " 317: 1005,\n",
       " 318: 1010,\n",
       " 319: 1015,\n",
       " 320: 1016,\n",
       " 321: 1020,\n",
       " 322: 1023,\n",
       " 323: 1025,\n",
       " 324: 1028,\n",
       " 325: 1032,\n",
       " 326: 1033,\n",
       " 327: 1037,\n",
       " 328: 1040,\n",
       " 329: 1045,\n",
       " 330: 1050,\n",
       " 331: 1051,\n",
       " 332: 1055,\n",
       " 333: 1058,\n",
       " 334: 1060,\n",
       " 335: 1063,\n",
       " 336: 1067,\n",
       " 337: 1068,\n",
       " 338: 1072,\n",
       " 339: 1075,\n",
       " 340: 1080,\n",
       " 341: 1085,\n",
       " 342: 1086,\n",
       " 343: 1090,\n",
       " 344: 1093,\n",
       " 345: 1095,\n",
       " 346: 1098,\n",
       " 347: 1102,\n",
       " 348: 1103,\n",
       " 349: 1107,\n",
       " 350: 1110,\n",
       " 351: 1115,\n",
       " 352: 1120,\n",
       " 353: 1121,\n",
       " 354: 1125,\n",
       " 355: 1128,\n",
       " 356: 1130,\n",
       " 357: 1133,\n",
       " 358: 1137,\n",
       " 359: 1138,\n",
       " 360: 1142,\n",
       " 361: 1145,\n",
       " 362: 1150,\n",
       " 363: 1155,\n",
       " 364: 1156,\n",
       " 365: 1160,\n",
       " 366: 1163,\n",
       " 367: 1165,\n",
       " 368: 1168,\n",
       " 369: 1172,\n",
       " 370: 1173,\n",
       " 371: 1177,\n",
       " 372: 1180,\n",
       " 373: 1185,\n",
       " 374: 1190,\n",
       " 375: 1191,\n",
       " 376: 1195,\n",
       " 377: 1198,\n",
       " 378: 1200,\n",
       " 379: 1203,\n",
       " 380: 1207}"
      ]
     },
     "execution_count": 21,
     "metadata": {},
     "output_type": "execute_result"
    }
   ],
   "source": [
    "revenue_list"
   ]
  },
  {
   "cell_type": "markdown",
   "metadata": {},
   "source": [
    "## 1.2 utilize decorator"
   ]
  },
  {
   "cell_type": "markdown",
   "metadata": {},
   "source": [
    "### 1.2.1 keep recording of the called function"
   ]
  },
  {
   "cell_type": "code",
   "execution_count": 22,
   "metadata": {},
   "outputs": [],
   "source": [
    "call_f_times = defaultdict(int)\n",
    "value_record = defaultdict(int)"
   ]
  },
  {
   "cell_type": "code",
   "execution_count": 23,
   "metadata": {},
   "outputs": [],
   "source": [
    "def get_call_times(f):\n",
    "    f_name = f.__name__\n",
    "    def count_times(n):\n",
    "        if (f_name,n) in call_f_times: return value_record[(f_name,n)]\n",
    "        result = f(n)\n",
    "        value_record[(f_name,n)] = result\n",
    "\n",
    "        call_f_times[(f_name,n)] += 1\n",
    "        return result\n",
    "    return count_times"
   ]
  },
  {
   "cell_type": "code",
   "execution_count": 24,
   "metadata": {},
   "outputs": [],
   "source": [
    "def check_value(f):\n",
    "    f_name = f.__name__\n",
    "    def get_value(n):\n",
    "        \n",
    "        if (f_name,n) in value_record:\n",
    "            #print('Counted!Check the list!')\n",
    "            return value_record[(f_name,n)]\n",
    "        #print('New value!Just count it!')\n",
    "        result = f(n)\n",
    "        value_record[(f_name,n)] = result\n",
    "        return result\n",
    "    return get_value"
   ]
  },
  {
   "cell_type": "code",
   "execution_count": 25,
   "metadata": {},
   "outputs": [],
   "source": [
    "def add_ten(n):\n",
    "    return n + 10"
   ]
  },
  {
   "cell_type": "code",
   "execution_count": 26,
   "metadata": {},
   "outputs": [],
   "source": [
    "def mul_ten(n):\n",
    "    return n * 10"
   ]
  },
  {
   "cell_type": "code",
   "execution_count": 27,
   "metadata": {},
   "outputs": [],
   "source": [
    "add_ten_fake = get_call_times(add_ten)"
   ]
  },
  {
   "cell_type": "code",
   "execution_count": 28,
   "metadata": {
    "scrolled": true
   },
   "outputs": [
    {
     "data": {
      "text/plain": [
       "30"
      ]
     },
     "execution_count": 28,
     "metadata": {},
     "output_type": "execute_result"
    }
   ],
   "source": [
    "add_ten_fake(20)"
   ]
  },
  {
   "cell_type": "code",
   "execution_count": 29,
   "metadata": {},
   "outputs": [
    {
     "data": {
      "text/plain": [
       "20"
      ]
     },
     "execution_count": 29,
     "metadata": {},
     "output_type": "execute_result"
    }
   ],
   "source": [
    "add_ten_fake(10)"
   ]
  },
  {
   "cell_type": "code",
   "execution_count": 30,
   "metadata": {},
   "outputs": [],
   "source": [
    "#call_f_times"
   ]
  },
  {
   "cell_type": "code",
   "execution_count": 31,
   "metadata": {},
   "outputs": [
    {
     "data": {
      "text/plain": [
       "20"
      ]
     },
     "execution_count": 31,
     "metadata": {},
     "output_type": "execute_result"
    }
   ],
   "source": [
    "add_ten(10)"
   ]
  },
  {
   "cell_type": "code",
   "execution_count": 32,
   "metadata": {},
   "outputs": [
    {
     "data": {
      "text/plain": [
       "30"
      ]
     },
     "execution_count": 32,
     "metadata": {},
     "output_type": "execute_result"
    }
   ],
   "source": [
    "add_ten(20)"
   ]
  },
  {
   "cell_type": "code",
   "execution_count": 33,
   "metadata": {},
   "outputs": [],
   "source": [
    "#call_f_times"
   ]
  },
  {
   "cell_type": "code",
   "execution_count": 34,
   "metadata": {},
   "outputs": [
    {
     "data": {
      "text/plain": [
       "100"
      ]
     },
     "execution_count": 34,
     "metadata": {},
     "output_type": "execute_result"
    }
   ],
   "source": [
    "get_call_times(mul_ten)(10)"
   ]
  },
  {
   "cell_type": "code",
   "execution_count": 35,
   "metadata": {},
   "outputs": [],
   "source": [
    "#call_f_times"
   ]
  },
  {
   "cell_type": "code",
   "execution_count": 36,
   "metadata": {},
   "outputs": [],
   "source": [
    "@get_call_times\n",
    "def power_two(n):\n",
    "    return n**2"
   ]
  },
  {
   "cell_type": "code",
   "execution_count": 37,
   "metadata": {},
   "outputs": [
    {
     "data": {
      "text/plain": [
       "100"
      ]
     },
     "execution_count": 37,
     "metadata": {},
     "output_type": "execute_result"
    }
   ],
   "source": [
    "power_two(10)"
   ]
  },
  {
   "cell_type": "code",
   "execution_count": 38,
   "metadata": {},
   "outputs": [
    {
     "data": {
      "text/plain": [
       "defaultdict(int,\n",
       "            {('add_ten', 20): 1,\n",
       "             ('add_ten', 10): 1,\n",
       "             ('mul_ten', 10): 1,\n",
       "             ('power_two', 10): 1})"
      ]
     },
     "execution_count": 38,
     "metadata": {},
     "output_type": "execute_result"
    }
   ],
   "source": [
    "call_f_times"
   ]
  },
  {
   "cell_type": "code",
   "execution_count": 39,
   "metadata": {},
   "outputs": [],
   "source": [
    "cut_scheme = {}"
   ]
  },
  {
   "cell_type": "code",
   "execution_count": 40,
   "metadata": {},
   "outputs": [],
   "source": [
    "@get_call_times\n",
    "def r(n):\n",
    "    max_revenue,max_split = max([(price[n],0)]+[(r(n-i)+r(i),i) for i in range(1,n//2+1)],key=lambda x:x[0])\n",
    "    cut_scheme[n] = (n-max_split,max_split)\n",
    "    return max_revenue"
   ]
  },
  {
   "cell_type": "code",
   "execution_count": 41,
   "metadata": {},
   "outputs": [
    {
     "data": {
      "text/plain": [
       "30"
      ]
     },
     "execution_count": 41,
     "metadata": {},
     "output_type": "execute_result"
    }
   ],
   "source": [
    "call_f_times = defaultdict(int)\n",
    "value_record = defaultdict(int)\n",
    "r(10)"
   ]
  },
  {
   "cell_type": "code",
   "execution_count": 42,
   "metadata": {},
   "outputs": [
    {
     "data": {
      "text/plain": [
       "defaultdict(int,\n",
       "            {('r', 1): 1,\n",
       "             ('r', 2): 1,\n",
       "             ('r', 3): 1,\n",
       "             ('r', 4): 1,\n",
       "             ('r', 5): 1,\n",
       "             ('r', 6): 1,\n",
       "             ('r', 7): 1,\n",
       "             ('r', 8): 1,\n",
       "             ('r', 9): 1,\n",
       "             ('r', 10): 1})"
      ]
     },
     "execution_count": 42,
     "metadata": {},
     "output_type": "execute_result"
    }
   ],
   "source": [
    "call_f_times"
   ]
  },
  {
   "cell_type": "code",
   "execution_count": 43,
   "metadata": {
    "scrolled": true
   },
   "outputs": [
    {
     "data": {
      "text/plain": [
       "{1: (1, 0),\n",
       " 2: (2, 0),\n",
       " 3: (3, 0),\n",
       " 4: (2, 2),\n",
       " 5: (3, 2),\n",
       " 6: (6, 0),\n",
       " 7: (6, 1),\n",
       " 8: (6, 2),\n",
       " 9: (6, 3),\n",
       " 10: (10, 0)}"
      ]
     },
     "execution_count": 43,
     "metadata": {},
     "output_type": "execute_result"
    }
   ],
   "source": [
    "cut_scheme"
   ]
  },
  {
   "cell_type": "code",
   "execution_count": 44,
   "metadata": {},
   "outputs": [],
   "source": [
    "@get_call_times\n",
    "@check_value\n",
    "def r1(n):\n",
    "    max_revenue,max_split = max([(price[n],0)]+[(r1(n-i)+r1(i),i) for i in range(1,n//2+1)],key=lambda x:x[0])\n",
    "    cut_scheme[n] = (n-max_split,max_split)\n",
    "    return max_revenue"
   ]
  },
  {
   "cell_type": "code",
   "execution_count": 45,
   "metadata": {},
   "outputs": [
    {
     "data": {
      "text/plain": [
       "570"
      ]
     },
     "execution_count": 45,
     "metadata": {},
     "output_type": "execute_result"
    }
   ],
   "source": [
    "value_record = {}\n",
    "call_f_times = defaultdict(int)\n",
    "r1(180)"
   ]
  },
  {
   "cell_type": "code",
   "execution_count": 46,
   "metadata": {},
   "outputs": [
    {
     "data": {
      "text/plain": [
       "{('r1', 1): 1,\n",
       " ('get_value', 1): 1,\n",
       " ('r1', 2): 5,\n",
       " ('get_value', 2): 5,\n",
       " ('r1', 3): 8,\n",
       " ('get_value', 3): 8,\n",
       " ('r1', 4): 10,\n",
       " ('get_value', 4): 10,\n",
       " ('r1', 5): 13,\n",
       " ('get_value', 5): 13,\n",
       " ('r1', 6): 17,\n",
       " ('get_value', 6): 17,\n",
       " ('r1', 7): 18,\n",
       " ('get_value', 7): 18,\n",
       " ('r1', 8): 22,\n",
       " ('get_value', 8): 22,\n",
       " ('r1', 9): 25,\n",
       " ('get_value', 9): 25,\n",
       " ('r1', 10): 30,\n",
       " ('get_value', 10): 30,\n",
       " ('r1', 11): 35,\n",
       " ('get_value', 11): 35,\n",
       " ('r1', 12): 36,\n",
       " ('get_value', 12): 36,\n",
       " ('r1', 13): 40,\n",
       " ('get_value', 13): 40,\n",
       " ('r1', 14): 43,\n",
       " ('get_value', 14): 43,\n",
       " ('r1', 15): 45,\n",
       " ('get_value', 15): 45,\n",
       " ('r1', 16): 48,\n",
       " ('get_value', 16): 48,\n",
       " ('r1', 17): 52,\n",
       " ('get_value', 17): 52,\n",
       " ('r1', 18): 53,\n",
       " ('get_value', 18): 53,\n",
       " ('r1', 19): 57,\n",
       " ('get_value', 19): 57,\n",
       " ('r1', 20): 60,\n",
       " ('get_value', 20): 60,\n",
       " ('r1', 21): 65,\n",
       " ('get_value', 21): 65,\n",
       " ('r1', 22): 70,\n",
       " ('get_value', 22): 70,\n",
       " ('r1', 23): 71,\n",
       " ('get_value', 23): 71,\n",
       " ('r1', 24): 75,\n",
       " ('get_value', 24): 75,\n",
       " ('r1', 25): 78,\n",
       " ('get_value', 25): 78,\n",
       " ('r1', 26): 80,\n",
       " ('get_value', 26): 80,\n",
       " ('r1', 27): 83,\n",
       " ('get_value', 27): 83,\n",
       " ('r1', 28): 87,\n",
       " ('get_value', 28): 87,\n",
       " ('r1', 29): 88,\n",
       " ('get_value', 29): 88,\n",
       " ('r1', 30): 92,\n",
       " ('get_value', 30): 92,\n",
       " ('r1', 31): 95,\n",
       " ('get_value', 31): 95,\n",
       " ('r1', 32): 100,\n",
       " ('get_value', 32): 100,\n",
       " ('r1', 33): 105,\n",
       " ('get_value', 33): 105,\n",
       " ('r1', 34): 106,\n",
       " ('get_value', 34): 106,\n",
       " ('r1', 35): 110,\n",
       " ('get_value', 35): 110,\n",
       " ('r1', 36): 113,\n",
       " ('get_value', 36): 113,\n",
       " ('r1', 37): 115,\n",
       " ('get_value', 37): 115,\n",
       " ('r1', 38): 118,\n",
       " ('get_value', 38): 118,\n",
       " ('r1', 39): 122,\n",
       " ('get_value', 39): 122,\n",
       " ('r1', 40): 123,\n",
       " ('get_value', 40): 123,\n",
       " ('r1', 41): 127,\n",
       " ('get_value', 41): 127,\n",
       " ('r1', 42): 130,\n",
       " ('get_value', 42): 130,\n",
       " ('r1', 43): 135,\n",
       " ('get_value', 43): 135,\n",
       " ('r1', 44): 140,\n",
       " ('get_value', 44): 140,\n",
       " ('r1', 45): 141,\n",
       " ('get_value', 45): 141,\n",
       " ('r1', 46): 145,\n",
       " ('get_value', 46): 145,\n",
       " ('r1', 47): 148,\n",
       " ('get_value', 47): 148,\n",
       " ('r1', 48): 150,\n",
       " ('get_value', 48): 150,\n",
       " ('r1', 49): 153,\n",
       " ('get_value', 49): 153,\n",
       " ('r1', 50): 157,\n",
       " ('get_value', 50): 157,\n",
       " ('r1', 51): 158,\n",
       " ('get_value', 51): 158,\n",
       " ('r1', 52): 162,\n",
       " ('get_value', 52): 162,\n",
       " ('r1', 53): 165,\n",
       " ('get_value', 53): 165,\n",
       " ('r1', 54): 170,\n",
       " ('get_value', 54): 170,\n",
       " ('r1', 55): 175,\n",
       " ('get_value', 55): 175,\n",
       " ('r1', 56): 176,\n",
       " ('get_value', 56): 176,\n",
       " ('r1', 57): 180,\n",
       " ('get_value', 57): 180,\n",
       " ('r1', 58): 183,\n",
       " ('get_value', 58): 183,\n",
       " ('r1', 59): 185,\n",
       " ('get_value', 59): 185,\n",
       " ('r1', 60): 188,\n",
       " ('get_value', 60): 188,\n",
       " ('r1', 61): 192,\n",
       " ('get_value', 61): 192,\n",
       " ('r1', 62): 193,\n",
       " ('get_value', 62): 193,\n",
       " ('r1', 63): 197,\n",
       " ('get_value', 63): 197,\n",
       " ('r1', 64): 200,\n",
       " ('get_value', 64): 200,\n",
       " ('r1', 65): 205,\n",
       " ('get_value', 65): 205,\n",
       " ('r1', 66): 210,\n",
       " ('get_value', 66): 210,\n",
       " ('r1', 67): 211,\n",
       " ('get_value', 67): 211,\n",
       " ('r1', 68): 215,\n",
       " ('get_value', 68): 215,\n",
       " ('r1', 69): 218,\n",
       " ('get_value', 69): 218,\n",
       " ('r1', 70): 220,\n",
       " ('get_value', 70): 220,\n",
       " ('r1', 71): 223,\n",
       " ('get_value', 71): 223,\n",
       " ('r1', 72): 227,\n",
       " ('get_value', 72): 227,\n",
       " ('r1', 73): 228,\n",
       " ('get_value', 73): 228,\n",
       " ('r1', 74): 232,\n",
       " ('get_value', 74): 232,\n",
       " ('r1', 75): 235,\n",
       " ('get_value', 75): 235,\n",
       " ('r1', 76): 240,\n",
       " ('get_value', 76): 240,\n",
       " ('r1', 77): 245,\n",
       " ('get_value', 77): 245,\n",
       " ('r1', 78): 246,\n",
       " ('get_value', 78): 246,\n",
       " ('r1', 79): 250,\n",
       " ('get_value', 79): 250,\n",
       " ('r1', 80): 253,\n",
       " ('get_value', 80): 253,\n",
       " ('r1', 81): 255,\n",
       " ('get_value', 81): 255,\n",
       " ('r1', 82): 258,\n",
       " ('get_value', 82): 258,\n",
       " ('r1', 83): 262,\n",
       " ('get_value', 83): 262,\n",
       " ('r1', 84): 263,\n",
       " ('get_value', 84): 263,\n",
       " ('r1', 85): 267,\n",
       " ('get_value', 85): 267,\n",
       " ('r1', 86): 270,\n",
       " ('get_value', 86): 270,\n",
       " ('r1', 87): 275,\n",
       " ('get_value', 87): 275,\n",
       " ('r1', 88): 280,\n",
       " ('get_value', 88): 280,\n",
       " ('r1', 89): 281,\n",
       " ('get_value', 89): 281,\n",
       " ('r1', 90): 285,\n",
       " ('get_value', 90): 285,\n",
       " ('r1', 91): 288,\n",
       " ('get_value', 91): 288,\n",
       " ('r1', 92): 290,\n",
       " ('get_value', 92): 290,\n",
       " ('r1', 93): 293,\n",
       " ('get_value', 93): 293,\n",
       " ('r1', 94): 297,\n",
       " ('get_value', 94): 297,\n",
       " ('r1', 95): 298,\n",
       " ('get_value', 95): 298,\n",
       " ('r1', 96): 302,\n",
       " ('get_value', 96): 302,\n",
       " ('r1', 97): 305,\n",
       " ('get_value', 97): 305,\n",
       " ('r1', 98): 310,\n",
       " ('get_value', 98): 310,\n",
       " ('r1', 99): 315,\n",
       " ('get_value', 99): 315,\n",
       " ('r1', 100): 316,\n",
       " ('get_value', 100): 316,\n",
       " ('r1', 101): 320,\n",
       " ('get_value', 101): 320,\n",
       " ('r1', 102): 323,\n",
       " ('get_value', 102): 323,\n",
       " ('r1', 103): 325,\n",
       " ('get_value', 103): 325,\n",
       " ('r1', 104): 328,\n",
       " ('get_value', 104): 328,\n",
       " ('r1', 105): 332,\n",
       " ('get_value', 105): 332,\n",
       " ('r1', 106): 333,\n",
       " ('get_value', 106): 333,\n",
       " ('r1', 107): 337,\n",
       " ('get_value', 107): 337,\n",
       " ('r1', 108): 340,\n",
       " ('get_value', 108): 340,\n",
       " ('r1', 109): 345,\n",
       " ('get_value', 109): 345,\n",
       " ('r1', 110): 350,\n",
       " ('get_value', 110): 350,\n",
       " ('r1', 111): 351,\n",
       " ('get_value', 111): 351,\n",
       " ('r1', 112): 355,\n",
       " ('get_value', 112): 355,\n",
       " ('r1', 113): 358,\n",
       " ('get_value', 113): 358,\n",
       " ('r1', 114): 360,\n",
       " ('get_value', 114): 360,\n",
       " ('r1', 115): 363,\n",
       " ('get_value', 115): 363,\n",
       " ('r1', 116): 367,\n",
       " ('get_value', 116): 367,\n",
       " ('r1', 117): 368,\n",
       " ('get_value', 117): 368,\n",
       " ('r1', 118): 372,\n",
       " ('get_value', 118): 372,\n",
       " ('r1', 119): 375,\n",
       " ('get_value', 119): 375,\n",
       " ('r1', 120): 380,\n",
       " ('get_value', 120): 380,\n",
       " ('r1', 121): 385,\n",
       " ('get_value', 121): 385,\n",
       " ('r1', 122): 386,\n",
       " ('get_value', 122): 386,\n",
       " ('r1', 123): 390,\n",
       " ('get_value', 123): 390,\n",
       " ('r1', 124): 393,\n",
       " ('get_value', 124): 393,\n",
       " ('r1', 125): 395,\n",
       " ('get_value', 125): 395,\n",
       " ('r1', 126): 398,\n",
       " ('get_value', 126): 398,\n",
       " ('r1', 127): 402,\n",
       " ('get_value', 127): 402,\n",
       " ('r1', 128): 403,\n",
       " ('get_value', 128): 403,\n",
       " ('r1', 129): 407,\n",
       " ('get_value', 129): 407,\n",
       " ('r1', 130): 410,\n",
       " ('get_value', 130): 410,\n",
       " ('r1', 131): 415,\n",
       " ('get_value', 131): 415,\n",
       " ('r1', 132): 420,\n",
       " ('get_value', 132): 420,\n",
       " ('r1', 133): 421,\n",
       " ('get_value', 133): 421,\n",
       " ('r1', 134): 425,\n",
       " ('get_value', 134): 425,\n",
       " ('r1', 135): 428,\n",
       " ('get_value', 135): 428,\n",
       " ('r1', 136): 430,\n",
       " ('get_value', 136): 430,\n",
       " ('r1', 137): 433,\n",
       " ('get_value', 137): 433,\n",
       " ('r1', 138): 437,\n",
       " ('get_value', 138): 437,\n",
       " ('r1', 139): 438,\n",
       " ('get_value', 139): 438,\n",
       " ('r1', 140): 442,\n",
       " ('get_value', 140): 442,\n",
       " ('r1', 141): 445,\n",
       " ('get_value', 141): 445,\n",
       " ('r1', 142): 450,\n",
       " ('get_value', 142): 450,\n",
       " ('r1', 143): 455,\n",
       " ('get_value', 143): 455,\n",
       " ('r1', 144): 456,\n",
       " ('get_value', 144): 456,\n",
       " ('r1', 145): 460,\n",
       " ('get_value', 145): 460,\n",
       " ('r1', 146): 463,\n",
       " ('get_value', 146): 463,\n",
       " ('r1', 147): 465,\n",
       " ('get_value', 147): 465,\n",
       " ('r1', 148): 468,\n",
       " ('get_value', 148): 468,\n",
       " ('r1', 149): 472,\n",
       " ('get_value', 149): 472,\n",
       " ('r1', 150): 473,\n",
       " ('get_value', 150): 473,\n",
       " ('r1', 151): 477,\n",
       " ('get_value', 151): 477,\n",
       " ('r1', 152): 480,\n",
       " ('get_value', 152): 480,\n",
       " ('r1', 153): 485,\n",
       " ('get_value', 153): 485,\n",
       " ('r1', 154): 490,\n",
       " ('get_value', 154): 490,\n",
       " ('r1', 155): 491,\n",
       " ('get_value', 155): 491,\n",
       " ('r1', 156): 495,\n",
       " ('get_value', 156): 495,\n",
       " ('r1', 157): 498,\n",
       " ('get_value', 157): 498,\n",
       " ('r1', 158): 500,\n",
       " ('get_value', 158): 500,\n",
       " ('r1', 159): 503,\n",
       " ('get_value', 159): 503,\n",
       " ('r1', 160): 507,\n",
       " ('get_value', 160): 507,\n",
       " ('r1', 161): 508,\n",
       " ('get_value', 161): 508,\n",
       " ('r1', 162): 512,\n",
       " ('get_value', 162): 512,\n",
       " ('r1', 163): 515,\n",
       " ('get_value', 163): 515,\n",
       " ('r1', 164): 520,\n",
       " ('get_value', 164): 520,\n",
       " ('r1', 165): 525,\n",
       " ('get_value', 165): 525,\n",
       " ('r1', 166): 526,\n",
       " ('get_value', 166): 526,\n",
       " ('r1', 167): 530,\n",
       " ('get_value', 167): 530,\n",
       " ('r1', 168): 533,\n",
       " ('get_value', 168): 533,\n",
       " ('r1', 169): 535,\n",
       " ('get_value', 169): 535,\n",
       " ('r1', 170): 538,\n",
       " ('get_value', 170): 538,\n",
       " ('r1', 171): 542,\n",
       " ('get_value', 171): 542,\n",
       " ('r1', 172): 543,\n",
       " ('get_value', 172): 543,\n",
       " ('r1', 173): 547,\n",
       " ('get_value', 173): 547,\n",
       " ('r1', 174): 550,\n",
       " ('get_value', 174): 550,\n",
       " ('r1', 175): 555,\n",
       " ('get_value', 175): 555,\n",
       " ('r1', 176): 560,\n",
       " ('get_value', 176): 560,\n",
       " ('r1', 177): 561,\n",
       " ('get_value', 177): 561,\n",
       " ('r1', 178): 565,\n",
       " ('get_value', 178): 565,\n",
       " ('r1', 179): 568,\n",
       " ('get_value', 179): 568,\n",
       " ('r1', 180): 570,\n",
       " ('get_value', 180): 570}"
      ]
     },
     "execution_count": 46,
     "metadata": {},
     "output_type": "execute_result"
    }
   ],
   "source": [
    "value_record"
   ]
  },
  {
   "cell_type": "code",
   "execution_count": 47,
   "metadata": {},
   "outputs": [
    {
     "data": {
      "text/plain": [
       "defaultdict(int,\n",
       "            {('get_value', 1): 1,\n",
       "             ('get_value', 2): 1,\n",
       "             ('get_value', 3): 1,\n",
       "             ('get_value', 4): 1,\n",
       "             ('get_value', 5): 1,\n",
       "             ('get_value', 6): 1,\n",
       "             ('get_value', 7): 1,\n",
       "             ('get_value', 8): 1,\n",
       "             ('get_value', 9): 1,\n",
       "             ('get_value', 10): 1,\n",
       "             ('get_value', 11): 1,\n",
       "             ('get_value', 12): 1,\n",
       "             ('get_value', 13): 1,\n",
       "             ('get_value', 14): 1,\n",
       "             ('get_value', 15): 1,\n",
       "             ('get_value', 16): 1,\n",
       "             ('get_value', 17): 1,\n",
       "             ('get_value', 18): 1,\n",
       "             ('get_value', 19): 1,\n",
       "             ('get_value', 20): 1,\n",
       "             ('get_value', 21): 1,\n",
       "             ('get_value', 22): 1,\n",
       "             ('get_value', 23): 1,\n",
       "             ('get_value', 24): 1,\n",
       "             ('get_value', 25): 1,\n",
       "             ('get_value', 26): 1,\n",
       "             ('get_value', 27): 1,\n",
       "             ('get_value', 28): 1,\n",
       "             ('get_value', 29): 1,\n",
       "             ('get_value', 30): 1,\n",
       "             ('get_value', 31): 1,\n",
       "             ('get_value', 32): 1,\n",
       "             ('get_value', 33): 1,\n",
       "             ('get_value', 34): 1,\n",
       "             ('get_value', 35): 1,\n",
       "             ('get_value', 36): 1,\n",
       "             ('get_value', 37): 1,\n",
       "             ('get_value', 38): 1,\n",
       "             ('get_value', 39): 1,\n",
       "             ('get_value', 40): 1,\n",
       "             ('get_value', 41): 1,\n",
       "             ('get_value', 42): 1,\n",
       "             ('get_value', 43): 1,\n",
       "             ('get_value', 44): 1,\n",
       "             ('get_value', 45): 1,\n",
       "             ('get_value', 46): 1,\n",
       "             ('get_value', 47): 1,\n",
       "             ('get_value', 48): 1,\n",
       "             ('get_value', 49): 1,\n",
       "             ('get_value', 50): 1,\n",
       "             ('get_value', 51): 1,\n",
       "             ('get_value', 52): 1,\n",
       "             ('get_value', 53): 1,\n",
       "             ('get_value', 54): 1,\n",
       "             ('get_value', 55): 1,\n",
       "             ('get_value', 56): 1,\n",
       "             ('get_value', 57): 1,\n",
       "             ('get_value', 58): 1,\n",
       "             ('get_value', 59): 1,\n",
       "             ('get_value', 60): 1,\n",
       "             ('get_value', 61): 1,\n",
       "             ('get_value', 62): 1,\n",
       "             ('get_value', 63): 1,\n",
       "             ('get_value', 64): 1,\n",
       "             ('get_value', 65): 1,\n",
       "             ('get_value', 66): 1,\n",
       "             ('get_value', 67): 1,\n",
       "             ('get_value', 68): 1,\n",
       "             ('get_value', 69): 1,\n",
       "             ('get_value', 70): 1,\n",
       "             ('get_value', 71): 1,\n",
       "             ('get_value', 72): 1,\n",
       "             ('get_value', 73): 1,\n",
       "             ('get_value', 74): 1,\n",
       "             ('get_value', 75): 1,\n",
       "             ('get_value', 76): 1,\n",
       "             ('get_value', 77): 1,\n",
       "             ('get_value', 78): 1,\n",
       "             ('get_value', 79): 1,\n",
       "             ('get_value', 80): 1,\n",
       "             ('get_value', 81): 1,\n",
       "             ('get_value', 82): 1,\n",
       "             ('get_value', 83): 1,\n",
       "             ('get_value', 84): 1,\n",
       "             ('get_value', 85): 1,\n",
       "             ('get_value', 86): 1,\n",
       "             ('get_value', 87): 1,\n",
       "             ('get_value', 88): 1,\n",
       "             ('get_value', 89): 1,\n",
       "             ('get_value', 90): 1,\n",
       "             ('get_value', 91): 1,\n",
       "             ('get_value', 92): 1,\n",
       "             ('get_value', 93): 1,\n",
       "             ('get_value', 94): 1,\n",
       "             ('get_value', 95): 1,\n",
       "             ('get_value', 96): 1,\n",
       "             ('get_value', 97): 1,\n",
       "             ('get_value', 98): 1,\n",
       "             ('get_value', 99): 1,\n",
       "             ('get_value', 100): 1,\n",
       "             ('get_value', 101): 1,\n",
       "             ('get_value', 102): 1,\n",
       "             ('get_value', 103): 1,\n",
       "             ('get_value', 104): 1,\n",
       "             ('get_value', 105): 1,\n",
       "             ('get_value', 106): 1,\n",
       "             ('get_value', 107): 1,\n",
       "             ('get_value', 108): 1,\n",
       "             ('get_value', 109): 1,\n",
       "             ('get_value', 110): 1,\n",
       "             ('get_value', 111): 1,\n",
       "             ('get_value', 112): 1,\n",
       "             ('get_value', 113): 1,\n",
       "             ('get_value', 114): 1,\n",
       "             ('get_value', 115): 1,\n",
       "             ('get_value', 116): 1,\n",
       "             ('get_value', 117): 1,\n",
       "             ('get_value', 118): 1,\n",
       "             ('get_value', 119): 1,\n",
       "             ('get_value', 120): 1,\n",
       "             ('get_value', 121): 1,\n",
       "             ('get_value', 122): 1,\n",
       "             ('get_value', 123): 1,\n",
       "             ('get_value', 124): 1,\n",
       "             ('get_value', 125): 1,\n",
       "             ('get_value', 126): 1,\n",
       "             ('get_value', 127): 1,\n",
       "             ('get_value', 128): 1,\n",
       "             ('get_value', 129): 1,\n",
       "             ('get_value', 130): 1,\n",
       "             ('get_value', 131): 1,\n",
       "             ('get_value', 132): 1,\n",
       "             ('get_value', 133): 1,\n",
       "             ('get_value', 134): 1,\n",
       "             ('get_value', 135): 1,\n",
       "             ('get_value', 136): 1,\n",
       "             ('get_value', 137): 1,\n",
       "             ('get_value', 138): 1,\n",
       "             ('get_value', 139): 1,\n",
       "             ('get_value', 140): 1,\n",
       "             ('get_value', 141): 1,\n",
       "             ('get_value', 142): 1,\n",
       "             ('get_value', 143): 1,\n",
       "             ('get_value', 144): 1,\n",
       "             ('get_value', 145): 1,\n",
       "             ('get_value', 146): 1,\n",
       "             ('get_value', 147): 1,\n",
       "             ('get_value', 148): 1,\n",
       "             ('get_value', 149): 1,\n",
       "             ('get_value', 150): 1,\n",
       "             ('get_value', 151): 1,\n",
       "             ('get_value', 152): 1,\n",
       "             ('get_value', 153): 1,\n",
       "             ('get_value', 154): 1,\n",
       "             ('get_value', 155): 1,\n",
       "             ('get_value', 156): 1,\n",
       "             ('get_value', 157): 1,\n",
       "             ('get_value', 158): 1,\n",
       "             ('get_value', 159): 1,\n",
       "             ('get_value', 160): 1,\n",
       "             ('get_value', 161): 1,\n",
       "             ('get_value', 162): 1,\n",
       "             ('get_value', 163): 1,\n",
       "             ('get_value', 164): 1,\n",
       "             ('get_value', 165): 1,\n",
       "             ('get_value', 166): 1,\n",
       "             ('get_value', 167): 1,\n",
       "             ('get_value', 168): 1,\n",
       "             ('get_value', 169): 1,\n",
       "             ('get_value', 170): 1,\n",
       "             ('get_value', 171): 1,\n",
       "             ('get_value', 172): 1,\n",
       "             ('get_value', 173): 1,\n",
       "             ('get_value', 174): 1,\n",
       "             ('get_value', 175): 1,\n",
       "             ('get_value', 176): 1,\n",
       "             ('get_value', 177): 1,\n",
       "             ('get_value', 178): 1,\n",
       "             ('get_value', 179): 1,\n",
       "             ('get_value', 180): 1})"
      ]
     },
     "execution_count": 47,
     "metadata": {},
     "output_type": "execute_result"
    }
   ],
   "source": [
    "call_f_times"
   ]
  },
  {
   "cell_type": "markdown",
   "metadata": {},
   "source": [
    "# 2.Edit distance"
   ]
  },
  {
   "cell_type": "code",
   "execution_count": 48,
   "metadata": {},
   "outputs": [],
   "source": [
    "solution = defaultdict(str)\n",
    "lru = defaultdict(int)"
   ]
  },
  {
   "cell_type": "code",
   "execution_count": 49,
   "metadata": {},
   "outputs": [],
   "source": [
    "def lru_cache(f):\n",
    "    def pro(str1,str2):\n",
    "        \n",
    "        if (str1,str2) in lru: return lru[(str1,str2)]\n",
    "\n",
    "        distance = f(str1,str2)\n",
    "        lru[(str1,str2)] = distance\n",
    "\n",
    "        return distance\n",
    "    return pro"
   ]
  },
  {
   "cell_type": "markdown",
   "metadata": {},
   "source": [
    "### Tips: \n",
    "    1. 原版程序为注释部分\n",
    "    2. 添加空字符转换操作部分\n",
    "    3. 修复了一个bug: 转化字符串首字符在当前字符串有且仅出现一次，但在不在目标字符串首出现且出现次数≥1，会导致转换错误 \n",
    "        eg : XGEFADG => GH   原版会转换成 GGH\n",
    "        cz : 倒数第二步骤 'XG' 与 'G'比较后，下一步骤应是 'X'与 '' 比较(原版仍是'X'与'G'比较，因为此时len(str2)==0，直接返回了len(str1))\n",
    "        "
   ]
  },
  {
   "cell_type": "code",
   "execution_count": 50,
   "metadata": {},
   "outputs": [],
   "source": [
    "#@lru_cache(maxsize=2**10)\n",
    "@lru_cache\n",
    "def edit_distance(string1, string2):\n",
    "    \n",
    "    #if len(string1) == 0:\n",
    "    #    return len(string2)\n",
    "    #if len(string2) == 0:\n",
    "    #    return len(string1)\n",
    "    \n",
    "    if len(string1) == 0 and len(string2) == 0: return 0\n",
    "    \n",
    "    #tail_s1 = string1[-1]\n",
    "    #tail_s2 = string2[-1]\n",
    "    \n",
    "    tail_s1 = ''\n",
    "    tail_s2 = ''\n",
    "    candidates = []\n",
    "    \n",
    "    #candidates = [\n",
    "    #    (edit_distance(string1[:-1], string2) + 1, 'DEL {}'.format(tail_s1)),  # string 1 delete tail\n",
    "    #    (edit_distance(string1, string2[:-1]) + 1, 'ADD {}'.format(tail_s2)),  # string 1 add tail of string2\n",
    "    #]\n",
    "    \n",
    "    if len(string1) == 0:\n",
    "        \n",
    "        tail_s1 = string1\n",
    "        tail_s2 = string2[-1]\n",
    "        candidates = [(edit_distance(string1, string2[:-1]) + 1, 'ADD {}'.format(tail_s2)),  # string 1 add tail of string2\n",
    "                    ]\n",
    "\n",
    "    elif len(string2) == 0:\n",
    "        tail_s1 = string1[-1]\n",
    "        tail_s2 = string2                        \n",
    "        candidates = [(edit_distance(string1[:-1], string2) + 1, 'DEL {}'.format(tail_s1)),  # string 1 delete tail\n",
    "                    ]\n",
    "        \n",
    "    else:\n",
    "        \n",
    "        tail_s1 = string1[-1]\n",
    "        tail_s2 = string2[-1]\n",
    "        \n",
    "        candidates = [\n",
    "            (edit_distance(string1[:-1], string2) + 1, 'DEL {}'.format(tail_s1)),  # string 1 delete tail\n",
    "            (edit_distance(string1, string2[:-1]) + 1, 'ADD {}'.format(tail_s2)),  # string 1 add tail of string2\n",
    "        ]\n",
    "        \n",
    "        if tail_s1 == tail_s2:\n",
    "            both_forward = (edit_distance(string1[:-1], string2[:-1]) + 0, '')    \n",
    "        else:\n",
    "            both_forward = (edit_distance(string1[:-1], string2[:-1]) + 1, 'SUB {} => {}'.format(tail_s1, tail_s2))    \n",
    "        \n",
    "        candidates.append(both_forward)\n",
    "\n",
    "    #if tail_s1 == tail_s2:\n",
    "    #    both_forward = (edit_distance(string1[:-1], string2[:-1]) + 0, '')\n",
    "    #else:\n",
    "    #    both_forward = (edit_distance(string1[:-1], string2[:-1]) + 1, 'SUB {} => {}'.format(tail_s1, tail_s2))\n",
    "    \n",
    "    #candidates.append(both_forward)\n",
    "\n",
    "\n",
    "    min_distance, operation = min(candidates, key=lambda x: x[0])\n",
    "\n",
    "    solution[(string1, string2)] = operation \n",
    "\n",
    "    return min_distance"
   ]
  },
  {
   "cell_type": "code",
   "execution_count": 51,
   "metadata": {
    "scrolled": true
   },
   "outputs": [
    {
     "data": {
      "text/plain": [
       "7"
      ]
     },
     "execution_count": 51,
     "metadata": {},
     "output_type": "execute_result"
    }
   ],
   "source": [
    "edit_distance('BAHCDGXZ','XGEFADG')"
   ]
  },
  {
   "cell_type": "code",
   "execution_count": 52,
   "metadata": {
    "scrolled": true
   },
   "outputs": [
    {
     "data": {
      "text/plain": [
       "9"
      ]
     },
     "execution_count": 52,
     "metadata": {},
     "output_type": "execute_result"
    }
   ],
   "source": [
    "solution = defaultdict(str)\n",
    "lru = defaultdict(int)\n",
    "str1,str2 = 'XGEFADG','GHDzctyah'\n",
    "edit_distance(str1,str2)"
   ]
  },
  {
   "cell_type": "code",
   "execution_count": 53,
   "metadata": {
    "scrolled": false
   },
   "outputs": [
    {
     "data": {
      "text/plain": [
       "defaultdict(str,\n",
       "            {('', 'G'): 'ADD G',\n",
       "             ('', 'GH'): 'ADD H',\n",
       "             ('', 'GHD'): 'ADD D',\n",
       "             ('', 'GHDz'): 'ADD z',\n",
       "             ('', 'GHDzc'): 'ADD c',\n",
       "             ('', 'GHDzct'): 'ADD t',\n",
       "             ('', 'GHDzcty'): 'ADD y',\n",
       "             ('', 'GHDzctya'): 'ADD a',\n",
       "             ('', 'GHDzctyah'): 'ADD h',\n",
       "             ('X', ''): 'DEL X',\n",
       "             ('X', 'G'): 'SUB X => G',\n",
       "             ('X', 'GH'): 'ADD H',\n",
       "             ('X', 'GHD'): 'ADD D',\n",
       "             ('X', 'GHDz'): 'ADD z',\n",
       "             ('X', 'GHDzc'): 'ADD c',\n",
       "             ('X', 'GHDzct'): 'ADD t',\n",
       "             ('X', 'GHDzcty'): 'ADD y',\n",
       "             ('X', 'GHDzctya'): 'ADD a',\n",
       "             ('X', 'GHDzctyah'): 'ADD h',\n",
       "             ('XG', ''): 'DEL G',\n",
       "             ('XG', 'G'): '',\n",
       "             ('XG', 'GH'): 'ADD H',\n",
       "             ('XG', 'GHD'): 'ADD D',\n",
       "             ('XG', 'GHDz'): 'ADD z',\n",
       "             ('XG', 'GHDzc'): 'ADD c',\n",
       "             ('XG', 'GHDzct'): 'ADD t',\n",
       "             ('XG', 'GHDzcty'): 'ADD y',\n",
       "             ('XG', 'GHDzctya'): 'ADD a',\n",
       "             ('XG', 'GHDzctyah'): 'ADD h',\n",
       "             ('XGE', ''): 'DEL E',\n",
       "             ('XGE', 'G'): 'DEL E',\n",
       "             ('XGE', 'GH'): 'SUB E => H',\n",
       "             ('XGE', 'GHD'): 'ADD D',\n",
       "             ('XGE', 'GHDz'): 'ADD z',\n",
       "             ('XGE', 'GHDzc'): 'ADD c',\n",
       "             ('XGE', 'GHDzct'): 'ADD t',\n",
       "             ('XGE', 'GHDzcty'): 'ADD y',\n",
       "             ('XGE', 'GHDzctya'): 'ADD a',\n",
       "             ('XGE', 'GHDzctyah'): 'ADD h',\n",
       "             ('XGEF', ''): 'DEL F',\n",
       "             ('XGEF', 'G'): 'DEL F',\n",
       "             ('XGEF', 'GH'): 'DEL F',\n",
       "             ('XGEF', 'GHD'): 'SUB F => D',\n",
       "             ('XGEF', 'GHDz'): 'ADD z',\n",
       "             ('XGEF', 'GHDzc'): 'ADD c',\n",
       "             ('XGEF', 'GHDzct'): 'ADD t',\n",
       "             ('XGEF', 'GHDzcty'): 'ADD y',\n",
       "             ('XGEF', 'GHDzctya'): 'ADD a',\n",
       "             ('XGEF', 'GHDzctyah'): 'ADD h',\n",
       "             ('XGEFA', ''): 'DEL A',\n",
       "             ('XGEFA', 'G'): 'DEL A',\n",
       "             ('XGEFA', 'GH'): 'DEL A',\n",
       "             ('XGEFA', 'GHD'): 'DEL A',\n",
       "             ('XGEFA', 'GHDz'): 'SUB A => z',\n",
       "             ('XGEFA', 'GHDzc'): 'ADD c',\n",
       "             ('XGEFA', 'GHDzct'): 'ADD t',\n",
       "             ('XGEFA', 'GHDzcty'): 'ADD y',\n",
       "             ('XGEFA', 'GHDzctya'): 'ADD a',\n",
       "             ('XGEFA', 'GHDzctyah'): 'ADD h',\n",
       "             ('XGEFAD', ''): 'DEL D',\n",
       "             ('XGEFAD', 'G'): 'DEL D',\n",
       "             ('XGEFAD', 'GH'): 'DEL D',\n",
       "             ('XGEFAD', 'GHD'): '',\n",
       "             ('XGEFAD', 'GHDz'): 'DEL D',\n",
       "             ('XGEFAD', 'GHDzc'): 'SUB D => c',\n",
       "             ('XGEFAD', 'GHDzct'): 'ADD t',\n",
       "             ('XGEFAD', 'GHDzcty'): 'ADD y',\n",
       "             ('XGEFAD', 'GHDzctya'): 'ADD a',\n",
       "             ('XGEFAD', 'GHDzctyah'): 'ADD h',\n",
       "             ('XGEFADG', ''): 'DEL G',\n",
       "             ('XGEFADG', 'G'): 'DEL G',\n",
       "             ('XGEFADG', 'GH'): 'DEL G',\n",
       "             ('XGEFADG', 'GHD'): 'DEL G',\n",
       "             ('XGEFADG', 'GHDz'): 'SUB G => z',\n",
       "             ('XGEFADG', 'GHDzc'): 'DEL G',\n",
       "             ('XGEFADG', 'GHDzct'): 'SUB G => t',\n",
       "             ('XGEFADG', 'GHDzcty'): 'ADD y',\n",
       "             ('XGEFADG', 'GHDzctya'): 'ADD a',\n",
       "             ('XGEFADG', 'GHDzctyah'): 'ADD h'})"
      ]
     },
     "execution_count": 53,
     "metadata": {},
     "output_type": "execute_result"
    }
   ],
   "source": [
    "solution"
   ]
  },
  {
   "cell_type": "code",
   "execution_count": 54,
   "metadata": {},
   "outputs": [],
   "source": [
    "def parse_solution(str1,str2):\n",
    "    \n",
    "    if str1 == str2: return []\n",
    "    \n",
    "    ops = solution[(str1,str2)].split(' ')\n",
    "    op = [str1,ops[0],ops[-1]]\n",
    "    \n",
    "    if op[1] == 'ADD': return [op]+parse_solution(str1,str2[:-1])\n",
    "    \n",
    "    elif op[1] == 'DEL': return  [op]+parse_solution(str1[:-1],str2)\n",
    "    \n",
    "    elif op[1] == 'SUB': return [op]+parse_solution(str1[:-1],str2[:-1])\n",
    "    \n",
    "    else:\n",
    "        mid_str = str1\n",
    "        if len(str1) > len(str2) and len(str2) == 0:\n",
    "            return [op]+parse_solution(str1[:-1],str2)\n",
    "        elif len(str1) < len(str2) and len(str1) == 0 : \n",
    "            return [op]+parse_solution(str1,str2[:-1])\n",
    "        else: return [op]+parse_solution(str1[:-1],str2[:-1])\n",
    "        \n",
    "    return [op]"
   ]
  },
  {
   "cell_type": "code",
   "execution_count": 55,
   "metadata": {},
   "outputs": [],
   "source": [
    "ops = parse_solution(str1,str2)"
   ]
  },
  {
   "cell_type": "code",
   "execution_count": 56,
   "metadata": {},
   "outputs": [
    {
     "data": {
      "text/plain": [
       "('XGEFADG', 'GHDzctyah')"
      ]
     },
     "execution_count": 56,
     "metadata": {},
     "output_type": "execute_result"
    }
   ],
   "source": [
    "str1,str2"
   ]
  },
  {
   "cell_type": "code",
   "execution_count": 57,
   "metadata": {
    "scrolled": true
   },
   "outputs": [
    {
     "data": {
      "text/plain": [
       "[['XGEFADG', 'ADD', 'h'],\n",
       " ['XGEFADG', 'ADD', 'a'],\n",
       " ['XGEFADG', 'ADD', 'y'],\n",
       " ['XGEFADG', 'SUB', 't'],\n",
       " ['XGEFAD', 'SUB', 'c'],\n",
       " ['XGEFA', 'SUB', 'z'],\n",
       " ['XGEF', 'SUB', 'D'],\n",
       " ['XGE', 'SUB', 'H'],\n",
       " ['XG', '', ''],\n",
       " ['X', 'DEL', 'X']]"
      ]
     },
     "execution_count": 57,
     "metadata": {},
     "output_type": "execute_result"
    }
   ],
   "source": [
    "ops"
   ]
  },
  {
   "cell_type": "code",
   "execution_count": 58,
   "metadata": {},
   "outputs": [],
   "source": [
    "def ed_proc(str1,str2): \n",
    "    j = 0  #代表str1的末尾index\n",
    "    op_times = 0\n",
    "    mid_str = str1 #记录str1操作部分\n",
    "    print('{} => {} 转换过程：'.format(str1,str2))\n",
    "    print('')\n",
    "    if len(str1) == 0: j = 0\n",
    "    else: j = len(str1)\n",
    "    for i , op in enumerate(ops):\n",
    "        if op[1] == 'ADD':#+操作\n",
    "            op_times+=1 \n",
    "            if j == 0:\n",
    "                mid_str = ''\n",
    "                mid_str = mid_str + op[2] + str1\n",
    "                if str1 == '':\n",
    "                    print('Step{}: 添加 {} 字符 => {}'.format(op_times,op[2],mid_str))\n",
    "                else:\n",
    "                    print('Step{}: {} 在第{}个字符 {} 前添加 {} 字符 => {}'.format(op_times,str1,j+1,str1[j],op[2],mid_str))\n",
    "            else:\n",
    "                mid_str = str1[:j]                    #操作部分为当前索引处前段\n",
    "                mid_str = mid_str + op[2]                 #添上要加字符\n",
    "                mid_str = mid_str + str1[j:]          #加上后段\n",
    "                print('Step{}: {} 在第{}个字符 {} 后添加 {} 字符 => {}'.format(op_times,str1,j,str1[j-1],op[2],mid_str))         \n",
    "            j = j                                   #索引不变\n",
    "            str1 = mid_str                          #更新str1\n",
    "        elif op[1] == 'SUB':                       #替换操作\n",
    "            #索引指向当前操作部分末尾\n",
    "            mid_str = str1[:j-1]                      #保留前段\n",
    "            mid_str = mid_str + op[2]               #替换末字符\n",
    "            mid_str = mid_str + str1[j:]          #连上后段\n",
    "            op_times+=1\n",
    "            print('Step{}: {} 将第{}个字符 {} 替换成 {} 字符 => {}'.format(op_times,str1,j,str1[j-1],op[2],mid_str))\n",
    "            if j == 0: j = 0\n",
    "            else : j = j - 1                        #索引退1\n",
    "            str1 = mid_str\n",
    "                                  \n",
    "        elif op[1] == 'DEL':                        #删除操作\n",
    "            #索引指向当前操作部分末尾\n",
    "            mid_str = str1[:j-1]                       #保留前段\n",
    "            mid_str = mid_str + str1[j:]           #删除末字符并连上后段\n",
    "            op_times+=1\n",
    "            print('Step{}: {} 删除第{}个字符 {} => {}'.format(op_times,str1,j,op[2],mid_str))\n",
    "            if j == 0: j = 0\n",
    "            else: j = j - 1                         #索引退1\n",
    "            str1 = mid_str\n",
    "        else:\n",
    "            if j == 0: j = 0\n",
    "            else: j = j - 1                      #索引退1\n",
    "            \n",
    "            str1 = mid_str\n",
    "            \n",
    "    if str1 == str2: \n",
    "        print('')\n",
    "        print('Done!!!')\n",
    "    else:\n",
    "        print('')\n",
    "        print('Transforming Defeated!!!')"
   ]
  },
  {
   "cell_type": "code",
   "execution_count": 59,
   "metadata": {
    "scrolled": true
   },
   "outputs": [
    {
     "name": "stdout",
     "output_type": "stream",
     "text": [
      "XGEFADG => GHDzctyah 转换过程：\n",
      "\n",
      "Step1: XGEFADG 在第7个字符 G 后添加 h 字符 => XGEFADGh\n",
      "Step2: XGEFADGh 在第7个字符 G 后添加 a 字符 => XGEFADGah\n",
      "Step3: XGEFADGah 在第7个字符 G 后添加 y 字符 => XGEFADGyah\n",
      "Step4: XGEFADGyah 将第7个字符 G 替换成 t 字符 => XGEFADtyah\n",
      "Step5: XGEFADtyah 将第6个字符 D 替换成 c 字符 => XGEFActyah\n",
      "Step6: XGEFActyah 将第5个字符 A 替换成 z 字符 => XGEFzctyah\n",
      "Step7: XGEFzctyah 将第4个字符 F 替换成 D 字符 => XGEDzctyah\n",
      "Step8: XGEDzctyah 将第3个字符 E 替换成 H 字符 => XGHDzctyah\n",
      "Step9: XGHDzctyah 删除第1个字符 X => GHDzctyah\n",
      "\n",
      "Done!!!\n"
     ]
    }
   ],
   "source": [
    "ed_proc(str1,str2)"
   ]
  },
  {
   "cell_type": "code",
   "execution_count": 60,
   "metadata": {},
   "outputs": [
    {
     "name": "stdout",
     "output_type": "stream",
     "text": [
      "XGEFADG => AH 转换过程：\n",
      "\n",
      "Step1: XGEFADG 删除第7个字符 G => XGEFAD\n",
      "Step2: XGEFAD 将第6个字符 D 替换成 H 字符 => XGEFAH\n",
      "Step3: XGEFAH 删除第4个字符 F => XGEAH\n",
      "Step4: XGEAH 删除第3个字符 E => XGAH\n",
      "Step5: XGAH 删除第2个字符 G => XAH\n",
      "Step6: XAH 删除第1个字符 X => AH\n",
      "\n",
      "Done!!!\n"
     ]
    }
   ],
   "source": [
    "solution = defaultdict(str)\n",
    "lru = defaultdict(int)\n",
    "str1,str2 = 'XGEFADG','AH'\n",
    "edit_distance(str1,str2)\n",
    "ops = parse_solution(str1,str2)\n",
    "ed_proc(str1,str2)"
   ]
  },
  {
   "cell_type": "code",
   "execution_count": 61,
   "metadata": {},
   "outputs": [
    {
     "name": "stdout",
     "output_type": "stream",
     "text": [
      " => XGEFADG 转换过程：\n",
      "\n",
      "Step1: 添加 G 字符 => G\n",
      "Step2: G 在第1个字符 G 前添加 D 字符 => DG\n",
      "Step3: DG 在第1个字符 D 前添加 A 字符 => ADG\n",
      "Step4: ADG 在第1个字符 A 前添加 F 字符 => FADG\n",
      "Step5: FADG 在第1个字符 F 前添加 E 字符 => EFADG\n",
      "Step6: EFADG 在第1个字符 E 前添加 G 字符 => GEFADG\n",
      "Step7: GEFADG 在第1个字符 G 前添加 X 字符 => XGEFADG\n",
      "\n",
      "Done!!!\n"
     ]
    }
   ],
   "source": [
    "solution = defaultdict(str)\n",
    "lru = defaultdict(int)\n",
    "str1,str2 = '','XGEFADG'\n",
    "edit_distance(str1,str2)\n",
    "ops = parse_solution(str1,str2)\n",
    "ed_proc(str1,str2)"
   ]
  },
  {
   "cell_type": "markdown",
   "metadata": {},
   "source": [
    "### Part 5: Answer following questions: "
   ]
  },
  {
   "cell_type": "markdown",
   "metadata": {},
   "source": [
    "1. Why do we need dynamic programming? What's the difference of dynamic programming and previous talked `search` problme? "
   ]
  },
  {
   "cell_type": "markdown",
   "metadata": {},
   "source": [
    "A: 使用动态规划可以减少重复的迭代次数，它通过将计算过的函数值保存在一张表中，并在后续直接查表返回值。"
   ]
  },
  {
   "cell_type": "markdown",
   "metadata": {},
   "source": [
    "2. Why do we still need dynamic programming? Why not we train a machine learning to fit a function which could get the `right` answer based on inputs?"
   ]
  },
  {
   "cell_type": "markdown",
   "metadata": {},
   "source": [
    "A: 动态规划对于一些可拆分为很多相似子问题的问题仍旧是行之有效的算法，机器学习也可用于解决这些问题，单往往并不是最佳选择"
   ]
  },
  {
   "cell_type": "markdown",
   "metadata": {},
   "source": [
    "3. Can you catch up at least 3 problems which could solved by Dynamic Programming? "
   ]
  },
  {
   "cell_type": "markdown",
   "metadata": {},
   "source": [
    "A：1. 地图路径规划  2. 网络爬虫  3. 文本相似度分析"
   ]
  },
  {
   "cell_type": "markdown",
   "metadata": {},
   "source": [
    "4. Can you catch up at least 3 problems wich could sloved by Edit Distance? "
   ]
  },
  {
   "cell_type": "markdown",
   "metadata": {},
   "source": [
    "A: 1. 输入法联想 2. 文本相似度分析  3. 语音识别"
   ]
  },
  {
   "cell_type": "markdown",
   "metadata": {},
   "source": [
    "5. Please summarize the three main features of Dynamic Programming, and make a concise explain for each feature. "
   ]
  },
  {
   "cell_type": "markdown",
   "metadata": {},
   "source": [
    "A: \n",
    "   1. 问题可拆分为多个相似子问题。---即是说子问题的输入是总输入的一部分，解决子问题的方法与主问题一致。\n",
    "   2. 逐一解决子问题，并将其保存在一张表中。---对于重复出现的子问题通过查表直接获得输出\n",
    "   3. 将子问题的解通过查表拼装得出最终解。---主问题的解是通过查表然后拼接获得最终输出"
   ]
  },
  {
   "cell_type": "markdown",
   "metadata": {},
   "source": [
    "6. What's the disadvantages of Dynamic Programming? (You may need search by yourself in Internet)"
   ]
  },
  {
   "cell_type": "markdown",
   "metadata": {},
   "source": [
    "A: \n",
    "  1. 子问题划分需要经验，子问题之间必须不独立；\n",
    "  2. 子问题规模过大会导致其解集空间度过于复杂，需要较大内存；\n",
    "  3. 子问题如不是最优，则动态规划也不是全局最优。"
   ]
  },
  {
   "cell_type": "markdown",
   "metadata": {},
   "source": [
    "# option question"
   ]
  },
  {
   "cell_type": "code",
   "execution_count": 62,
   "metadata": {},
   "outputs": [],
   "source": [
    "import random\n",
    "import math\n",
    "import matplotlib.pylab as plt"
   ]
  },
  {
   "cell_type": "code",
   "execution_count": 63,
   "metadata": {},
   "outputs": [],
   "source": [
    "latitudes = [random.randint(-100, 100) for _ in range(20)]\n",
    "longitudes = [random.randint(-100, 100) for _ in range(20)]"
   ]
  },
  {
   "cell_type": "code",
   "execution_count": 64,
   "metadata": {
    "scrolled": true
   },
   "outputs": [
    {
     "data": {
      "text/plain": [
       "<matplotlib.collections.PathCollection at 0x1d8d549f6d8>"
      ]
     },
     "execution_count": 64,
     "metadata": {},
     "output_type": "execute_result"
    },
    {
     "data": {
      "image/png": "[encoded data removed]",
      "text/plain": [
       "<Figure size 432x288 with 1 Axes>"
      ]
     },
     "metadata": {
      "needs_background": "light"
     },
     "output_type": "display_data"
    }
   ],
   "source": [
    "plt.scatter(latitudes, longitudes)"
   ]
  },
  {
   "cell_type": "code",
   "execution_count": 107,
   "metadata": {},
   "outputs": [],
   "source": [
    "p_start = (-50, 10)"
   ]
  },
  {
   "cell_type": "code",
   "execution_count": 110,
   "metadata": {},
   "outputs": [],
   "source": [
    "def cal_dist2(p1,p2):\n",
    "    return math.sqrt((p1[0]-p2[0])**2+(p1[1]-p2[1])**2)"
   ]
  },
  {
   "cell_type": "code",
   "execution_count": 171,
   "metadata": {
    "scrolled": false
   },
   "outputs": [
    {
     "data": {
      "text/plain": [
       "109.29318368498559"
      ]
     },
     "execution_count": 171,
     "metadata": {},
     "output_type": "execute_result"
    }
   ],
   "source": [
    "cal_dist2(points[19],points[6])"
   ]
  },
  {
   "cell_type": "code",
   "execution_count": 172,
   "metadata": {},
   "outputs": [
    {
     "data": {
      "text/plain": [
       "[(9, -100),\n",
       " (-43, -46),\n",
       " (-39, 12),\n",
       " (-40, 58),\n",
       " (-51, -76),\n",
       " (10, -16),\n",
       " (-28, -50),\n",
       " (-95, 61),\n",
       " (-83, 16),\n",
       " (-93, -78),\n",
       " (-34, -37),\n",
       " (92, -82),\n",
       " (85, -8),\n",
       " (-48, 63),\n",
       " (-67, 40),\n",
       " (-11, -11),\n",
       " (-11, 72),\n",
       " (100, -84),\n",
       " (83, -34),\n",
       " (31, 42),\n",
       " (-50, 10)]"
      ]
     },
     "execution_count": 172,
     "metadata": {},
     "output_type": "execute_result"
    }
   ],
   "source": [
    "points"
   ]
  },
  {
   "cell_type": "code",
   "execution_count": 161,
   "metadata": {},
   "outputs": [],
   "source": [
    "def k_shortest(origin,points):\n",
    "    #search points find the nearest two points\n",
    "    unvisit = set(points) - {origin}\n",
    "    path = [origin]\n",
    "    while unvisit:        \n",
    "        new_origin = min(unvisit,key=lambda p:cal_dist2(p,path[-1]))\n",
    "        path += [new_origin]\n",
    "        unvisit.remove(new_origin)\n",
    "    return path"
   ]
  },
  {
   "cell_type": "code",
   "execution_count": 162,
   "metadata": {},
   "outputs": [],
   "source": [
    "def search_shorest_path():\n",
    "    return min([k_shortest(origin,points) for origin in points],key = lambda path: cal_dists(path))"
   ]
  },
  {
   "cell_type": "code",
   "execution_count": 165,
   "metadata": {},
   "outputs": [],
   "source": [
    "def cal_dists(path):\n",
    "    return sum([cal_dist2(path[i],path[i-1]) for i in range(len(path))])"
   ]
  },
  {
   "cell_type": "code",
   "execution_count": 169,
   "metadata": {},
   "outputs": [],
   "source": [
    "one_point_search = search_shorest_path() + [search_shorest_path()[0]]"
   ]
  },
  {
   "cell_type": "code",
   "execution_count": 170,
   "metadata": {},
   "outputs": [
    {
     "data": {
      "image/png": "[encoded data removed]",
      "text/plain": [
       "<Figure size 432x288 with 1 Axes>"
      ]
     },
     "metadata": {
      "needs_background": "light"
     },
     "output_type": "display_data"
    }
   ],
   "source": [
    "X = [p[0] for p in one_point_search]\n",
    "Y = [p[1] for p in one_point_search]\n",
    "plt.plot(X,Y)\n",
    "plt.scatter(X,Y)\n",
    "plt.plot(p_start[0],p_start[1],'r*')\n",
    "for i in range(len(X)):\n",
    "    plt.annotate(str(i), xy = (X[i], Y[i]), xytext = (X[i]+0.1, Y[i]+0.1))"
   ]
  },
  {
   "cell_type": "code",
   "execution_count": null,
   "metadata": {},
   "outputs": [],
   "source": []
  }
 ],
 "metadata": {
  "kernelspec": {
   "display_name": "Python 3",
   "language": "python",
   "name": "python3"
  },
  "language_info": {
   "codemirror_mode": {
    "name": "ipython",
    "version": 3
   },
   "file_extension": ".py",
   "mimetype": "text/x-python",
   "name": "python",
   "nbconvert_exporter": "python",
   "pygments_lexer": "ipython3",
   "version": "3.6.6"
  }
 },
 "nbformat": 4,
 "nbformat_minor": 2
}
