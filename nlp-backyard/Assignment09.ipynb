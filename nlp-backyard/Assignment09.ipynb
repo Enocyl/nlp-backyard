{
 "cells": [
  {
   "cell_type": "markdown",
   "metadata": {},
   "source": [
    "# 1.Data  Preparation"
   ]
  },
  {
   "cell_type": "code",
   "execution_count": 1,
   "metadata": {},
   "outputs": [],
   "source": [
    "# These are all the modules we'll be using later. Make sure you can import them\n",
    "# before proceeding further.\n",
    "from __future__ import print_function\n",
    "import imageio\n",
    "import matplotlib.pyplot as plt\n",
    "import numpy as np\n",
    "import os\n",
    "import sys\n",
    "import tarfile\n",
    "from IPython.display import display, Image\n",
    "from sklearn.linear_model import LogisticRegression\n",
    "from six.moves.urllib.request import urlretrieve\n",
    "from six.moves import cPickle as pickle\n",
    "\n",
    "# Config the matplotlib backend as plotting inline in IPython\n",
    "%matplotlib inline"
   ]
  },
  {
   "cell_type": "code",
   "execution_count": 2,
   "metadata": {},
   "outputs": [],
   "source": [
    "url = 'https://commondatastorage.googleapis.com/books1000/'\n",
    "last_percent_reported = None\n",
    "data_root = './data' # Change me to store data elsewhere\n",
    "\n",
    "def download_progress_hook(count, blockSize, totalSize):\n",
    "    \"\"\"A hook to report the progress of a download. This is mostly intended for users with\n",
    "    slow internet connections. Reports every 5% change in download progress.\n",
    "    \"\"\"\n",
    "    global last_percent_reported\n",
    "    percent = int(count * blockSize * 100 / totalSize)\n",
    "\n",
    "    if last_percent_reported != percent:\n",
    "        if percent % 5 == 0:\n",
    "            sys.stdout.write(\"%s%%\" % percent)\n",
    "            sys.stdout.flush()\n",
    "        else:\n",
    "            sys.stdout.write(\".\")\n",
    "            sys.stdout.flush()\n",
    "      \n",
    "    last_percent_reported = percent\n",
    "        \n",
    "def maybe_download(filename, expected_bytes, force=False):\n",
    "    \"\"\"Download a file if not present, and make sure it's the right size.\"\"\"\n",
    "    dest_filename = os.path.join(data_root, filename)\n",
    "    if force or not os.path.exists(dest_filename):\n",
    "        print('Attempting to download:', filename) \n",
    "        filename, _ = urlretrieve(url + filename, dest_filename, reporthook=download_progress_hook)\n",
    "        print('\\nDownload Complete!')\n",
    "        statinfo = os.stat(dest_filename)\n",
    "        if statinfo.st_size == expected_bytes:\n",
    "            print('Found and verified', dest_filename)\n",
    "        else:\n",
    "            raise Exception('Failed to verify ' + dest_filename + '. Can you get to it with a browser?')\n",
    "    return dest_filename\n",
    "\n",
    "train_filename = maybe_download('notMNIST_large.tar.gz', 247336696)\n",
    "test_filename = maybe_download('notMNIST_small.tar.gz', 8458043)"
   ]
  },
  {
   "cell_type": "code",
   "execution_count": 3,
   "metadata": {},
   "outputs": [],
   "source": [
    "train_filename = 'F:\\\\NLP_CV\\\\lec\\\\9lesson\\\\data\\\\notMNIST_large.tar.gz'\n",
    "test_filename = 'F:\\\\NLP_CV\\\\lec\\\\9lesson\\\\data\\\\notMNIST_small.tar.gz'"
   ]
  },
  {
   "cell_type": "code",
   "execution_count": 4,
   "metadata": {},
   "outputs": [
    {
     "name": "stdout",
     "output_type": "stream",
     "text": [
      "F:\\NLP_CV\\lec\\9lesson\\data\\notMNIST_large already present - Skipping extraction of F:\\NLP_CV\\lec\\9lesson\\data\\notMNIST_large.tar.gz.\n",
      "['F:\\\\NLP_CV\\\\lec\\\\9lesson\\\\data\\\\notMNIST_large\\\\A', 'F:\\\\NLP_CV\\\\lec\\\\9lesson\\\\data\\\\notMNIST_large\\\\B', 'F:\\\\NLP_CV\\\\lec\\\\9lesson\\\\data\\\\notMNIST_large\\\\C', 'F:\\\\NLP_CV\\\\lec\\\\9lesson\\\\data\\\\notMNIST_large\\\\D', 'F:\\\\NLP_CV\\\\lec\\\\9lesson\\\\data\\\\notMNIST_large\\\\E', 'F:\\\\NLP_CV\\\\lec\\\\9lesson\\\\data\\\\notMNIST_large\\\\F', 'F:\\\\NLP_CV\\\\lec\\\\9lesson\\\\data\\\\notMNIST_large\\\\G', 'F:\\\\NLP_CV\\\\lec\\\\9lesson\\\\data\\\\notMNIST_large\\\\H', 'F:\\\\NLP_CV\\\\lec\\\\9lesson\\\\data\\\\notMNIST_large\\\\I', 'F:\\\\NLP_CV\\\\lec\\\\9lesson\\\\data\\\\notMNIST_large\\\\J']\n",
      "F:\\NLP_CV\\lec\\9lesson\\data\\notMNIST_small already present - Skipping extraction of F:\\NLP_CV\\lec\\9lesson\\data\\notMNIST_small.tar.gz.\n",
      "['F:\\\\NLP_CV\\\\lec\\\\9lesson\\\\data\\\\notMNIST_small\\\\A', 'F:\\\\NLP_CV\\\\lec\\\\9lesson\\\\data\\\\notMNIST_small\\\\B', 'F:\\\\NLP_CV\\\\lec\\\\9lesson\\\\data\\\\notMNIST_small\\\\C', 'F:\\\\NLP_CV\\\\lec\\\\9lesson\\\\data\\\\notMNIST_small\\\\D', 'F:\\\\NLP_CV\\\\lec\\\\9lesson\\\\data\\\\notMNIST_small\\\\E', 'F:\\\\NLP_CV\\\\lec\\\\9lesson\\\\data\\\\notMNIST_small\\\\F', 'F:\\\\NLP_CV\\\\lec\\\\9lesson\\\\data\\\\notMNIST_small\\\\G', 'F:\\\\NLP_CV\\\\lec\\\\9lesson\\\\data\\\\notMNIST_small\\\\H', 'F:\\\\NLP_CV\\\\lec\\\\9lesson\\\\data\\\\notMNIST_small\\\\I', 'F:\\\\NLP_CV\\\\lec\\\\9lesson\\\\data\\\\notMNIST_small\\\\J']\n"
     ]
    }
   ],
   "source": [
    "num_classes = 10\n",
    "np.random.seed(133)\n",
    "\n",
    "def maybe_extract(filename, force=False):\n",
    "    root = os.path.splitext(os.path.splitext(filename)[0])[0]  # remove .tar.gz\n",
    "    if os.path.isdir(root) and not force:\n",
    "        # You may override by setting force=True.\n",
    "        print('%s already present - Skipping extraction of %s.' % (root, filename))\n",
    "    else:\n",
    "        print('Extracting data for %s. This may take a while. Please wait.' % root)\n",
    "        tar = tarfile.open(filename)\n",
    "        sys.stdout.flush()\n",
    "        tar.extractall(data_root)\n",
    "        tar.close()\n",
    "    data_folders = [os.path.join(root, d) for d in sorted(os.listdir(root)) if os.path.isdir(os.path.join(root, d))]\n",
    "    if len(data_folders) != num_classes:\n",
    "        raise Exception('Expected %d folders, one per class. Found %d instead.' % (num_classes, len(data_folders)))\n",
    "    print(data_folders)\n",
    "    return data_folders\n",
    "  \n",
    "train_folders = maybe_extract(train_filename)\n",
    "test_folders = maybe_extract(test_filename)"
   ]
  },
  {
   "cell_type": "markdown",
   "metadata": {
    "colab_type": "text",
    "id": "4riXK3IoHgx6"
   },
   "source": [
    "---\n",
    "Problem 1\n",
    "---------\n",
    "\n",
    "Let's take a peek at some of the data to make sure it looks sensible. Each exemplar should be an image of a character A through J rendered in a different font. Display a sample of the images that we just downloaded. Hint: you can use the package IPython.display.\n",
    "\n",
    "---"
   ]
  },
  {
   "cell_type": "code",
   "execution_count": 5,
   "metadata": {},
   "outputs": [],
   "source": [
    "import random"
   ]
  },
  {
   "cell_type": "code",
   "execution_count": 6,
   "metadata": {},
   "outputs": [],
   "source": [
    "def show_samples(n = 10):\n",
    "    train_smps_dir = random.choice(train_folders)\n",
    "    test_smps_dir = random.choice(test_folders)\n",
    "    #print('{} files: {}'.format(train_smps_dir,len(os.listdir(train_smps_dir))))\n",
    "    train_smps_fnames = random.sample(list(os.listdir(train_smps_dir)),n)\n",
    "    test_smps_fnames = random.sample(list(os.listdir(test_smps_dir)),n)\n",
    "    train_smps_path = [os.path.join(train_smps_dir,fn) for fn in train_smps_fnames]\n",
    "    #print(train_smps_fnames)\n",
    "    test_smps_path = [os.path.join(test_smps_dir,fn) for fn in test_smps_fnames]\n",
    "    #print(train_smps_path)\n",
    "    #print('TrainSets samples {} pictures:'.format(n))\n",
    "    #for fp in train_smps_path:\n",
    "    #    Image(fp)\n",
    "    ##print('TestSets samples {} pictures:'.format(n))   \n",
    "    #for fp in test_smps_path:\n",
    "    #    Image(fp)\n",
    "    return train_smps_path,test_smps_path"
   ]
  },
  {
   "cell_type": "code",
   "execution_count": 7,
   "metadata": {},
   "outputs": [],
   "source": [
    "train_smps_path ,test_smps_path = show_samples(n = 5)"
   ]
  },
  {
   "cell_type": "code",
   "execution_count": 8,
   "metadata": {},
   "outputs": [],
   "source": [
    "import matplotlib.image as mpimg"
   ]
  },
  {
   "cell_type": "code",
   "execution_count": 9,
   "metadata": {},
   "outputs": [
    {
     "name": "stdout",
     "output_type": "stream",
     "text": [
      "Trainsets 5 samples:\n"
     ]
    },
    {
     "data": {
      "image/png": "[encoded data removed]",
      "text/plain": [
       "<Figure size 432x288 with 5 Axes>"
      ]
     },
     "metadata": {
      "needs_background": "light"
     },
     "output_type": "display_data"
    }
   ],
   "source": [
    "print('Trainsets {} samples:'.format(len(train_smps_path)))\n",
    "plt.figure()\n",
    "for i,fp in enumerate(train_smps_path):\n",
    "    img = mpimg.imread(fp)\n",
    "    plt.subplot(1,len(train_smps_path),i+1)\n",
    "    plt.axis('off')\n",
    "    plt.imshow(img)\n",
    "plt.show()"
   ]
  },
  {
   "cell_type": "code",
   "execution_count": 10,
   "metadata": {},
   "outputs": [
    {
     "name": "stdout",
     "output_type": "stream",
     "text": [
      "Testsets 5 samples:\n"
     ]
    },
    {
     "data": {
      "image/png": "[encoded data removed]",
      "text/plain": [
       "<Figure size 432x288 with 5 Axes>"
      ]
     },
     "metadata": {
      "needs_background": "light"
     },
     "output_type": "display_data"
    }
   ],
   "source": [
    "print('Testsets {} samples:'.format(len(test_smps_path)))\n",
    "plt.figure()\n",
    "for i,fp in enumerate(test_smps_path):\n",
    "    img = mpimg.imread(fp)\n",
    "    plt.subplot(1,len(test_smps_path),i+1)\n",
    "    plt.axis('off')\n",
    "    plt.imshow(img)\n",
    "plt.show()"
   ]
  },
  {
   "cell_type": "code",
   "execution_count": 11,
   "metadata": {},
   "outputs": [],
   "source": [
    "imageio.imread?"
   ]
  },
  {
   "cell_type": "code",
   "execution_count": 12,
   "metadata": {},
   "outputs": [],
   "source": [
    "pickle.dump?"
   ]
  },
  {
   "cell_type": "code",
   "execution_count": 13,
   "metadata": {},
   "outputs": [
    {
     "name": "stdout",
     "output_type": "stream",
     "text": [
      "F:\\NLP_CV\\lec\\9lesson\\data\\notMNIST_large\\A.pickle already present - Skipping pickling.\n",
      "F:\\NLP_CV\\lec\\9lesson\\data\\notMNIST_large\\B.pickle already present - Skipping pickling.\n",
      "F:\\NLP_CV\\lec\\9lesson\\data\\notMNIST_large\\C.pickle already present - Skipping pickling.\n",
      "F:\\NLP_CV\\lec\\9lesson\\data\\notMNIST_large\\D.pickle already present - Skipping pickling.\n",
      "F:\\NLP_CV\\lec\\9lesson\\data\\notMNIST_large\\E.pickle already present - Skipping pickling.\n",
      "F:\\NLP_CV\\lec\\9lesson\\data\\notMNIST_large\\F.pickle already present - Skipping pickling.\n",
      "F:\\NLP_CV\\lec\\9lesson\\data\\notMNIST_large\\G.pickle already present - Skipping pickling.\n",
      "F:\\NLP_CV\\lec\\9lesson\\data\\notMNIST_large\\H.pickle already present - Skipping pickling.\n",
      "F:\\NLP_CV\\lec\\9lesson\\data\\notMNIST_large\\I.pickle already present - Skipping pickling.\n",
      "F:\\NLP_CV\\lec\\9lesson\\data\\notMNIST_large\\J.pickle already present - Skipping pickling.\n",
      "F:\\NLP_CV\\lec\\9lesson\\data\\notMNIST_small\\A.pickle already present - Skipping pickling.\n",
      "F:\\NLP_CV\\lec\\9lesson\\data\\notMNIST_small\\B.pickle already present - Skipping pickling.\n",
      "F:\\NLP_CV\\lec\\9lesson\\data\\notMNIST_small\\C.pickle already present - Skipping pickling.\n",
      "F:\\NLP_CV\\lec\\9lesson\\data\\notMNIST_small\\D.pickle already present - Skipping pickling.\n",
      "F:\\NLP_CV\\lec\\9lesson\\data\\notMNIST_small\\E.pickle already present - Skipping pickling.\n",
      "F:\\NLP_CV\\lec\\9lesson\\data\\notMNIST_small\\F.pickle already present - Skipping pickling.\n",
      "F:\\NLP_CV\\lec\\9lesson\\data\\notMNIST_small\\G.pickle already present - Skipping pickling.\n",
      "F:\\NLP_CV\\lec\\9lesson\\data\\notMNIST_small\\H.pickle already present - Skipping pickling.\n",
      "F:\\NLP_CV\\lec\\9lesson\\data\\notMNIST_small\\I.pickle already present - Skipping pickling.\n",
      "F:\\NLP_CV\\lec\\9lesson\\data\\notMNIST_small\\J.pickle already present - Skipping pickling.\n"
     ]
    }
   ],
   "source": [
    "image_size = 28  # Pixel width and height.\n",
    "pixel_depth = 255.0  # Number of levels per pixel.\n",
    "\n",
    "def load_letter(folder, min_num_images):\n",
    "    \"\"\"Load the data for a single letter label.\"\"\"\n",
    "    image_files = os.listdir(folder)\n",
    "    dataset = np.ndarray(shape=(len(image_files), image_size, image_size),\n",
    "                         dtype=np.float32)\n",
    "    print(folder)\n",
    "    num_images = 0\n",
    "    for image in image_files:\n",
    "        image_file = os.path.join(folder, image)\n",
    "        try:\n",
    "            image_data = (imageio.imread(image_file).astype(float) - pixel_depth / 2) / pixel_depth\n",
    "            if image_data.shape != (image_size, image_size):\n",
    "                raise Exception('Unexpected image shape: %s' % str(image_data.shape))\n",
    "            dataset[num_images, :, :] = image_data\n",
    "            num_images = num_images + 1\n",
    "        except (IOError, ValueError) as e:\n",
    "            print('Could not read:', image_file, ':', e, '- it\\'s ok, skipping.')\n",
    "    dataset = dataset[0:num_images, :, :]\n",
    "    if num_images < min_num_images:\n",
    "        raise Exception('Many fewer images than expected: %d < %d' %(num_images, min_num_images))\n",
    "    \n",
    "    print('Full dataset tensor:', dataset.shape)\n",
    "    print('Mean:', np.mean(dataset))\n",
    "    print('Standard deviation:', np.std(dataset))\n",
    "    return dataset\n",
    "        \n",
    "def maybe_pickle(data_folders, min_num_images_per_class, force=False):\n",
    "    dataset_names = []\n",
    "    for folder in data_folders:\n",
    "        set_filename = folder + '.pickle'\n",
    "        dataset_names.append(set_filename)\n",
    "        if os.path.exists(set_filename) and not force:\n",
    "            # You may override by setting force=True.\n",
    "            print('%s already present - Skipping pickling.' % set_filename)\n",
    "        else:\n",
    "            print('Pickling %s.' % set_filename)\n",
    "            dataset = load_letter(folder, min_num_images_per_class)\n",
    "            try:\n",
    "                with open(set_filename, 'wb') as f:\n",
    "                    pickle.dump(dataset, f, pickle.HIGHEST_PROTOCOL)\n",
    "            except Exception as e:\n",
    "                print('Unable to save data to', set_filename, ':', e)\n",
    "  \n",
    "    return dataset_names\n",
    "\n",
    "train_datasets = maybe_pickle(train_folders, 45000)\n",
    "test_datasets = maybe_pickle(test_folders, 1800)"
   ]
  },
  {
   "cell_type": "markdown",
   "metadata": {
    "colab_type": "text",
    "id": "vUdbskYE2d87"
   },
   "source": [
    "---\n",
    "Problem 2\n",
    "---------\n",
    "\n",
    "Let's verify that the data still looks good. Displaying a sample of the labels and images from the ndarray. Hint: you can use matplotlib.pyplot.\n",
    "\n",
    "---"
   ]
  },
  {
   "cell_type": "code",
   "execution_count": 59,
   "metadata": {},
   "outputs": [
    {
     "data": {
      "text/plain": [
       "'F:\\\\NLP_CV\\\\lec\\\\9lesson\\\\data\\\\notMNIST_large\\\\A.pickle'"
      ]
     },
     "execution_count": 59,
     "metadata": {},
     "output_type": "execute_result"
    }
   ],
   "source": [
    "train_datasets[0]"
   ]
  },
  {
   "cell_type": "code",
   "execution_count": 60,
   "metadata": {},
   "outputs": [],
   "source": [
    "samples = None\n",
    "with open(train_datasets[0],'rb') as f:\n",
    "    samples = pickle.load(f)"
   ]
  },
  {
   "cell_type": "code",
   "execution_count": 71,
   "metadata": {},
   "outputs": [
    {
     "data": {
      "text/plain": [
       "(28, 28)"
      ]
     },
     "execution_count": 71,
     "metadata": {},
     "output_type": "execute_result"
    }
   ],
   "source": [
    "samples[0].shape"
   ]
  },
  {
   "cell_type": "code",
   "execution_count": 78,
   "metadata": {},
   "outputs": [
    {
     "name": "stdout",
     "output_type": "stream",
     "text": [
      "label:  A\n"
     ]
    },
    {
     "data": {
      "image/png": "[encoded data removed]",
      "text/plain": [
       "<Figure size 432x288 with 5 Axes>"
      ]
     },
     "metadata": {
      "needs_background": "light"
     },
     "output_type": "display_data"
    }
   ],
   "source": [
    "plt.figure()\n",
    "i = 0\n",
    "print('label: ',train_datasets[0].split('\\\\')[-1].split('.')[0])\n",
    "for s in samples[5:10]:\n",
    "    i += 1\n",
    "    plt.subplot(1,5,i)\n",
    "    plt.imshow(s)\n",
    "    plt.axis('off')\n",
    "plt.show()"
   ]
  },
  {
   "cell_type": "markdown",
   "metadata": {
    "colab_type": "text",
    "id": "cYznx5jUwzoO"
   },
   "source": [
    "---\n",
    "Problem 3\n",
    "---------\n",
    "Another check: we expect the data to be balanced across classes. Verify that.\n",
    "\n",
    "---"
   ]
  },
  {
   "cell_type": "code",
   "execution_count": 80,
   "metadata": {},
   "outputs": [],
   "source": [
    "def balance_detect():\n",
    "    for p in train_datasets:\n",
    "        data = None\n",
    "        label = p.split('\\\\')[-1].split('.')[0]\n",
    "        with open(p,'rb') as f:\n",
    "            data = pickle.load(f)\n",
    "        print('label: {},length: {}'.format(label,len(data)))"
   ]
  },
  {
   "cell_type": "code",
   "execution_count": 81,
   "metadata": {},
   "outputs": [
    {
     "name": "stdout",
     "output_type": "stream",
     "text": [
      "label: A,length: 52909\n",
      "label: B,length: 52911\n",
      "label: C,length: 52912\n",
      "label: D,length: 52911\n",
      "label: E,length: 52912\n",
      "label: F,length: 52912\n",
      "label: G,length: 52912\n",
      "label: H,length: 52912\n",
      "label: I,length: 52912\n",
      "label: J,length: 52911\n"
     ]
    }
   ],
   "source": [
    "balance_detect()"
   ]
  },
  {
   "cell_type": "code",
   "execution_count": 14,
   "metadata": {},
   "outputs": [
    {
     "name": "stdout",
     "output_type": "stream",
     "text": [
      "10000 10\n",
      "0 10\n",
      "Training: (200000, 28, 28) (200000,)\n",
      "Validation: (10000, 28, 28) (10000,)\n",
      "Testing: (10000, 28, 28) (10000,)\n"
     ]
    }
   ],
   "source": [
    "def make_arrays(nb_rows, img_size):\n",
    "    if nb_rows:\n",
    "        dataset = np.ndarray((nb_rows, img_size, img_size), dtype=np.float32)\n",
    "        labels = np.ndarray(nb_rows, dtype=np.int32)\n",
    "    else:\n",
    "        dataset, labels = None, None\n",
    "    return dataset, labels\n",
    "\n",
    "def merge_datasets(pickle_files, train_size, valid_size=0):\n",
    "    num_classes = len(pickle_files)\n",
    "    print(valid_size,num_classes)\n",
    "    valid_dataset, valid_labels = make_arrays(valid_size, image_size)\n",
    "    train_dataset, train_labels = make_arrays(train_size, image_size)\n",
    "    vsize_per_class = valid_size // num_classes\n",
    "    tsize_per_class = train_size // num_classes\n",
    "    \n",
    "    start_v, start_t = 0, 0\n",
    "    end_v, end_t = vsize_per_class, tsize_per_class\n",
    "    end_l = vsize_per_class+tsize_per_class\n",
    "    for label, pickle_file in enumerate(pickle_files):       \n",
    "        try:\n",
    "            with open(pickle_file, 'rb') as f:\n",
    "                letter_set = pickle.load(f)\n",
    "                # let's shuffle the letters to have random validation and training set\n",
    "                np.random.shuffle(letter_set)\n",
    "            if valid_dataset is not None:\n",
    "                valid_letter = letter_set[:vsize_per_class, :, :]\n",
    "                valid_dataset[start_v:end_v, :, :] = valid_letter\n",
    "                valid_labels[start_v:end_v] = label\n",
    "                start_v += vsize_per_class\n",
    "                end_v += vsize_per_class\n",
    "                    \n",
    "            train_letter = letter_set[vsize_per_class:end_l, :, :]\n",
    "            train_dataset[start_t:end_t, :, :] = train_letter\n",
    "            train_labels[start_t:end_t] = label\n",
    "            start_t += tsize_per_class\n",
    "            end_t += tsize_per_class\n",
    "        except Exception as e:\n",
    "            print('Unable to process data from', pickle_file, ':', e)\n",
    "            raise\n",
    "    \n",
    "    return valid_dataset, valid_labels, train_dataset, train_labels\n",
    "            \n",
    "            \n",
    "train_size = 200000\n",
    "valid_size = 10000\n",
    "test_size = 10000\n",
    "\n",
    "valid_dataset, valid_labels, train_dataset, train_labels = merge_datasets(train_datasets, train_size, valid_size)\n",
    "_, _, test_dataset, test_labels = merge_datasets(test_datasets, test_size)\n",
    "\n",
    "print('Training:', train_dataset.shape, train_labels.shape)\n",
    "print('Validation:', valid_dataset.shape, valid_labels.shape)\n",
    "print('Testing:', test_dataset.shape, test_labels.shape)"
   ]
  },
  {
   "cell_type": "code",
   "execution_count": 15,
   "metadata": {},
   "outputs": [],
   "source": [
    "def randomize(dataset, labels):\n",
    "    permutation = np.random.permutation(labels.shape[0])\n",
    "    shuffled_dataset = dataset[permutation,:,:]\n",
    "    shuffled_labels = labels[permutation]\n",
    "    return shuffled_dataset, shuffled_labels\n",
    "train_dataset, train_labels = randomize(train_dataset, train_labels)\n",
    "test_dataset, test_labels = randomize(test_dataset, test_labels)\n",
    "valid_dataset, valid_labels = randomize(valid_dataset, valid_labels)"
   ]
  },
  {
   "cell_type": "markdown",
   "metadata": {
    "colab_type": "text",
    "id": "puDUTe6t6USl"
   },
   "source": [
    "---\n",
    "Problem 4\n",
    "---------\n",
    "Convince yourself that the data is still good after shuffling!\n",
    "\n",
    "---"
   ]
  },
  {
   "cell_type": "code",
   "execution_count": 95,
   "metadata": {},
   "outputs": [
    {
     "data": {
      "text/plain": [
       "['F:\\\\NLP_CV\\\\lec\\\\9lesson\\\\data\\\\notMNIST_large\\\\A.pickle',\n",
       " 'F:\\\\NLP_CV\\\\lec\\\\9lesson\\\\data\\\\notMNIST_large\\\\B.pickle',\n",
       " 'F:\\\\NLP_CV\\\\lec\\\\9lesson\\\\data\\\\notMNIST_large\\\\C.pickle',\n",
       " 'F:\\\\NLP_CV\\\\lec\\\\9lesson\\\\data\\\\notMNIST_large\\\\D.pickle',\n",
       " 'F:\\\\NLP_CV\\\\lec\\\\9lesson\\\\data\\\\notMNIST_large\\\\E.pickle',\n",
       " 'F:\\\\NLP_CV\\\\lec\\\\9lesson\\\\data\\\\notMNIST_large\\\\F.pickle',\n",
       " 'F:\\\\NLP_CV\\\\lec\\\\9lesson\\\\data\\\\notMNIST_large\\\\G.pickle',\n",
       " 'F:\\\\NLP_CV\\\\lec\\\\9lesson\\\\data\\\\notMNIST_large\\\\H.pickle',\n",
       " 'F:\\\\NLP_CV\\\\lec\\\\9lesson\\\\data\\\\notMNIST_large\\\\I.pickle',\n",
       " 'F:\\\\NLP_CV\\\\lec\\\\9lesson\\\\data\\\\notMNIST_large\\\\J.pickle']"
      ]
     },
     "execution_count": 95,
     "metadata": {},
     "output_type": "execute_result"
    }
   ],
   "source": [
    "train_datasets"
   ]
  },
  {
   "cell_type": "code",
   "execution_count": 193,
   "metadata": {},
   "outputs": [],
   "source": [
    "def shuffle_perfect(target = 'Train'):\n",
    "    labels = None\n",
    "    files = None\n",
    "    dataset = None\n",
    "    if target == 'Train':\n",
    "        print('Start detecting shuffled training datasets - - - - - -')\n",
    "        dataset = train_dataset\n",
    "        files = train_datasets\n",
    "        labels = train_labels\n",
    "    elif target == 'Validation':\n",
    "        print('Start detecting shuffled validation datasets - - - - - -')\n",
    "        dataset = valid_dataset\n",
    "        files = train_datasets\n",
    "        labels = valid_labels\n",
    "    elif target == 'Test':\n",
    "        print('Start detecting shuffled testing datasets - - - - - -')  \n",
    "        dataset = test_dataset\n",
    "        files = test_datasets\n",
    "        labels = test_labels\n",
    "    sort_idx = np.argsort(labels)\n",
    "    total_len = len(labels)\n",
    "    seg = total_len//10\n",
    "    limit = 0\n",
    "    data = None\n",
    "    N = 0\n",
    "    for i,l in enumerate(sort_idx):\n",
    "        \n",
    "        if i%seg == 0:\n",
    "            \n",
    "            with open(files[i//seg],'rb') as f:\n",
    "                data = pickle.load(f)\n",
    "        if dataset[l] in data:\n",
    "            N += 1\n",
    "            letter = files[i//seg].split('\\\\')[-1].split('.')[0]\n",
    "            print('\\r label: {}, letter: {}, volume: {}/{}'.format(i//seg,letter,N,seg),end='')\n",
    "        if (i+1)%seg == 0:\n",
    "            letter = files[i//seg].split('\\\\')[-1].split('.')[0]\n",
    "            if N == seg:\n",
    "                print('label: {}, letter: {}, volume: {}/{} - - - - Finish detected,Shuffle Perfectly!!!'.format(l,letter,N,seg))\n",
    "            else:\n",
    "                print('label: {}, letter: {}, volume: {}/{} - - - - Shuffle Defeated!!!'.format(l,letter,N,seg))\n",
    "            N = 0\n",
    "        \n",
    "        "
   ]
  },
  {
   "cell_type": "code",
   "execution_count": 194,
   "metadata": {},
   "outputs": [
    {
     "name": "stdout",
     "output_type": "stream",
     "text": [
      "Start detecting shuffled training datasets - - - - - -\n",
      " label: 0, letter: A, volume: 20000/20000label: 98204, letter: A, volume: 20000/20000 - - - - Finish detected,Shuffle Perfectly!!!\n",
      " label: 1, letter: B, volume: 20000/20000label: 95542, letter: B, volume: 20000/20000 - - - - Finish detected,Shuffle Perfectly!!!\n",
      " label: 2, letter: C, volume: 20000/20000label: 187730, letter: C, volume: 20000/20000 - - - - Finish detected,Shuffle Perfectly!!!\n",
      " label: 3, letter: D, volume: 20000/20000label: 100852, letter: D, volume: 20000/20000 - - - - Finish detected,Shuffle Perfectly!!!\n",
      " label: 4, letter: E, volume: 20000/20000label: 79163, letter: E, volume: 20000/20000 - - - - Finish detected,Shuffle Perfectly!!!\n",
      " label: 5, letter: F, volume: 20000/20000label: 101302, letter: F, volume: 20000/20000 - - - - Finish detected,Shuffle Perfectly!!!\n",
      " label: 6, letter: G, volume: 20000/20000label: 12968, letter: G, volume: 20000/20000 - - - - Finish detected,Shuffle Perfectly!!!\n",
      " label: 7, letter: H, volume: 20000/20000label: 22390, letter: H, volume: 20000/20000 - - - - Finish detected,Shuffle Perfectly!!!\n",
      " label: 8, letter: I, volume: 20000/20000label: 137437, letter: I, volume: 20000/20000 - - - - Finish detected,Shuffle Perfectly!!!\n",
      " label: 9, letter: J, volume: 20000/20000label: 145406, letter: J, volume: 20000/20000 - - - - Finish detected,Shuffle Perfectly!!!\n"
     ]
    }
   ],
   "source": [
    "shuffle_perfect(target = 'Train')"
   ]
  },
  {
   "cell_type": "code",
   "execution_count": 19,
   "metadata": {},
   "outputs": [],
   "source": [
    "pickle_file = os.path.join(data_root, 'notMNIST.pickle')\n",
    "\n",
    "try:\n",
    "    f = open(pickle_file, 'wb')\n",
    "    save = {\n",
    "        'train_dataset': train_dataset,\n",
    "        'train_labels': train_labels,\n",
    "        'valid_dataset': valid_dataset,\n",
    "        'valid_labels': valid_labels,\n",
    "        'test_dataset': test_dataset,\n",
    "        'test_labels': test_labels,\n",
    "        }\n",
    "    pickle.dump(save, f, pickle.HIGHEST_PROTOCOL)\n",
    "    f.close()\n",
    "except Exception as e:\n",
    "    print('Unable to save data to', pickle_file, ':', e)\n",
    "    raise"
   ]
  },
  {
   "cell_type": "code",
   "execution_count": 24,
   "metadata": {},
   "outputs": [
    {
     "data": {
      "text/plain": [
       "(10000, 28, 28)"
      ]
     },
     "execution_count": 24,
     "metadata": {},
     "output_type": "execute_result"
    }
   ],
   "source": [
    "dataset['test_dataset'].shape"
   ]
  },
  {
   "cell_type": "markdown",
   "metadata": {
    "colab_type": "text",
    "id": "gE_cRAQB33lk"
   },
   "source": [
    "---\n",
    "Problem 5\n",
    "---------\n",
    "\n",
    "By construction, this dataset might contain a lot of overlapping samples, including training data that's also contained in the validation and test set! Overlap between training and test can skew the results if you expect to use your model in an environment where there is never an overlap, but are actually ok if you expect to see training samples recur when you use it.\n",
    "Measure how much overlap there is between training, validation and test samples.\n",
    "\n",
    "Optional questions:\n",
    "- What about near duplicates between datasets? (images that are almost identical)\n",
    "- Create a sanitized validation and test set, and compare your accuracy on those in subsequent assignments.\n",
    "---"
   ]
  },
  {
   "cell_type": "code",
   "execution_count": 25,
   "metadata": {},
   "outputs": [],
   "source": [
    "from sklearn.metrics.pairwise import cosine_similarity"
   ]
  },
  {
   "cell_type": "code",
   "execution_count": 26,
   "metadata": {},
   "outputs": [],
   "source": [
    "np.intersect1d?"
   ]
  },
  {
   "cell_type": "code",
   "execution_count": 189,
   "metadata": {},
   "outputs": [],
   "source": [
    "def get_golden():\n",
    "\n",
    "    train_dataset_golden = train_dataset\n",
    "    train_labels_golden = train_labels\n",
    "    valid_dataset_golden = None\n",
    "    valid_labels_golden = None\n",
    "    test_dataset_golden = None\n",
    "    test_labels_golden = None\n",
    "    \n",
    "    def cut_loop(host,guest,bill,info):\n",
    "        pure_data = []\n",
    "        pure_labels = []\n",
    "        N = 0\n",
    "        for i,v in enumerate(guest):\n",
    "            if not np.equal(v,host).all(axis=1).all(axis=1).any():\n",
    "                pure_data += [v]\n",
    "                pure_labels += [bill[i]]\n",
    "                N += 1\n",
    "            print('\\r{}: volume: {}/{}  Golden: {}'.format(info,i+1,len(guest),N),end='')\n",
    "        print()\n",
    "        print('{}: overlapped: {}'.format(info,len(guest)-N))\n",
    "        print('Pure {} datasets shape: {}'.format(info.split('-')[1],np.stack(pure_data).shape))\n",
    "        print('{} Finished!!'.format(info))\n",
    "        return np.stack(pure_data),np.stack(pure_labels)\n",
    "    \n",
    "    quene = [[train_dataset,valid_dataset,valid_labels,'Training-Validation'],\n",
    "             [train_dataset,test_dataset,test_labels,'Training-Testing'],\n",
    "             [valid_dataset,test_dataset,test_labels,'Validation-Testing']]\n",
    "    i = 0\n",
    "    for host,guest,bill,info in quene:\n",
    "        print('STEP {} Processing : {} - - - - - -'.format(i+1,info))\n",
    "        if i == 0:\n",
    "            valid_dataset_golden ,valid_labels_golden = cut_loop(host,guest,bill,info)\n",
    "        elif i == 1:\n",
    "            test_dataset_golden, test_labels_golden = cut_loop(host,guest,bill,info)\n",
    "            quene[2] = [valid_dataset_golden,test_dataset_golden,test_labels_golden] + [quene[2][3]]\n",
    "        elif i == 2:\n",
    "            test_dataset_golden, test_labels_golden = cut_loop(host,guest,bill,info)\n",
    "        i += 1    \n",
    "        \n",
    "    save = {\n",
    "        'train_dataset_golden': train_dataset_golden,\n",
    "        'train_labels_golden': train_labels_golden,\n",
    "        'valid_dataset_golden': valid_dataset_golden,\n",
    "        'valid_labels_golden': valid_labels_golden,\n",
    "        'test_dataset_golden': test_dataset_golden,\n",
    "        'test_labels_golden': test_labels_golden,\n",
    "        }\n",
    "    pickle_file = os.path.join(data_root, 'notMNIST_Golden.pickle')\n",
    "    \n",
    "    try:\n",
    "        f = open(pickle_file, 'wb')\n",
    "        pickle.dump(save, f, pickle.HIGHEST_PROTOCOL)\n",
    "        f.close()\n",
    "    except Exception as e:\n",
    "        print('Unable to save data to', pickle_file, ':', e)\n",
    "        raise\n",
    "    print('Got the Golden datasets!!!')"
   ]
  },
  {
   "cell_type": "code",
   "execution_count": 190,
   "metadata": {},
   "outputs": [
    {
     "name": "stdout",
     "output_type": "stream",
     "text": [
      "STEP 1 Processing : Training-Validation - - - - - -\n",
      "Training-Validation: volume: 10000/10000  Golden: 8933\n",
      "Training-Validation: overlapped: 1067\n",
      "Pure Validation datasets shape: (8933, 28, 28)\n",
      "Training-Validation Finished!!\n",
      "STEP 2 Processing : Training-Testing - - - - - -\n",
      "Training-Testing: volume: 10000/10000  Golden: 8676\n",
      "Training-Testing: overlapped: 1324\n",
      "Pure Testing datasets shape: (8676, 28, 28)\n",
      "Training-Testing Finished!!\n",
      "STEP 3 Processing : Validation-Testing - - - - - -\n",
      "Validation-Testing: volume: 8676/8676  Golden: 8639\n",
      "Validation-Testing: overlapped: 37\n",
      "Pure Testing datasets shape: (8639, 28, 28)\n",
      "Validation-Testing Finished!!\n",
      "Got the Golden datasets!!!\n"
     ]
    }
   ],
   "source": [
    "get_golden()"
   ]
  },
  {
   "cell_type": "markdown",
   "metadata": {
    "colab_type": "text",
    "id": "L8oww1s4JMQx"
   },
   "source": [
    "---\n",
    "Problem 6\n",
    "---------\n",
    "\n",
    "Let's get an idea of what an off-the-shelf classifier can give you on this data. It's always good to check that there is something to learn, and that it's a problem that is not so trivial that a canned solution solves it.\n",
    "\n",
    "Train a simple model on this data using 50, 100, 1000 and 5000 training samples. Hint: you can use the LogisticRegression model from sklearn.linear_model.\n",
    "\n",
    "Optional question: train an off-the-shelf model on all the data!\n",
    "\n",
    "---"
   ]
  },
  {
   "cell_type": "code",
   "execution_count": 191,
   "metadata": {},
   "outputs": [],
   "source": [
    "from sklearn.linear_model import LogisticRegression"
   ]
  },
  {
   "cell_type": "code",
   "execution_count": 3,
   "metadata": {},
   "outputs": [],
   "source": [
    "data_root = './data'\n",
    "golden_file = os.path.join(data_root, 'notMNIST_Golden.pickle')\n",
    "dataset = None\n",
    "with open(golden_file,'rb') as f:\n",
    "    dataset = pickle.load(f)"
   ]
  },
  {
   "cell_type": "code",
   "execution_count": 4,
   "metadata": {},
   "outputs": [],
   "source": [
    "train_dataset_golden = dataset['train_dataset_golden']"
   ]
  },
  {
   "cell_type": "code",
   "execution_count": 5,
   "metadata": {},
   "outputs": [],
   "source": [
    "train_labels_golden = dataset['train_labels_golden']"
   ]
  },
  {
   "cell_type": "code",
   "execution_count": 6,
   "metadata": {},
   "outputs": [],
   "source": [
    "valid_dataset_golden = dataset['valid_dataset_golden']"
   ]
  },
  {
   "cell_type": "code",
   "execution_count": 7,
   "metadata": {},
   "outputs": [],
   "source": [
    "valid_labels_golden = dataset['valid_labels_golden']"
   ]
  },
  {
   "cell_type": "code",
   "execution_count": 8,
   "metadata": {},
   "outputs": [],
   "source": [
    "test_dataset_golden = dataset['test_dataset_golden']"
   ]
  },
  {
   "cell_type": "code",
   "execution_count": 9,
   "metadata": {},
   "outputs": [],
   "source": [
    "test_labels_golden = dataset['test_labels_golden']"
   ]
  },
  {
   "cell_type": "code",
   "execution_count": 10,
   "metadata": {},
   "outputs": [],
   "source": [
    "del(dataset)"
   ]
  },
  {
   "cell_type": "code",
   "execution_count": 11,
   "metadata": {},
   "outputs": [
    {
     "data": {
      "text/plain": [
       "((200000, 28, 28), (200000,))"
      ]
     },
     "execution_count": 11,
     "metadata": {},
     "output_type": "execute_result"
    }
   ],
   "source": [
    "train_dataset_golden.shape ,train_labels_golden.shape"
   ]
  },
  {
   "cell_type": "code",
   "execution_count": 198,
   "metadata": {},
   "outputs": [],
   "source": [
    "train_data_batches = [train_dataset_golden[:50],train_dataset_golden[:100],train_dataset_golden[:1000],train_dataset_golden[:5000]]\n",
    "train_label_batches = [train_labels_golden[:50],train_labels_golden[:100],train_labels_golden[:1000],train_labels_golden[:5000]]"
   ]
  },
  {
   "cell_type": "code",
   "execution_count": 257,
   "metadata": {},
   "outputs": [],
   "source": [
    "def cots_batch_training():\n",
    "    for train_data_batch,train_label_batch in zip(train_data_batches,train_label_batches):\n",
    "        print('Begin training for {} samples - - - - - - - - - - -'.format(train_data_batch.shape[0]))\n",
    "        clf = LogisticRegression(solver='lbfgs',max_iter = 2000,multi_class='multinomial').fit(np.reshape(train_data_batch,(train_data_batch.shape[0],-1)), train_label_batch)\n",
    "        print('Prediction for {} test samples - - accuracy: {}'.format(test_dataset_golden[:100].shape[0],clf.score(np.reshape(test_dataset_golden[:100],(test_dataset_golden[:100].shape[0],-1)),test_labels_golden[:100])))"
   ]
  },
  {
   "cell_type": "code",
   "execution_count": 258,
   "metadata": {},
   "outputs": [
    {
     "name": "stdout",
     "output_type": "stream",
     "text": [
      "Begin training for 50 samples - - - - - - - - - - -\n",
      "Prediction for 100 test samples - - accuracy: 0.39\n",
      "Begin training for 100 samples - - - - - - - - - - -\n",
      "Prediction for 100 test samples - - accuracy: 0.67\n",
      "Begin training for 1000 samples - - - - - - - - - - -\n",
      "Prediction for 100 test samples - - accuracy: 0.77\n",
      "Begin training for 5000 samples - - - - - - - - - - -\n",
      "Prediction for 100 test samples - - accuracy: 0.84\n"
     ]
    }
   ],
   "source": [
    "cots_batch_training()"
   ]
  },
  {
   "cell_type": "code",
   "execution_count": 259,
   "metadata": {},
   "outputs": [],
   "source": [
    "def cots_training():\n",
    "    print('Begin training on golden - - - - - - - - - - -')\n",
    "    clf = LogisticRegression(solver='lbfgs',max_iter = 2000,multi_class='multinomial',n_jobs=-1).fit(np.reshape(train_dataset_golden,(train_dataset_golden.shape[0],-1)), train_labels_golden)\n",
    "    print('Prediction for testset - - accuracy: {}'.format(clf.score(np.reshape(test_dataset_golden,(test_dataset_golden.shape[0],-1)),test_labels_golden)))    "
   ]
  },
  {
   "cell_type": "code",
   "execution_count": 260,
   "metadata": {
    "scrolled": true
   },
   "outputs": [
    {
     "name": "stdout",
     "output_type": "stream",
     "text": [
      "Begin training on golden - - - - - - - - - - -\n",
      "Prediction for testset - - accuracy: 0.8909596018057645\n"
     ]
    }
   ],
   "source": [
    "cots_training()"
   ]
  },
  {
   "cell_type": "markdown",
   "metadata": {},
   "source": [
    "# 2. Use tensorflow for pattern recognization"
   ]
  },
  {
   "cell_type": "code",
   "execution_count": 12,
   "metadata": {},
   "outputs": [
    {
     "name": "stderr",
     "output_type": "stream",
     "text": [
      "e:\\anaconda2\\envs\\tf\\lib\\site-packages\\tensorflow\\python\\framework\\dtypes.py:523: FutureWarning: Passing (type, 1) or '1type' as a synonym of type is deprecated; in a future version of numpy, it will be understood as (type, (1,)) / '(1,)type'.\n",
      "  _np_qint8 = np.dtype([(\"qint8\", np.int8, 1)])\n",
      "e:\\anaconda2\\envs\\tf\\lib\\site-packages\\tensorflow\\python\\framework\\dtypes.py:524: FutureWarning: Passing (type, 1) or '1type' as a synonym of type is deprecated; in a future version of numpy, it will be understood as (type, (1,)) / '(1,)type'.\n",
      "  _np_quint8 = np.dtype([(\"quint8\", np.uint8, 1)])\n",
      "e:\\anaconda2\\envs\\tf\\lib\\site-packages\\tensorflow\\python\\framework\\dtypes.py:525: FutureWarning: Passing (type, 1) or '1type' as a synonym of type is deprecated; in a future version of numpy, it will be understood as (type, (1,)) / '(1,)type'.\n",
      "  _np_qint16 = np.dtype([(\"qint16\", np.int16, 1)])\n",
      "e:\\anaconda2\\envs\\tf\\lib\\site-packages\\tensorflow\\python\\framework\\dtypes.py:526: FutureWarning: Passing (type, 1) or '1type' as a synonym of type is deprecated; in a future version of numpy, it will be understood as (type, (1,)) / '(1,)type'.\n",
      "  _np_quint16 = np.dtype([(\"quint16\", np.uint16, 1)])\n",
      "e:\\anaconda2\\envs\\tf\\lib\\site-packages\\tensorflow\\python\\framework\\dtypes.py:527: FutureWarning: Passing (type, 1) or '1type' as a synonym of type is deprecated; in a future version of numpy, it will be understood as (type, (1,)) / '(1,)type'.\n",
      "  _np_qint32 = np.dtype([(\"qint32\", np.int32, 1)])\n",
      "e:\\anaconda2\\envs\\tf\\lib\\site-packages\\tensorflow\\python\\framework\\dtypes.py:532: FutureWarning: Passing (type, 1) or '1type' as a synonym of type is deprecated; in a future version of numpy, it will be understood as (type, (1,)) / '(1,)type'.\n",
      "  np_resource = np.dtype([(\"resource\", np.ubyte, 1)])\n"
     ]
    }
   ],
   "source": [
    "import tensorflow as tf\n",
    "from six.moves import range"
   ]
  },
  {
   "cell_type": "code",
   "execution_count": 13,
   "metadata": {},
   "outputs": [
    {
     "name": "stdout",
     "output_type": "stream",
     "text": [
      "Training set (200000, 784) (200000, 10)\n",
      "Validation set (8933, 784) (8933, 10)\n",
      "Test set (8639, 784) (8639, 10)\n"
     ]
    }
   ],
   "source": [
    "image_size = 28\n",
    "num_labels = 10\n",
    "\n",
    "def reformat(dataset, labels):\n",
    "    dataset = dataset.reshape((-1, image_size * image_size)).astype(np.float32)\n",
    "    # Map 0 to [1.0, 0.0, 0.0 ...], 1 to [0.0, 1.0, 0.0 ...]\n",
    "    labels = (np.arange(num_labels) == labels[:,None]).astype(np.float32)\n",
    "    return dataset, labels\n",
    "train_dataset_golden, train_labels_golden = reformat(train_dataset_golden, train_labels_golden)\n",
    "valid_dataset_golden, valid_labels_golden = reformat(valid_dataset_golden, valid_labels_golden)\n",
    "test_dataset_golden, test_labels_golden = reformat(test_dataset_golden, test_labels_golden)\n",
    "print('Training set', train_dataset_golden.shape, train_labels_golden.shape)\n",
    "print('Validation set', valid_dataset_golden.shape, valid_labels_golden.shape)\n",
    "print('Test set', test_dataset_golden.shape, test_labels_golden.shape)"
   ]
  },
  {
   "cell_type": "code",
   "execution_count": 28,
   "metadata": {},
   "outputs": [],
   "source": [
    "np.argmax?"
   ]
  },
  {
   "cell_type": "code",
   "execution_count": 14,
   "metadata": {},
   "outputs": [],
   "source": [
    "def accuracy(predictions, labels):\n",
    "    return (100.0 * np.sum(np.argmax(predictions, 1) == np.argmax(labels, 1))/ predictions.shape[0])"
   ]
  },
  {
   "cell_type": "code",
   "execution_count": 19,
   "metadata": {
    "cellView": "both",
    "colab": {
     "autoexec": {
      "startup": false,
      "wait_interval": 0
     }
    },
    "colab_type": "code",
    "id": "Nfv39qvtvOl_"
   },
   "outputs": [
    {
     "name": "stdout",
     "output_type": "stream",
     "text": [
      "WARNING:tensorflow:From <ipython-input-19-e2987f66baff>:31: softmax_cross_entropy_with_logits (from tensorflow.python.ops.nn_ops) is deprecated and will be removed in a future version.\n",
      "Instructions for updating:\n",
      "\n",
      "Future major versions of TensorFlow will allow gradients to flow\n",
      "into the labels input on backprop by default.\n",
      "\n",
      "See @{tf.nn.softmax_cross_entropy_with_logits_v2}.\n",
      "\n"
     ]
    }
   ],
   "source": [
    "# With gradient descent training, even this much data is prohibitive.\n",
    "# Subset the training data for faster turnaround.\n",
    "train_subset = 10000\n",
    "\n",
    "graph = tf.Graph()\n",
    "with graph.as_default():\n",
    "\n",
    "    # Input data.\n",
    "    # Load the training, validation and test data into constants that are\n",
    "    # attached to the graph.\n",
    "    tf_train_dataset = tf.constant(train_dataset_golden[:train_subset, :])\n",
    "    tf_train_labels = tf.constant(train_labels_golden[:train_subset])\n",
    "    tf_valid_dataset = tf.constant(valid_dataset_golden)\n",
    "    tf_test_dataset = tf.constant(test_dataset_golden)\n",
    "  \n",
    "    # Variables.\n",
    "    # These are the parameters that we are going to be training. The weight\n",
    "    # matrix will be initialized using random values following a (truncated)\n",
    "    # normal distribution. The biases get initialized to zero.\n",
    "    weights = tf.Variable(\n",
    "        tf.truncated_normal([image_size * image_size, num_labels]))\n",
    "    biases = tf.Variable(tf.zeros([num_labels]))\n",
    "  \n",
    "    # Training computation.\n",
    "    # We multiply the inputs with the weight matrix, and add biases. We compute\n",
    "    # the softmax and cross-entropy (it's one operation in TensorFlow, because\n",
    "    # it's very common, and it can be optimized). We take the average of this\n",
    "    # cross-entropy across all training examples: that's our loss.\n",
    "    logits = tf.matmul(tf_train_dataset, weights) + biases\n",
    "    loss = tf.reduce_mean(\n",
    "        tf.nn.softmax_cross_entropy_with_logits(labels=tf_train_labels, logits=logits))\n",
    "  \n",
    "    # Optimizer.\n",
    "    # We are going to find the minimum of this loss using gradient descent.\n",
    "    optimizer = tf.train.GradientDescentOptimizer(0.5).minimize(loss)\n",
    "    \n",
    "    # Predictions for the training, validation, and test data.\n",
    "    # These are not part of training, but merely here so that we can report\n",
    "    # accuracy figures as we train.\n",
    "    train_prediction = tf.nn.softmax(logits)\n",
    "    valid_prediction = tf.nn.softmax(tf.matmul(tf_valid_dataset, weights) + biases)\n",
    "    test_prediction = tf.nn.softmax(tf.matmul(tf_test_dataset, weights) + biases)"
   ]
  },
  {
   "cell_type": "code",
   "execution_count": 32,
   "metadata": {},
   "outputs": [],
   "source": [
    "tf.nn.softmax_cross_entropy_with_logits?"
   ]
  },
  {
   "cell_type": "code",
   "execution_count": 18,
   "metadata": {},
   "outputs": [],
   "source": [
    "tf.nn.l2_loss?"
   ]
  },
  {
   "cell_type": "code",
   "execution_count": 20,
   "metadata": {},
   "outputs": [
    {
     "name": "stdout",
     "output_type": "stream",
     "text": [
      "Initialized\n",
      "Loss at step 0: 18.284290\n",
      "Training accuracy: 10.4%\n",
      "Validation accuracy: 12.1%\n",
      "Loss at step 100: 2.335981\n",
      "Training accuracy: 71.9%\n",
      "Validation accuracy: 68.6%\n",
      "Loss at step 200: 1.877232\n",
      "Training accuracy: 75.1%\n",
      "Validation accuracy: 70.9%\n",
      "Loss at step 300: 1.630351\n",
      "Training accuracy: 76.5%\n",
      "Validation accuracy: 71.8%\n",
      "Loss at step 400: 1.463516\n",
      "Training accuracy: 77.3%\n",
      "Validation accuracy: 72.4%\n",
      "Loss at step 500: 1.339284\n",
      "Training accuracy: 78.0%\n",
      "Validation accuracy: 72.7%\n",
      "Loss at step 600: 1.242017\n",
      "Training accuracy: 78.5%\n",
      "Validation accuracy: 73.0%\n",
      "Loss at step 700: 1.162977\n",
      "Training accuracy: 79.1%\n",
      "Validation accuracy: 73.2%\n",
      "Loss at step 800: 1.097071\n",
      "Training accuracy: 79.5%\n",
      "Validation accuracy: 73.3%\n",
      "Test accuracy: 81.4%\n"
     ]
    }
   ],
   "source": [
    "num_steps = 801\n",
    "\n",
    "\n",
    "with tf.Session(graph=graph) as session:\n",
    "    # This is a one-time operation which ensures the parameters get initialized as\n",
    "    # we described in the graph: random weights for the matrix, zeros for the\n",
    "    # biases. \n",
    "    tf.global_variables_initializer().run()\n",
    "    print('Initialized')\n",
    "    for step in range(num_steps):\n",
    "        # Run the computations. We tell .run() that we want to run the optimizer,\n",
    "        # and get the loss value and the training predictions returned as numpy\n",
    "        # arrays.\n",
    "        _, l, predictions = session.run([optimizer, loss, train_prediction])\n",
    "        if (step % 100 == 0):\n",
    "            print('Loss at step %d: %f' % (step, l))\n",
    "            print('Training accuracy: %.1f%%' % accuracy(predictions, train_labels_golden[:train_subset, :]))\n",
    "            # Calling .eval() on valid_prediction is basically like calling run(), but\n",
    "            # just to get that one numpy array. Note that it recomputes all its graph\n",
    "            # dependencies.\n",
    "            print('Validation accuracy: %.1f%%' % accuracy(valid_prediction.eval(), valid_labels_golden))\n",
    "    print('Test accuracy: %.1f%%' % accuracy(test_prediction.eval(), test_labels_golden))"
   ]
  },
  {
   "cell_type": "code",
   "execution_count": 22,
   "metadata": {},
   "outputs": [],
   "source": [
    "batch_size = 128\n",
    "\n",
    "graph = tf.Graph()\n",
    "with graph.as_default():\n",
    "\n",
    "    # Input data. For the training data, we use a placeholder that will be fed\n",
    "    # at run time with a training minibatch.\n",
    "    tf_train_dataset = tf.placeholder(tf.float32,shape=(batch_size, image_size * image_size))\n",
    "    tf_train_labels = tf.placeholder(tf.float32, shape=(batch_size, num_labels))\n",
    "    tf_valid_dataset = tf.constant(valid_dataset_golden)\n",
    "    tf_test_dataset = tf.constant(test_dataset_golden)\n",
    "  \n",
    "    # Variables.\n",
    "    weights = tf.Variable(tf.truncated_normal([image_size * image_size, num_labels]))\n",
    "    biases = tf.Variable(tf.zeros([num_labels]))\n",
    "    \n",
    "    # Training computation.\n",
    "    logits = tf.matmul(tf_train_dataset, weights) + biases\n",
    "    loss = tf.reduce_mean(tf.nn.softmax_cross_entropy_with_logits(labels=tf_train_labels, logits=logits))\n",
    "    \n",
    "    # Optimizer.\n",
    "    optimizer = tf.train.GradientDescentOptimizer(0.5).minimize(loss)\n",
    "  \n",
    "    # Predictions for the training, validation, and test data.\n",
    "    train_prediction = tf.nn.softmax(logits)\n",
    "    valid_prediction = tf.nn.softmax(tf.matmul(tf_valid_dataset, weights) + biases)\n",
    "    test_prediction = tf.nn.softmax(tf.matmul(tf_test_dataset, weights) + biases)"
   ]
  },
  {
   "cell_type": "code",
   "execution_count": 24,
   "metadata": {},
   "outputs": [
    {
     "name": "stdout",
     "output_type": "stream",
     "text": [
      "Initialized\n",
      "Minibatch loss at step 0: 16.661697\n",
      "Minibatch accuracy: 10.2%\n",
      "Validation accuracy: 12.0%\n",
      "Minibatch loss at step 500: 1.226358\n",
      "Minibatch accuracy: 78.9%\n",
      "Validation accuracy: 73.9%\n",
      "Minibatch loss at step 1000: 1.133397\n",
      "Minibatch accuracy: 82.0%\n",
      "Validation accuracy: 75.3%\n",
      "Minibatch loss at step 1500: 0.703474\n",
      "Minibatch accuracy: 83.6%\n",
      "Validation accuracy: 75.0%\n",
      "Minibatch loss at step 2000: 0.986797\n",
      "Minibatch accuracy: 81.2%\n",
      "Validation accuracy: 76.1%\n",
      "Minibatch loss at step 2500: 0.996872\n",
      "Minibatch accuracy: 75.8%\n",
      "Validation accuracy: 76.7%\n",
      "Minibatch loss at step 3000: 1.005944\n",
      "Minibatch accuracy: 75.0%\n",
      "Validation accuracy: 77.5%\n",
      "Test accuracy: 85.1%\n"
     ]
    }
   ],
   "source": [
    "num_steps = 3001\n",
    "\n",
    "with tf.Session(graph=graph) as session:\n",
    "    tf.global_variables_initializer().run()\n",
    "    print(\"Initialized\")\n",
    "    for step in range(num_steps):\n",
    "        # Pick an offset within the training data, which has been randomized.\n",
    "        # Note: we could use better randomization across epochs.\n",
    "        offset = (step * batch_size) % (train_labels_golden.shape[0] - batch_size)\n",
    "        # Generate a minibatch.\n",
    "        batch_data = train_dataset_golden[offset:(offset + batch_size), :]\n",
    "        batch_labels = train_labels_golden[offset:(offset + batch_size), :]\n",
    "        # Prepare a dictionary telling the session where to feed the minibatch.\n",
    "        # The key of the dictionary is the placeholder node of the graph to be fed,\n",
    "        # and the value is the numpy array to feed to it.\n",
    "        feed_dict = {tf_train_dataset : batch_data, tf_train_labels : batch_labels}\n",
    "        _, l, predictions = session.run([optimizer, loss, train_prediction], feed_dict=feed_dict)\n",
    "        if (step % 500 == 0):\n",
    "            print(\"Minibatch loss at step %d: %f\" % (step, l))\n",
    "            print(\"Minibatch accuracy: %.1f%%\" % accuracy(predictions, batch_labels))\n",
    "            print(\"Validation accuracy: %.1f%%\" % accuracy(valid_prediction.eval(), valid_labels_golden))\n",
    "    print(\"Test accuracy: %.1f%%\" % accuracy(test_prediction.eval(), test_labels_golden))"
   ]
  },
  {
   "cell_type": "markdown",
   "metadata": {
    "colab_type": "text",
    "id": "7omWxtvLLxik"
   },
   "source": [
    "---\n",
    "Problem\n",
    "-------\n",
    "\n",
    "Turn the logistic regression example with SGD into a 1-hidden layer neural network with rectified linear units [nn.relu()](https://www.tensorflow.org/versions/r0.7/api_docs/python/nn.html#relu) and 1024 hidden nodes. This model should improve your validation / test accuracy.\n",
    "\n",
    "---"
   ]
  },
  {
   "cell_type": "code",
   "execution_count": 28,
   "metadata": {},
   "outputs": [],
   "source": [
    "tf.nn.relu?"
   ]
  },
  {
   "cell_type": "code",
   "execution_count": 23,
   "metadata": {},
   "outputs": [],
   "source": [
    "batch_size = 128\n",
    "n_hiddden = 1024\n",
    "image_size = 28\n",
    "graph = tf.Graph()\n",
    "with graph.as_default():\n",
    "\n",
    "    # Input data. For the training data, we use a placeholder that will be fed\n",
    "    # at run time with a training minibatch.\n",
    "    tf_train_dataset = tf.placeholder(tf.float32,shape=(batch_size, image_size * image_size))\n",
    "    tf_train_labels = tf.placeholder(tf.float32, shape=(batch_size, num_labels))\n",
    "    tf_valid_dataset = tf.constant(valid_dataset_golden)\n",
    "    tf_test_dataset = tf.constant(test_dataset_golden)\n",
    "  \n",
    "    # Variables.\n",
    "    weights1 = tf.Variable(tf.truncated_normal([image_size * image_size, n_hiddden]))\n",
    "    biases1 = tf.Variable(tf.zeros([n_hiddden]))\n",
    "    weights2 = tf.Variable(tf.truncated_normal([n_hiddden, num_labels]))\n",
    "    biases2 = tf.Variable(tf.zeros([num_labels]))\n",
    "    \n",
    "    # Training computation.\n",
    "    hidden1 = tf.nn.relu(tf.matmul(tf_train_dataset, weights1) + biases1)\n",
    "\n",
    "    logits = tf.matmul(hidden1, weights2) + biases2\n",
    "    loss = tf.reduce_mean(tf.nn.softmax_cross_entropy_with_logits(labels=tf_train_labels, logits=logits))\n",
    "    \n",
    "    # Optimizer.\n",
    "    optimizer = tf.train.GradientDescentOptimizer(0.5).minimize(loss)\n",
    "  \n",
    "    hidden1_valid = tf.nn.relu(tf.matmul(tf_valid_dataset, weights1) + biases1)\n",
    "    hidden1_test  = tf.nn.relu(tf.matmul(tf_test_dataset, weights1) + biases1)\n",
    "    # Predictions for the training, validation, and test data.\n",
    "    train_prediction = tf.nn.softmax(logits)\n",
    "    valid_prediction = tf.nn.softmax(tf.matmul(hidden1_valid, weights2) + biases2)\n",
    "    test_prediction = tf.nn.softmax(tf.matmul(hidden1_test, weights2) + biases2)"
   ]
  },
  {
   "cell_type": "code",
   "execution_count": 27,
   "metadata": {},
   "outputs": [
    {
     "name": "stdout",
     "output_type": "stream",
     "text": [
      "Initialized\n",
      "Minibatch loss at step 0: 344.023743\n",
      "Minibatch accuracy: 9.4%\n",
      "Validation accuracy: 20.0%\n",
      "Minibatch loss at step 500: 31.714298\n",
      "Minibatch accuracy: 82.0%\n",
      "Validation accuracy: 78.1%\n",
      "Minibatch loss at step 1000: 8.496065\n",
      "Minibatch accuracy: 83.6%\n",
      "Validation accuracy: 80.3%\n",
      "Minibatch loss at step 1500: 5.148764\n",
      "Minibatch accuracy: 89.8%\n",
      "Validation accuracy: 80.4%\n",
      "Minibatch loss at step 2000: 3.668510\n",
      "Minibatch accuracy: 85.2%\n",
      "Validation accuracy: 80.5%\n",
      "Minibatch loss at step 2500: 3.269677\n",
      "Minibatch accuracy: 83.6%\n",
      "Validation accuracy: 80.8%\n",
      "Minibatch loss at step 3000: 2.203094\n",
      "Minibatch accuracy: 83.6%\n",
      "Validation accuracy: 81.4%\n",
      "Minibatch loss at step 3500: 2.946273\n",
      "Minibatch accuracy: 81.2%\n",
      "Validation accuracy: 81.6%\n",
      "Minibatch loss at step 4000: 4.216758\n",
      "Minibatch accuracy: 85.2%\n",
      "Validation accuracy: 80.1%\n",
      "Minibatch loss at step 4500: 6.197619\n",
      "Minibatch accuracy: 87.5%\n",
      "Validation accuracy: 81.0%\n",
      "Minibatch loss at step 5000: 4.272243\n",
      "Minibatch accuracy: 87.5%\n",
      "Validation accuracy: 80.5%\n",
      "Test accuracy: 87.6%\n"
     ]
    }
   ],
   "source": [
    "num_steps = 5001\n",
    "\n",
    "with tf.Session(graph=graph) as session:\n",
    "    tf.global_variables_initializer().run()\n",
    "    print(\"Initialized\")\n",
    "    for step in range(num_steps):\n",
    "        # Pick an offset within the training data, which has been randomized.\n",
    "        # Note: we could use better randomization across epochs.\n",
    "        offset = (step * batch_size) % (train_labels_golden.shape[0] - batch_size)\n",
    "        # Generate a minibatch.\n",
    "        batch_data = train_dataset_golden[offset:(offset + batch_size), :]\n",
    "        batch_labels = train_labels_golden[offset:(offset + batch_size), :]\n",
    "        # Prepare a dictionary telling the session where to feed the minibatch.\n",
    "        # The key of the dictionary is the placeholder node of the graph to be fed,\n",
    "        # and the value is the numpy array to feed to it.\n",
    "        feed_dict = {tf_train_dataset : batch_data, tf_train_labels : batch_labels}\n",
    "        _, l, predictions = session.run([optimizer, loss, train_prediction], feed_dict=feed_dict)\n",
    "        if (step % 500 == 0):\n",
    "            print(\"Minibatch loss at step %d: %f\" % (step, l))\n",
    "            print(\"Minibatch accuracy: %.1f%%\" % accuracy(predictions, batch_labels))\n",
    "            print(\"Validation accuracy: %.1f%%\" % accuracy(valid_prediction.eval(), valid_labels_golden))\n",
    "    print(\"Test accuracy: %.1f%%\" % accuracy(test_prediction.eval(), test_labels_golden))"
   ]
  },
  {
   "cell_type": "markdown",
   "metadata": {},
   "source": [
    "# 3 .L2-Regularization loss for Training"
   ]
  },
  {
   "cell_type": "markdown",
   "metadata": {
    "colab_type": "text",
    "id": "sgLbUAQ1CW-1"
   },
   "source": [
    "---\n",
    "Problem 1\n",
    "---------\n",
    "\n",
    "Introduce and tune L2 regularization for both logistic and neural network models. Remember that L2 amounts to adding a penalty on the norm of the weights to the loss. In TensorFlow, you can compute the L2 loss for a tensor `t` using `nn.l2_loss(t)`. The right amount of regularization should improve your validation / test accuracy.\n",
    "\n",
    "---"
   ]
  },
  {
   "cell_type": "code",
   "execution_count": 32,
   "metadata": {},
   "outputs": [],
   "source": [
    "batch_size = 128\n",
    "n_hiddden = 1024\n",
    "image_size = 28\n",
    "graph = tf.Graph()\n",
    "with graph.as_default():\n",
    "\n",
    "    # Input data. For the training data, we use a placeholder that will be fed\n",
    "    # at run time with a training minibatch.\n",
    "    tf_train_dataset = tf.placeholder(tf.float32,shape=(batch_size, image_size * image_size))\n",
    "    tf_train_labels = tf.placeholder(tf.float32, shape=(batch_size, num_labels))\n",
    "    tf_valid_dataset = tf.constant(valid_dataset_golden)\n",
    "    tf_test_dataset = tf.constant(test_dataset_golden)\n",
    "  \n",
    "    # Variables.\n",
    "    weights1 = tf.Variable(tf.truncated_normal([image_size * image_size, n_hiddden]))\n",
    "    biases1 = tf.Variable(tf.zeros([n_hiddden]))\n",
    "    weights2 = tf.Variable(tf.truncated_normal([n_hiddden, num_labels]))\n",
    "    biases2 = tf.Variable(tf.zeros([num_labels]))\n",
    "    \n",
    "    # Training computation.\n",
    "    hidden1 = tf.nn.relu(tf.matmul(tf_train_dataset, weights1) + biases1)\n",
    "\n",
    "    logits = tf.matmul(hidden1, weights2) + biases2\n",
    "    \n",
    "    tf.add_to_collection(tf.GraphKeys.WEIGHTS, weights1)\n",
    "    tf.add_to_collection(tf.GraphKeys.WEIGHTS, weights2)\n",
    "    regularizer = tf.contrib.layers.l2_regularizer(scale=0.08/ batch_size)\n",
    "    reg_term = tf.contrib.layers.apply_regularization(regularizer)\n",
    "    \n",
    "    loss = tf.reduce_mean(tf.nn.softmax_cross_entropy_with_logits(labels=tf_train_labels, logits=logits)+reg_term)\n",
    "    \n",
    "    # Optimizer.\n",
    "    optimizer = tf.train.GradientDescentOptimizer(0.5).minimize(loss)\n",
    "  \n",
    "    hidden1_valid = tf.nn.relu(tf.matmul(tf_valid_dataset, weights1) + biases1)\n",
    "    hidden1_test  = tf.nn.relu(tf.matmul(tf_test_dataset, weights1) + biases1)\n",
    "    # Predictions for the training, validation, and test data.\n",
    "    train_prediction = tf.nn.softmax(logits)\n",
    "    valid_prediction = tf.nn.softmax(tf.matmul(hidden1_valid, weights2) + biases2)\n",
    "    test_prediction = tf.nn.softmax(tf.matmul(hidden1_test, weights2) + biases2)"
   ]
  },
  {
   "cell_type": "code",
   "execution_count": 33,
   "metadata": {},
   "outputs": [
    {
     "name": "stdout",
     "output_type": "stream",
     "text": [
      "Initialized\n",
      "Minibatch loss at step 0: 635.676636\n",
      "Minibatch accuracy: 6.2%\n",
      "Validation accuracy: 26.3%\n",
      "Minibatch loss at step 500: 156.655884\n",
      "Minibatch accuracy: 82.8%\n",
      "Validation accuracy: 77.7%\n",
      "Minibatch loss at step 1000: 104.948555\n",
      "Minibatch accuracy: 82.0%\n",
      "Validation accuracy: 80.5%\n",
      "Minibatch loss at step 1500: 75.252083\n",
      "Minibatch accuracy: 91.4%\n",
      "Validation accuracy: 80.2%\n",
      "Minibatch loss at step 2000: 54.558167\n",
      "Minibatch accuracy: 89.8%\n",
      "Validation accuracy: 82.5%\n",
      "Minibatch loss at step 2500: 39.762455\n",
      "Minibatch accuracy: 89.1%\n",
      "Validation accuracy: 82.7%\n",
      "Minibatch loss at step 3000: 29.153934\n",
      "Minibatch accuracy: 85.9%\n",
      "Validation accuracy: 84.4%\n",
      "Minibatch loss at step 3500: 21.539707\n",
      "Minibatch accuracy: 85.9%\n",
      "Validation accuracy: 84.7%\n",
      "Minibatch loss at step 4000: 15.680416\n",
      "Minibatch accuracy: 92.2%\n",
      "Validation accuracy: 85.8%\n",
      "Minibatch loss at step 4500: 11.609113\n",
      "Minibatch accuracy: 91.4%\n",
      "Validation accuracy: 85.7%\n",
      "Minibatch loss at step 5000: 8.563579\n",
      "Minibatch accuracy: 92.2%\n",
      "Validation accuracy: 86.6%\n",
      "Test accuracy: 93.2%\n"
     ]
    }
   ],
   "source": [
    "num_steps = 5001\n",
    "\n",
    "with tf.Session(graph=graph) as session:\n",
    "    tf.global_variables_initializer().run()\n",
    "    print(\"Initialized\")\n",
    "    for step in range(num_steps):\n",
    "        # Pick an offset within the training data, which has been randomized.\n",
    "        # Note: we could use better randomization across epochs.\n",
    "        offset = (step * batch_size) % (train_labels_golden.shape[0] - batch_size)\n",
    "        # Generate a minibatch.\n",
    "        batch_data = train_dataset_golden[offset:(offset + batch_size), :]\n",
    "        batch_labels = train_labels_golden[offset:(offset + batch_size), :]\n",
    "        # Prepare a dictionary telling the session where to feed the minibatch.\n",
    "        # The key of the dictionary is the placeholder node of the graph to be fed,\n",
    "        # and the value is the numpy array to feed to it.\n",
    "        feed_dict = {tf_train_dataset : batch_data, tf_train_labels : batch_labels}\n",
    "        _, l, predictions = session.run([optimizer, loss, train_prediction], feed_dict=feed_dict)\n",
    "        if (step % 500 == 0):\n",
    "            print(\"Minibatch loss at step %d: %f\" % (step, l))\n",
    "            print(\"Minibatch accuracy: %.1f%%\" % accuracy(predictions, batch_labels))\n",
    "            print(\"Validation accuracy: %.1f%%\" % accuracy(valid_prediction.eval(), valid_labels_golden))\n",
    "    print(\"Test accuracy: %.1f%%\" % accuracy(test_prediction.eval(), test_labels_golden))"
   ]
  },
  {
   "cell_type": "markdown",
   "metadata": {
    "colab_type": "text",
    "id": "na8xX2yHZzNF"
   },
   "source": [
    "---\n",
    "Problem 2\n",
    "---------\n",
    "Let's demonstrate an extreme case of overfitting. Restrict your training data to just a few batches. What happens?\n",
    "\n",
    "---"
   ]
  },
  {
   "cell_type": "code",
   "execution_count": 34,
   "metadata": {},
   "outputs": [],
   "source": [
    "train_subset = 1000\n",
    "\n",
    "graph = tf.Graph()\n",
    "with graph.as_default():\n",
    "\n",
    "    # Input data.\n",
    "    # Load the training, validation and test data into constants that are\n",
    "    # attached to the graph.\n",
    "    tf_train_dataset = tf.constant(train_dataset_golden[:train_subset, :])\n",
    "    tf_train_labels = tf.constant(train_labels_golden[:train_subset])\n",
    "    tf_valid_dataset = tf.constant(valid_dataset_golden)\n",
    "    tf_test_dataset = tf.constant(test_dataset_golden)\n",
    "    # Variables.\n",
    "    weights1 = tf.Variable(tf.truncated_normal([image_size * image_size, n_hiddden]))\n",
    "    biases1 = tf.Variable(tf.zeros([n_hiddden]))\n",
    "    weights2 = tf.Variable(tf.truncated_normal([n_hiddden, num_labels]))\n",
    "    biases2 = tf.Variable(tf.zeros([num_labels]))\n",
    "    \n",
    "    # Training computation.\n",
    "    hidden1 = tf.nn.relu(tf.matmul(tf_train_dataset, weights1) + biases1)\n",
    "\n",
    "    logits = tf.matmul(hidden1, weights2) + biases2\n",
    "    \n",
    "    tf.add_to_collection(tf.GraphKeys.WEIGHTS, weights1)\n",
    "    tf.add_to_collection(tf.GraphKeys.WEIGHTS, weights2)\n",
    "    regularizer = tf.contrib.layers.l2_regularizer(scale=0.08/ batch_size)\n",
    "    reg_term = tf.contrib.layers.apply_regularization(regularizer)\n",
    "    \n",
    "    loss = tf.reduce_mean(tf.nn.softmax_cross_entropy_with_logits(labels=tf_train_labels, logits=logits)+reg_term)\n",
    "    \n",
    "    # Optimizer.\n",
    "    optimizer = tf.train.GradientDescentOptimizer(0.5).minimize(loss)\n",
    "  \n",
    "    hidden1_valid = tf.nn.relu(tf.matmul(tf_valid_dataset, weights1) + biases1)\n",
    "    hidden1_test  = tf.nn.relu(tf.matmul(tf_test_dataset, weights1) + biases1)\n",
    "    # Predictions for the training, validation, and test data.\n",
    "    train_prediction = tf.nn.softmax(logits)\n",
    "    valid_prediction = tf.nn.softmax(tf.matmul(hidden1_valid, weights2) + biases2)\n",
    "    test_prediction = tf.nn.softmax(tf.matmul(hidden1_test, weights2) + biases2)"
   ]
  },
  {
   "cell_type": "code",
   "execution_count": 37,
   "metadata": {},
   "outputs": [
    {
     "name": "stdout",
     "output_type": "stream",
     "text": [
      "Initialized\n",
      "Loss at step 0: 513.982727\n",
      "Training accuracy: 12.2%\n",
      "Validation accuracy: 32.0%\n",
      "Loss at step 100: 184.099594\n",
      "Training accuracy: 100.0%\n",
      "Validation accuracy: 76.0%\n",
      "Loss at step 200: 172.943848\n",
      "Training accuracy: 100.0%\n",
      "Validation accuracy: 76.0%\n",
      "Loss at step 300: 162.464111\n",
      "Training accuracy: 100.0%\n",
      "Validation accuracy: 76.0%\n",
      "Loss at step 400: 152.619400\n",
      "Training accuracy: 100.0%\n",
      "Validation accuracy: 76.0%\n",
      "Loss at step 500: 143.371246\n",
      "Training accuracy: 100.0%\n",
      "Validation accuracy: 76.0%\n",
      "Loss at step 600: 134.683502\n",
      "Training accuracy: 100.0%\n",
      "Validation accuracy: 76.0%\n",
      "Loss at step 700: 126.522217\n",
      "Training accuracy: 100.0%\n",
      "Validation accuracy: 75.9%\n",
      "Loss at step 800: 118.855469\n",
      "Training accuracy: 100.0%\n",
      "Validation accuracy: 76.0%\n",
      "Loss at step 900: 111.653267\n",
      "Training accuracy: 100.0%\n",
      "Validation accuracy: 76.0%\n",
      "Loss at step 1000: 104.887520\n",
      "Training accuracy: 100.0%\n",
      "Validation accuracy: 76.0%\n",
      "Test accuracy: 83.4%\n"
     ]
    }
   ],
   "source": [
    "num_steps = 1001\n",
    "\n",
    "\n",
    "with tf.Session(graph=graph) as session:\n",
    "    # This is a one-time operation which ensures the parameters get initialized as\n",
    "    # we described in the graph: random weights for the matrix, zeros for the\n",
    "    # biases. \n",
    "    tf.global_variables_initializer().run()\n",
    "    print('Initialized')\n",
    "    for step in range(num_steps):\n",
    "        # Run the computations. We tell .run() that we want to run the optimizer,\n",
    "        # and get the loss value and the training predictions returned as numpy\n",
    "        # arrays.\n",
    "        _, l, predictions = session.run([optimizer, loss, train_prediction])\n",
    "        if (step % 100 == 0):\n",
    "            print('Loss at step %d: %f' % (step, l))\n",
    "            print('Training accuracy: %.1f%%' % accuracy(predictions, train_labels_golden[:train_subset, :]))\n",
    "            # Calling .eval() on valid_prediction is basically like calling run(), but\n",
    "            # just to get that one numpy array. Note that it recomputes all its graph\n",
    "            # dependencies.\n",
    "            print('Validation accuracy: %.1f%%' % accuracy(valid_prediction.eval(), valid_labels_golden))\n",
    "    print('Test accuracy: %.1f%%' % accuracy(test_prediction.eval(), test_labels_golden))"
   ]
  },
  {
   "cell_type": "markdown",
   "metadata": {
    "colab_type": "text",
    "id": "ww3SCBUdlkRc"
   },
   "source": [
    "---\n",
    "Problem 3\n",
    "---------\n",
    "Introduce Dropout on the hidden layer of the neural network. Remember: Dropout should only be introduced during training, not evaluation, otherwise your evaluation results would be stochastic as well. TensorFlow provides `nn.dropout()` for that, but you have to make sure it's only inserted during training.\n",
    "\n",
    "What happens to our extreme overfitting case?\n",
    "\n",
    "---"
   ]
  },
  {
   "cell_type": "code",
   "execution_count": 38,
   "metadata": {},
   "outputs": [],
   "source": [
    "tf.nn.dropout?"
   ]
  },
  {
   "cell_type": "code",
   "execution_count": 17,
   "metadata": {},
   "outputs": [
    {
     "name": "stdout",
     "output_type": "stream",
     "text": [
      "WARNING:tensorflow:From <ipython-input-17-01267e6d35d4>:31: softmax_cross_entropy_with_logits (from tensorflow.python.ops.nn_ops) is deprecated and will be removed in a future version.\n",
      "Instructions for updating:\n",
      "\n",
      "Future major versions of TensorFlow will allow gradients to flow\n",
      "into the labels input on backprop by default.\n",
      "\n",
      "See @{tf.nn.softmax_cross_entropy_with_logits_v2}.\n",
      "\n"
     ]
    }
   ],
   "source": [
    "train_subset = 1000\n",
    "batch_size = 128\n",
    "n_hiddden = 1024\n",
    "image_size = 28\n",
    "graph = tf.Graph()\n",
    "with graph.as_default():\n",
    "\n",
    "    # Input data.\n",
    "    # Load the training, validation and test data into constants that are\n",
    "    # attached to the graph.\n",
    "    tf_train_dataset = tf.constant(train_dataset_golden[:train_subset, :])\n",
    "    tf_train_labels = tf.constant(train_labels_golden[:train_subset])\n",
    "    tf_valid_dataset = tf.constant(valid_dataset_golden)\n",
    "    tf_test_dataset = tf.constant(test_dataset_golden)\n",
    "    # Variables.\n",
    "    weights1 = tf.Variable(tf.truncated_normal([image_size * image_size, n_hiddden]))\n",
    "    biases1 = tf.Variable(tf.zeros([n_hiddden]))\n",
    "    weights2 = tf.Variable(tf.truncated_normal([n_hiddden, num_labels]))\n",
    "    biases2 = tf.Variable(tf.zeros([num_labels]))\n",
    "    \n",
    "    # Training computation.\n",
    "    hidden1 = tf.nn.dropout(tf.nn.relu(tf.matmul(tf_train_dataset, weights1) + biases1),keep_prob=0.1)\n",
    "    \n",
    "    logits = tf.matmul(hidden1, weights2) + biases2\n",
    "    \n",
    "    tf.add_to_collection(tf.GraphKeys.WEIGHTS, weights1)\n",
    "    tf.add_to_collection(tf.GraphKeys.WEIGHTS, weights2)\n",
    "    regularizer = tf.contrib.layers.l2_regularizer(scale=0.08/ batch_size)\n",
    "    reg_term = tf.contrib.layers.apply_regularization(regularizer)\n",
    "    \n",
    "    loss = tf.reduce_mean(tf.nn.softmax_cross_entropy_with_logits(labels=tf_train_labels, logits=logits)+reg_term)\n",
    "    \n",
    "    # Optimizer.\n",
    "    optimizer = tf.train.GradientDescentOptimizer(0.5).minimize(loss)\n",
    "  \n",
    "    hidden1_valid = tf.nn.relu(tf.matmul(tf_valid_dataset, weights1) + biases1)\n",
    "    hidden1_test  = tf.nn.relu(tf.matmul(tf_test_dataset, weights1) + biases1)\n",
    "    # Predictions for the training, validation, and test data.\n",
    "    train_prediction = tf.nn.softmax(logits)\n",
    "    valid_prediction = tf.nn.softmax(tf.matmul(hidden1_valid, weights2) + biases2)\n",
    "    test_prediction = tf.nn.softmax(tf.matmul(hidden1_test, weights2) + biases2)"
   ]
  },
  {
   "cell_type": "code",
   "execution_count": 18,
   "metadata": {},
   "outputs": [
    {
     "name": "stdout",
     "output_type": "stream",
     "text": [
      "Initialized\n",
      "Loss at step 0: 1282.195435\n",
      "Training accuracy: 10.0%\n",
      "Validation accuracy: 41.8%\n",
      "Loss at step 100: 202.350006\n",
      "Training accuracy: 80.8%\n",
      "Validation accuracy: 79.3%\n",
      "Loss at step 200: 178.446213\n",
      "Training accuracy: 88.1%\n",
      "Validation accuracy: 79.2%\n",
      "Loss at step 300: 164.106262\n",
      "Training accuracy: 90.1%\n",
      "Validation accuracy: 79.2%\n",
      "Loss at step 400: 153.643051\n",
      "Training accuracy: 92.1%\n",
      "Validation accuracy: 79.3%\n",
      "Loss at step 500: 143.436691\n",
      "Training accuracy: 91.8%\n",
      "Validation accuracy: 79.1%\n",
      "Loss at step 600: 133.425980\n",
      "Training accuracy: 94.9%\n",
      "Validation accuracy: 79.0%\n",
      "Loss at step 700: 125.754662\n",
      "Training accuracy: 94.3%\n",
      "Validation accuracy: 79.2%\n",
      "Loss at step 800: 117.788696\n",
      "Training accuracy: 95.1%\n",
      "Validation accuracy: 79.0%\n",
      "Loss at step 900: 110.585205\n",
      "Training accuracy: 94.4%\n",
      "Validation accuracy: 79.1%\n",
      "Loss at step 1000: 103.738647\n",
      "Training accuracy: 95.9%\n",
      "Validation accuracy: 79.0%\n",
      "Test accuracy: 86.3%\n"
     ]
    }
   ],
   "source": [
    "num_steps = 1001\n",
    "\n",
    "\n",
    "with tf.Session(graph=graph) as session:\n",
    "    # This is a one-time operation which ensures the parameters get initialized as\n",
    "    # we described in the graph: random weights for the matrix, zeros for the\n",
    "    # biases. \n",
    "    tf.global_variables_initializer().run()\n",
    "    print('Initialized')\n",
    "    for step in range(num_steps):\n",
    "        # Run the computations. We tell .run() that we want to run the optimizer,\n",
    "        # and get the loss value and the training predictions returned as numpy\n",
    "        # arrays.\n",
    "        _, l, predictions = session.run([optimizer, loss, train_prediction])\n",
    "        if (step % 100 == 0):\n",
    "            print('Loss at step %d: %f' % (step, l))\n",
    "            print('Training accuracy: %.1f%%' % accuracy(predictions, train_labels_golden[:train_subset, :]))\n",
    "            # Calling .eval() on valid_prediction is basically like calling run(), but\n",
    "            # just to get that one numpy array. Note that it recomputes all its graph\n",
    "            # dependencies.\n",
    "            print('Validation accuracy: %.1f%%' % accuracy(valid_prediction.eval(), valid_labels_golden))\n",
    "    print('Test accuracy: %.1f%%' % accuracy(test_prediction.eval(), test_labels_golden))"
   ]
  },
  {
   "cell_type": "markdown",
   "metadata": {
    "colab_type": "text",
    "id": "-b1hTz3VWZjw"
   },
   "source": [
    "---\n",
    "Problem 4\n",
    "---------\n",
    "\n",
    "Try to get the best performance you can using a multi-layer model! The best reported test accuracy using a deep network is [97.1%](http://yaroslavvb.blogspot.com/2011/09/notmnist-dataset.html?showComment=1391023266211#c8758720086795711595).\n",
    "\n",
    "One avenue you can explore is to add multiple layers.\n",
    "\n",
    "Another one is to use learning rate decay:\n",
    "\n",
    "    global_step = tf.Variable(0)  # count the number of steps taken.\n",
    "    learning_rate = tf.train.exponential_decay(0.5, global_step, ...)\n",
    "    optimizer = tf.train.GradientDescentOptimizer(learning_rate).minimize(loss, global_step=global_step)\n",
    " \n",
    " ---\n"
   ]
  },
  {
   "cell_type": "code",
   "execution_count": 49,
   "metadata": {},
   "outputs": [],
   "source": [
    "tf.train.exponential_decay?"
   ]
  },
  {
   "cell_type": "code",
   "execution_count": 32,
   "metadata": {},
   "outputs": [],
   "source": [
    "\n",
    "batch_size = 2000\n",
    "n_hiddden1 = 2000\n",
    "n_hiddden2 = 3000\n",
    "image_size = 28\n",
    "num_steps = 10001\n",
    "graph = tf.Graph()\n",
    "with graph.as_default():\n",
    "\n",
    "    # Input data.\n",
    "    # Load the training, validation and test data into constants that are\n",
    "    # attached to the graph.\n",
    "    tf_train_dataset = tf.placeholder(tf.float32,shape=(batch_size, image_size * image_size))\n",
    "    tf_train_labels = tf.placeholder(tf.float32, shape=(batch_size, num_labels))\n",
    "    tf_valid_dataset = tf.constant(valid_dataset_golden)\n",
    "    tf_test_dataset = tf.constant(test_dataset_golden)\n",
    "    # Variables.\n",
    "    weights1 = tf.Variable(tf.truncated_normal([image_size * image_size, n_hiddden1]))\n",
    "    #weights1 = tf.Variable(tf.truncated_normal([image_size * image_size, num_labels]))\n",
    "    biases1 = tf.Variable(tf.zeros([n_hiddden1]))\n",
    "    #biases1 = tf.Variable(tf.zeros([num_labels]))\n",
    "    weights2 = tf.Variable(tf.truncated_normal([n_hiddden1, n_hiddden2]))\n",
    "    #weights2 = tf.Variable(tf.truncated_normal([n_hiddden1,num_labels]))\n",
    "    biases2 = tf.Variable(tf.zeros([n_hiddden2]))\n",
    "    #biases2 = tf.Variable(tf.zeros([num_labels]))\n",
    "    weights3 = tf.Variable(tf.truncated_normal([n_hiddden2, num_labels]))\n",
    "    biases3 = tf.Variable(tf.zeros([num_labels]))    \n",
    "    ## Training computation.\n",
    "    ##hidden1 = tf.nn.dropout(tf.nn.relu(tf.matmul(tf_train_dataset, weights1) + biases1),keep_prob=1)\n",
    "    #hidden1 = tf.nn.relu(tf.matmul(tf_train_dataset, weights1) + biases1)\n",
    "    hidden1 = tf.nn.dropout(tf.nn.relu(tf.matmul(tf_train_dataset, weights1) + biases1),keep_prob=0.7)\n",
    "    #hidden2 = tf.nn.relu(tf.matmul(hidden1, weights2) + biases2)\n",
    "    hidden2 = tf.nn.dropout(tf.nn.relu(tf.matmul(hidden1, weights2) + biases2),keep_prob=0.7)\n",
    "    #hidden2 = tf.nn.dropout(tf.nn.relu(tf.matmul(hidden1, weights2) + biases2),keep_prob=0.8)\n",
    "    logits = tf.nn.dropout(tf.matmul(hidden2, weights3) + biases3,keep_prob=1)\n",
    "    #logits = tf.matmul(tf_train_dataset, weights1) + biases1\n",
    "    #logits = tf.matmul(hidden1, weights2) + biases2\n",
    "    \n",
    "    tf.add_to_collection(tf.GraphKeys.WEIGHTS, weights1)\n",
    "    tf.add_to_collection(tf.GraphKeys.WEIGHTS, weights2)\n",
    "    tf.add_to_collection(tf.GraphKeys.WEIGHTS, weights3)\n",
    "    regularizer = tf.contrib.layers.l2_regularizer(scale=10/ 200000)\n",
    "    reg_term = tf.contrib.layers.apply_regularization(regularizer)\n",
    "    \n",
    "    loss = tf.reduce_mean(tf.nn.softmax_cross_entropy_with_logits(labels=tf_train_labels, logits=logits)+reg_term)\n",
    "    #loss = tf.reduce_mean(tf.nn.softmax_cross_entropy_with_logits(labels=tf_train_labels, logits=logits))\n",
    "    #global_step = tf.Variable(0)  # count the number of steps taken.\n",
    "    #learning_rate = tf.train.exponential_decay(0.8,global_step,num_steps//500, 0.96, staircase=True)\n",
    "    #optimizer = tf.train.GradientDescentOptimizer(learning_rate).minimize(loss, global_step=global_step)    \n",
    "    # Optimizer.\n",
    "    optimizer = tf.train.GradientDescentOptimizer(0.01).minimize(loss)\n",
    "  \n",
    "    hidden1_valid = tf.nn.relu(tf.matmul(tf_valid_dataset, weights1) + biases1)\n",
    "    hidden2_valid = tf.nn.relu(tf.matmul(hidden1_valid, weights2) + biases2)\n",
    "    hidden1_test  = tf.nn.relu(tf.matmul(tf_test_dataset, weights1) + biases1)\n",
    "    hidden2_test  = tf.nn.relu(tf.matmul(hidden1_test, weights2) + biases2)\n",
    "    # Predictions for the training, validation, and test data.\n",
    "    train_prediction = tf.nn.softmax(logits)\n",
    "    #valid_prediction = tf.nn.softmax(tf.matmul(tf_valid_dataset, weights1) + biases1)\n",
    "    #test_prediction = tf.nn.softmax(tf.matmul(tf_test_dataset, weights1) + biases1)\n",
    "    #valid_prediction = tf.nn.softmax(tf.matmul(hidden1_valid, weights2) + biases2)\n",
    "    #test_prediction = tf.nn.softmax(tf.matmul(hidden1_test, weights2) + biases2)\n",
    "    valid_prediction = tf.nn.softmax(tf.matmul(hidden2_valid, weights3) + biases3)\n",
    "    test_prediction = tf.nn.softmax(tf.matmul(hidden2_test, weights3) + biases3)"
   ]
  },
  {
   "cell_type": "code",
   "execution_count": 33,
   "metadata": {},
   "outputs": [
    {
     "name": "stdout",
     "output_type": "stream",
     "text": [
      "Initialized\n",
      "Minibatch loss at step 0: 24520.087891\n",
      "Minibatch accuracy: 10.1%\n",
      "Validation accuracy: 31.2%\n",
      "Minibatch loss at step 500: 630.076721\n",
      "Minibatch accuracy: 79.2%\n",
      "Validation accuracy: 84.2%\n",
      "Minibatch loss at step 1000: 418.691711\n",
      "Minibatch accuracy: 80.8%\n",
      "Validation accuracy: 85.0%\n",
      "Minibatch loss at step 1500: 303.491638\n",
      "Minibatch accuracy: 82.5%\n",
      "Validation accuracy: 85.0%\n",
      "Minibatch loss at step 2000: 249.283691\n",
      "Minibatch accuracy: 83.3%\n",
      "Validation accuracy: 85.1%\n",
      "Minibatch loss at step 2500: 220.611618\n",
      "Minibatch accuracy: 82.5%\n",
      "Validation accuracy: 84.8%\n",
      "Minibatch loss at step 3000: 206.766846\n",
      "Minibatch accuracy: 82.3%\n",
      "Validation accuracy: 84.5%\n",
      "Minibatch loss at step 3500: 192.716217\n",
      "Minibatch accuracy: 80.9%\n",
      "Validation accuracy: 84.0%\n",
      "Minibatch loss at step 4000: 179.812256\n",
      "Minibatch accuracy: 80.5%\n",
      "Validation accuracy: 83.2%\n",
      "Minibatch loss at step 4500: 173.842697\n",
      "Minibatch accuracy: 80.2%\n",
      "Validation accuracy: 82.4%\n",
      "Minibatch loss at step 5000: 171.823227\n",
      "Minibatch accuracy: 79.3%\n",
      "Validation accuracy: 82.0%\n",
      "Minibatch loss at step 5500: 165.570236\n",
      "Minibatch accuracy: 80.5%\n",
      "Validation accuracy: 83.3%\n",
      "Minibatch loss at step 6000: 168.001251\n",
      "Minibatch accuracy: 77.0%\n",
      "Validation accuracy: 81.8%\n",
      "Minibatch loss at step 6500: 159.247101\n",
      "Minibatch accuracy: 79.4%\n",
      "Validation accuracy: 82.9%\n",
      "Minibatch loss at step 7000: 159.282379\n",
      "Minibatch accuracy: 77.5%\n",
      "Validation accuracy: 81.4%\n",
      "Minibatch loss at step 7500: 157.090210\n",
      "Minibatch accuracy: 77.2%\n",
      "Validation accuracy: 81.1%\n",
      "Minibatch loss at step 8000: 155.659134\n",
      "Minibatch accuracy: 76.5%\n",
      "Validation accuracy: 79.8%\n",
      "Minibatch loss at step 8500: 155.348953\n",
      "Minibatch accuracy: 76.6%\n",
      "Validation accuracy: 80.4%\n",
      "Minibatch loss at step 9000: 153.386810\n",
      "Minibatch accuracy: 76.8%\n",
      "Validation accuracy: 81.3%\n",
      "Minibatch loss at step 9500: 151.231140\n",
      "Minibatch accuracy: 78.0%\n",
      "Validation accuracy: 81.3%\n",
      "Minibatch loss at step 10000: 152.191498\n",
      "Minibatch accuracy: 77.0%\n",
      "Validation accuracy: 81.2%\n",
      "Test accuracy: 88.0%\n"
     ]
    }
   ],
   "source": [
    "\n",
    "\n",
    "with tf.Session(graph=graph) as session:\n",
    "    tf.global_variables_initializer().run()\n",
    "    print(\"Initialized\")\n",
    "    for step in range(num_steps):\n",
    "        # Pick an offset within the training data, which has been randomized.\n",
    "        # Note: we could use better randomization across epochs.\n",
    "        offset = (step * batch_size) % (train_labels_golden.shape[0] - batch_size)\n",
    "        # Generate a minibatch.\n",
    "        batch_data = train_dataset_golden[offset:(offset + batch_size), :]\n",
    "        batch_labels = train_labels_golden[offset:(offset + batch_size), :]\n",
    "        # Prepare a dictionary telling the session where to feed the minibatch.\n",
    "        # The key of the dictionary is the placeholder node of the graph to be fed,\n",
    "        # and the value is the numpy array to feed to it.\n",
    "        feed_dict = {tf_train_dataset : batch_data, tf_train_labels : batch_labels}\n",
    "        _,  l, predictions = session.run([optimizer,loss, train_prediction], feed_dict=feed_dict)\n",
    "        if (step % 500 == 0):\n",
    "            #print('learning rate: '.format(lr))\n",
    "            print(\"Minibatch loss at step %d: %f\" % (step, l))\n",
    "            print(\"Minibatch accuracy: %.1f%%\" % accuracy(predictions, batch_labels))\n",
    "            print(\"Validation accuracy: %.1f%%\" % accuracy(valid_prediction.eval(), valid_labels_golden))\n",
    "    print(\"Test accuracy: %.1f%%\" % accuracy(test_prediction.eval(), test_labels_golden))"
   ]
  },
  {
   "cell_type": "code",
   "execution_count": null,
   "metadata": {},
   "outputs": [],
   "source": []
  }
 ],
 "metadata": {
  "kernelspec": {
   "display_name": "Python 3",
   "language": "python",
   "name": "python3"
  },
  "language_info": {
   "codemirror_mode": {
    "name": "ipython",
    "version": 3
   },
   "file_extension": ".py",
   "mimetype": "text/x-python",
   "name": "python",
   "nbconvert_exporter": "python",
   "pygments_lexer": "ipython3",
   "version": "3.6.6"
  }
 },
 "nbformat": 4,
 "nbformat_minor": 2
}
